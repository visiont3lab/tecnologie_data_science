{
 "cells": [
  {
   "cell_type": "markdown",
   "metadata": {
    "colab_type": "text",
    "id": "zUzRs6jMWvEV"
   },
   "source": [
    "<a href=\"https://colab.research.google.com/github/visiont3lab/tecnologie_data_science/blob/master/book/docs/pyspark/Iris_pyspark.ipynb\n",
    "\" target=\"_parent\"><img src=\"https://colab.research.google.com/assets/colab-badge.svg\" alt=\"Open In Colab\"/></a>"
   ]
  },
  {
   "cell_type": "markdown",
   "metadata": {
    "colab_type": "text",
    "id": "lnPF-OWqWvEY"
   },
   "source": [
    "## PYSPARK"
   ]
  },
  {
   "cell_type": "code",
   "execution_count": null,
   "metadata": {
    "colab": {},
    "colab_type": "code",
    "id": "fFqeiV3qxso7"
   },
   "outputs": [],
   "source": [
    "################ template to run PySpark on Colab #######################"
   ]
  },
  {
   "cell_type": "code",
   "execution_count": null,
   "metadata": {
    "colab": {
     "base_uri": "https://localhost:8080/",
     "height": 221
    },
    "colab_type": "code",
    "id": "m6uGlMRavWlb",
    "outputId": "5426b002-f9a8-459d-834b-5619cfb5d5b7"
   },
   "outputs": [
    {
     "name": "stdout",
     "output_type": "stream",
     "text": [
      "-------------------------------------------\n",
      "Time: 2020-06-17 22:17:35\n",
      "-------------------------------------------\n",
      "\n",
      "-------------------------------------------\n",
      "Time: 2020-06-17 22:17:40\n",
      "-------------------------------------------\n",
      "\n",
      "-------------------------------------------\n",
      "Time: 2020-06-17 22:17:45\n",
      "-------------------------------------------\n",
      "\n"
     ]
    }
   ],
   "source": [
    "!apt-get install openjdk-8-jdk-headless -qq > /dev/null\n",
    "!wget -q https://www-us.apache.org/dist/spark/spark-2.4.5/spark-2.4.5-bin-hadoop2.7.tgz\n",
    "!tar xf spark-2.4.5-bin-hadoop2.7.tgz\n",
    "!pip install -q findspark"
   ]
  },
  {
   "cell_type": "code",
   "execution_count": null,
   "metadata": {
    "colab": {},
    "colab_type": "code",
    "id": "f75mt5iLvaI3"
   },
   "outputs": [],
   "source": [
    "import os\n",
    "os.environ[\"JAVA_HOME\"] = \"/usr/lib/jvm/java-8-openjdk-amd64\"\n",
    "os.environ[\"SPARK_HOME\"] = \"/content/spark-2.4.5-bin-hadoop2.7\""
   ]
  },
  {
   "cell_type": "code",
   "execution_count": null,
   "metadata": {
    "colab": {},
    "colab_type": "code",
    "id": "X1NyKr7qvaGP"
   },
   "outputs": [],
   "source": [
    "import findspark\n",
    "findspark.init()\n",
    "\n",
    "from pyspark.sql import SparkSession\n",
    "spark = SparkSession.builder.master(\"local[*]\").getOrCreate()\n",
    "spark1 = SparkSession.builder.appName('basic').getOrCreate()\n",
    "#Test must give no error"
   ]
  },
  {
   "cell_type": "code",
   "execution_count": null,
   "metadata": {
    "colab": {},
    "colab_type": "code",
    "id": "MXYgwjn4vaAH"
   },
   "outputs": [],
   "source": [
    "import pyspark"
   ]
  },
  {
   "cell_type": "code",
   "execution_count": null,
   "metadata": {
    "colab": {},
    "colab_type": "code",
    "id": "08V9HAqMxm9D"
   },
   "outputs": [],
   "source": [
    "################ end template PySpark on Colab ##########################"
   ]
  },
  {
   "cell_type": "markdown",
   "metadata": {
    "colab_type": "text",
    "id": "i1iuUIq8bo6_"
   },
   "source": [
    "## IRIS"
   ]
  },
  {
   "cell_type": "code",
   "execution_count": null,
   "metadata": {
    "colab": {
     "base_uri": "https://localhost:8080/",
     "height": 273
    },
    "colab_type": "code",
    "id": "rkhXfoJzCOtN",
    "outputId": "77de47d1-be40-4430-ee4c-1ed1232fa277"
   },
   "outputs": [
    {
     "name": "stdout",
     "output_type": "stream",
     "text": [
      "-------------------------------------------\n",
      "Time: 2020-06-17 22:19:35\n",
      "-------------------------------------------\n",
      "\n",
      "--2020-06-17 22:19:35--  https://frenzy86.s3.eu-west-2.amazonaws.com/fav/iris.data\n",
      "Resolving frenzy86.s3.eu-west-2.amazonaws.com (frenzy86.s3.eu-west-2.amazonaws.com)... 52.95.149.70\n",
      "Connecting to frenzy86.s3.eu-west-2.amazonaws.com (frenzy86.s3.eu-west-2.amazonaws.com)|52.95.149.70|:443... connected.\n",
      "HTTP request sent, awaiting response... 200 OK\n",
      "Length: 4551 (4.4K) [application/octet-stream]\n",
      "Saving to: ‘iris.data’\n",
      "\n",
      "iris.data           100%[===================>]   4.44K  --.-KB/s    in 0s      \n",
      "\n",
      "2020-06-17 22:19:35 (103 MB/s) - ‘iris.data’ saved [4551/4551]\n",
      "\n"
     ]
    }
   ],
   "source": [
    "!wget \"https://frenzy86.s3.eu-west-2.amazonaws.com/fav/iris.data\"\n",
    "df = spark.read.csv(\"iris.data\", inferSchema=True).toDF(\"sep_len\", \"sep_wid\", \"pet_len\", \"pet_wid\", \"label\")"
   ]
  },
  {
   "cell_type": "code",
   "execution_count": null,
   "metadata": {
    "colab": {
     "base_uri": "https://localhost:8080/",
     "height": 204
    },
    "colab_type": "code",
    "id": "1WGrI4B9WvFO",
    "outputId": "b1e37993-819b-4833-c846-be427b23fce0"
   },
   "outputs": [
    {
     "name": "stdout",
     "output_type": "stream",
     "text": [
      "+-------+-------+-------+-------+-----------+\n",
      "|sep_len|sep_wid|pet_len|pet_wid|      label|\n",
      "+-------+-------+-------+-------+-----------+\n",
      "|    5.1|    3.5|    1.4|    0.2|Iris-setosa|\n",
      "|    4.9|    3.0|    1.4|    0.2|Iris-setosa|\n",
      "|    4.7|    3.2|    1.3|    0.2|Iris-setosa|\n",
      "|    4.6|    3.1|    1.5|    0.2|Iris-setosa|\n",
      "|    5.0|    3.6|    1.4|    0.2|Iris-setosa|\n",
      "+-------+-------+-------+-------+-----------+\n",
      "only showing top 5 rows\n",
      "\n"
     ]
    }
   ],
   "source": [
    "df.show(5)"
   ]
  },
  {
   "cell_type": "markdown",
   "metadata": {
    "colab_type": "text",
    "id": "u4ZbeXbIXnWl"
   },
   "source": [
    "We have to perform some transformations to join all feature columns into a single column using VectorAssembler. To do this, firstly we should make two more imports:"
   ]
  },
  {
   "cell_type": "code",
   "execution_count": null,
   "metadata": {
    "colab": {},
    "colab_type": "code",
    "id": "gMi2J9MAXpDS"
   },
   "outputs": [],
   "source": [
    "from pyspark.ml.linalg import Vectors\n",
    "from pyspark.ml.feature import VectorAssembler"
   ]
  },
  {
   "cell_type": "code",
   "execution_count": null,
   "metadata": {
    "colab": {
     "base_uri": "https://localhost:8080/",
     "height": 170
    },
    "colab_type": "code",
    "id": "zwSf6vyDXsPP",
    "outputId": "ddc6e7a6-fa43-4df6-b9f5-35b6713a4cde"
   },
   "outputs": [
    {
     "name": "stdout",
     "output_type": "stream",
     "text": [
      "+-------+-------+-------+-------+-----------+-----------------+\n",
      "|sep_len|sep_wid|pet_len|pet_wid|      label|         features|\n",
      "+-------+-------+-------+-------+-----------+-----------------+\n",
      "|    5.1|    3.5|    1.4|    0.2|Iris-setosa|[5.1,3.5,1.4,0.2]|\n",
      "|    4.9|    3.0|    1.4|    0.2|Iris-setosa|[4.9,3.0,1.4,0.2]|\n",
      "|    4.7|    3.2|    1.3|    0.2|Iris-setosa|[4.7,3.2,1.3,0.2]|\n",
      "+-------+-------+-------+-------+-----------+-----------------+\n",
      "only showing top 3 rows\n",
      "\n"
     ]
    }
   ],
   "source": [
    "vector_assembler = VectorAssembler(\\\n",
    "inputCols=[\"sep_len\", \"sep_wid\", \"pet_len\", \"pet_wid\"],\\\n",
    "outputCol=\"features\")\n",
    "df_temp = vector_assembler.transform(df)\n",
    "df_temp.show(3)"
   ]
  },
  {
   "cell_type": "markdown",
   "metadata": {
    "colab_type": "text",
    "id": "i8oyy5GJX0_n"
   },
   "source": [
    "Let’s remove unnecessary columns:"
   ]
  },
  {
   "cell_type": "code",
   "execution_count": null,
   "metadata": {
    "colab": {
     "base_uri": "https://localhost:8080/",
     "height": 170
    },
    "colab_type": "code",
    "id": "XcmzRJD_XsMn",
    "outputId": "783d41f9-8386-4b24-93b2-138a2d994018"
   },
   "outputs": [
    {
     "name": "stdout",
     "output_type": "stream",
     "text": [
      "+-----------+-----------------+\n",
      "|      label|         features|\n",
      "+-----------+-----------------+\n",
      "|Iris-setosa|[5.1,3.5,1.4,0.2]|\n",
      "|Iris-setosa|[4.9,3.0,1.4,0.2]|\n",
      "|Iris-setosa|[4.7,3.2,1.3,0.2]|\n",
      "+-----------+-----------------+\n",
      "only showing top 3 rows\n",
      "\n"
     ]
    }
   ],
   "source": [
    "df = df_temp.drop('sep_len', 'sep_wid', 'pet_len', 'pet_wid')\n",
    "df.show(3)"
   ]
  },
  {
   "cell_type": "markdown",
   "metadata": {
    "colab_type": "text",
    "id": "D2tkrWZVX8ze"
   },
   "source": [
    "At this point, we have a dataframe with all necessary data in the appropriate form. Now we should index labels, i.e., convert textual representation to a numeric one with the help of StringIndexer"
   ]
  },
  {
   "cell_type": "code",
   "execution_count": null,
   "metadata": {
    "colab": {
     "base_uri": "https://localhost:8080/",
     "height": 85
    },
    "colab_type": "code",
    "id": "t3UEa8RBXsJ6",
    "outputId": "200332b7-2230-4aa7-946f-1cda6782b8d8"
   },
   "outputs": [
    {
     "name": "stdout",
     "output_type": "stream",
     "text": [
      "-------------------------------------------\n",
      "Time: 2020-06-17 22:22:00\n",
      "-------------------------------------------\n",
      "\n"
     ]
    }
   ],
   "source": [
    "from pyspark.ml.feature import StringIndexer\n",
    "l_indexer = StringIndexer(inputCol=\"label\", outputCol=\"labelIndex\")\n",
    "df = l_indexer.fit(df).transform(df)"
   ]
  },
  {
   "cell_type": "code",
   "execution_count": null,
   "metadata": {
    "colab": {
     "base_uri": "https://localhost:8080/",
     "height": 170
    },
    "colab_type": "code",
    "id": "9Tn7ud3uXsHF",
    "outputId": "71dc7e23-dbde-4d83-bc35-768278db301a"
   },
   "outputs": [
    {
     "name": "stdout",
     "output_type": "stream",
     "text": [
      "+-----------+-----------------+----------+\n",
      "|      label|         features|labelIndex|\n",
      "+-----------+-----------------+----------+\n",
      "|Iris-setosa|[5.1,3.5,1.4,0.2]|       0.0|\n",
      "|Iris-setosa|[4.9,3.0,1.4,0.2]|       0.0|\n",
      "|Iris-setosa|[4.7,3.2,1.3,0.2]|       0.0|\n",
      "+-----------+-----------------+----------+\n",
      "only showing top 3 rows\n",
      "\n"
     ]
    }
   ],
   "source": [
    "df.show(3)"
   ]
  },
  {
   "cell_type": "markdown",
   "metadata": {
    "colab_type": "text",
    "id": "Wk51AjMeYFNC"
   },
   "source": [
    "After label indexing, we should divide our data into training and test sets (20% held out for testing):"
   ]
  },
  {
   "cell_type": "code",
   "execution_count": null,
   "metadata": {
    "colab": {},
    "colab_type": "code",
    "id": "RQLtI326XsEs"
   },
   "outputs": [],
   "source": [
    "(trainingData, testData) = df.randomSplit([0.8, 0.2])\n"
   ]
  },
  {
   "cell_type": "markdown",
   "metadata": {
    "colab_type": "text",
    "id": "ZfDBb5gBYYqj"
   },
   "source": [
    "Now we can apply to our data machine learning algorithms"
   ]
  },
  {
   "cell_type": "markdown",
   "metadata": {
    "colab_type": "text",
    "id": "dJ3ou7MNZzBD"
   },
   "source": [
    "### Logistic Regression"
   ]
  },
  {
   "cell_type": "code",
   "execution_count": null,
   "metadata": {
    "colab": {},
    "colab_type": "code",
    "id": "wK4M6H0qZ4Tw"
   },
   "outputs": [],
   "source": [
    "from pyspark.ml.classification import LogisticRegression\n",
    "from pyspark.ml.evaluation import MulticlassClassificationEvaluator"
   ]
  },
  {
   "cell_type": "code",
   "execution_count": null,
   "metadata": {
    "colab": {},
    "colab_type": "code",
    "id": "-UPIsyDKZ4RN"
   },
   "outputs": [],
   "source": [
    "lr = LogisticRegression(labelCol=\"labelIndex\", featuresCol=\"features\")\n",
    "model = lr.fit(trainingData)"
   ]
  },
  {
   "cell_type": "code",
   "execution_count": null,
   "metadata": {
    "colab": {},
    "colab_type": "code",
    "id": "HrW1lzvCZ4OT"
   },
   "outputs": [],
   "source": [
    "predictions = model.transform(testData)"
   ]
  },
  {
   "cell_type": "code",
   "execution_count": null,
   "metadata": {
    "colab": {
     "base_uri": "https://localhost:8080/",
     "height": 273
    },
    "colab_type": "code",
    "id": "-KJjnTjDZ4Le",
    "outputId": "077e05d5-42bc-4863-ff22-615e73a6fed4"
   },
   "outputs": [
    {
     "name": "stdout",
     "output_type": "stream",
     "text": [
      "-------------------------------------------\n",
      "Time: 2020-06-17 22:32:10\n",
      "-------------------------------------------\n",
      "\n",
      "+----------+----------+\n",
      "|prediction|labelIndex|\n",
      "+----------+----------+\n",
      "|       0.0|       0.0|\n",
      "|       0.0|       0.0|\n",
      "|       0.0|       0.0|\n",
      "|       0.0|       0.0|\n",
      "|       0.0|       0.0|\n",
      "+----------+----------+\n",
      "only showing top 5 rows\n",
      "\n"
     ]
    }
   ],
   "source": [
    "predictions.select(\"prediction\", \"labelIndex\").show(5)"
   ]
  },
  {
   "cell_type": "code",
   "execution_count": null,
   "metadata": {
    "colab": {
     "base_uri": "https://localhost:8080/",
     "height": 51
    },
    "colab_type": "code",
    "id": "i0dMKb1kZ4JI",
    "outputId": "df63c97c-57b3-49ea-fd96-bbdf131c9dac"
   },
   "outputs": [
    {
     "name": "stdout",
     "output_type": "stream",
     "text": [
      "Test Error = 0.09375 \n",
      "Accuracy =  0.90625\n"
     ]
    }
   ],
   "source": [
    "evaluator = MulticlassClassificationEvaluator(\\\n",
    "labelCol=\"labelIndex\", predictionCol=\"prediction\",\\\n",
    "metricName=\"accuracy\")\n",
    "accuracy = evaluator.evaluate(predictions)\n",
    "print(\"Test Error = %g \" % (1.0 - accuracy))\n",
    "print(\"Accuracy = \", accuracy)"
   ]
  },
  {
   "cell_type": "code",
   "execution_count": null,
   "metadata": {
    "colab": {},
    "colab_type": "code",
    "id": "n2Eca6qlZ4D4"
   },
   "outputs": [],
   "source": []
  },
  {
   "cell_type": "markdown",
   "metadata": {
    "colab_type": "text",
    "id": "BcwhMaoEYZ3l"
   },
   "source": [
    "### Decision tree classifier"
   ]
  },
  {
   "cell_type": "code",
   "execution_count": null,
   "metadata": {
    "colab": {
     "base_uri": "https://localhost:8080/",
     "height": 85
    },
    "colab_type": "code",
    "id": "qYR-EZ_iYZZ2",
    "outputId": "4d69849e-87fa-465a-ab4a-c03929c4fa7a"
   },
   "outputs": [
    {
     "name": "stdout",
     "output_type": "stream",
     "text": [
      "-------------------------------------------\n",
      "Time: 2020-06-17 22:33:55\n",
      "-------------------------------------------\n",
      "\n"
     ]
    }
   ],
   "source": [
    "from pyspark.ml.classification import DecisionTreeClassifier"
   ]
  },
  {
   "cell_type": "code",
   "execution_count": null,
   "metadata": {
    "colab": {},
    "colab_type": "code",
    "id": "QdVHpsgRXsCK"
   },
   "outputs": [],
   "source": [
    "dt = DecisionTreeClassifier(labelCol=\"labelIndex\", featuresCol=\"features\")\n",
    "model = dt.fit(trainingData)"
   ]
  },
  {
   "cell_type": "code",
   "execution_count": null,
   "metadata": {
    "colab": {},
    "colab_type": "code",
    "id": "FsLnNdogXr_3"
   },
   "outputs": [],
   "source": [
    "predictions = model.transform(testData)"
   ]
  },
  {
   "cell_type": "code",
   "execution_count": null,
   "metadata": {
    "colab": {
     "base_uri": "https://localhost:8080/",
     "height": 204
    },
    "colab_type": "code",
    "id": "cGpnu6GKXr9c",
    "outputId": "79913371-9d9c-4816-b0b9-a1e75a5dbad0"
   },
   "outputs": [
    {
     "name": "stdout",
     "output_type": "stream",
     "text": [
      "+----------+----------+\n",
      "|prediction|labelIndex|\n",
      "+----------+----------+\n",
      "|       0.0|       0.0|\n",
      "|       0.0|       0.0|\n",
      "|       0.0|       0.0|\n",
      "|       0.0|       0.0|\n",
      "|       0.0|       0.0|\n",
      "+----------+----------+\n",
      "only showing top 5 rows\n",
      "\n"
     ]
    }
   ],
   "source": [
    "predictions.select(\"prediction\", \"labelIndex\").show(5)"
   ]
  },
  {
   "cell_type": "code",
   "execution_count": null,
   "metadata": {
    "colab": {
     "base_uri": "https://localhost:8080/",
     "height": 51
    },
    "colab_type": "code",
    "id": "PSavFnWYXr6z",
    "outputId": "30be753b-936f-4433-8b32-7e7de94da053"
   },
   "outputs": [
    {
     "name": "stdout",
     "output_type": "stream",
     "text": [
      "Test Error = 0.0625 \n",
      "Accuracy =  0.9375\n"
     ]
    }
   ],
   "source": [
    "evaluator = MulticlassClassificationEvaluator(\\\n",
    "labelCol=\"labelIndex\", predictionCol=\"prediction\",\\\n",
    "metricName=\"accuracy\")\n",
    "accuracy = evaluator.evaluate(predictions)\n",
    "print(\"Test Error = %g \" % (1.0 - accuracy))\n",
    "print(\"Accuracy = \", accuracy)"
   ]
  },
  {
   "cell_type": "code",
   "execution_count": null,
   "metadata": {
    "colab": {
     "base_uri": "https://localhost:8080/",
     "height": 34
    },
    "colab_type": "code",
    "id": "3NkQ68_fXr4P",
    "outputId": "e2150c31-282b-45ee-815e-9b69bae2bf5e"
   },
   "outputs": [
    {
     "name": "stdout",
     "output_type": "stream",
     "text": [
      "DecisionTreeClassificationModel (uid=DecisionTreeClassifier_af1102e3f5bc) of depth 5 with 13 nodes\n"
     ]
    }
   ],
   "source": [
    "print(model)\n"
   ]
  },
  {
   "cell_type": "markdown",
   "metadata": {
    "colab_type": "text",
    "id": "MAv4IYYNZGV0"
   },
   "source": [
    "### Random forest classifier"
   ]
  },
  {
   "cell_type": "code",
   "execution_count": null,
   "metadata": {
    "colab": {},
    "colab_type": "code",
    "id": "KD9wBxJpZGFJ"
   },
   "outputs": [],
   "source": [
    "from pyspark.ml.classification import RandomForestClassifier\n"
   ]
  },
  {
   "cell_type": "code",
   "execution_count": null,
   "metadata": {
    "colab": {},
    "colab_type": "code",
    "id": "RepjLS9zZGB2"
   },
   "outputs": [],
   "source": [
    "rf = RandomForestClassifier(labelCol=\"labelIndex\",\\\n",
    "featuresCol=\"features\", numTrees=10)\n",
    "model = rf.fit(trainingData)"
   ]
  },
  {
   "cell_type": "code",
   "execution_count": null,
   "metadata": {
    "colab": {},
    "colab_type": "code",
    "id": "v1V0xftrZF_H"
   },
   "outputs": [],
   "source": [
    "predictions = model.transform(testData)"
   ]
  },
  {
   "cell_type": "code",
   "execution_count": null,
   "metadata": {
    "colab": {
     "base_uri": "https://localhost:8080/",
     "height": 204
    },
    "colab_type": "code",
    "id": "PL6lKHBFZF8F",
    "outputId": "e18b3b21-93e9-435b-e8cb-3429fa15ced8"
   },
   "outputs": [
    {
     "name": "stdout",
     "output_type": "stream",
     "text": [
      "+----------+----------+\n",
      "|prediction|labelIndex|\n",
      "+----------+----------+\n",
      "|       0.0|       0.0|\n",
      "|       0.0|       0.0|\n",
      "|       0.0|       0.0|\n",
      "|       0.0|       0.0|\n",
      "|       0.0|       0.0|\n",
      "+----------+----------+\n",
      "only showing top 5 rows\n",
      "\n"
     ]
    }
   ],
   "source": [
    "predictions.select(\"prediction\", \"labelIndex\").show(5)"
   ]
  },
  {
   "cell_type": "code",
   "execution_count": null,
   "metadata": {
    "colab": {
     "base_uri": "https://localhost:8080/",
     "height": 51
    },
    "colab_type": "code",
    "id": "JeJdx9SLZF6c",
    "outputId": "68fd3b6c-5de6-4958-a2a6-2f261cedf014"
   },
   "outputs": [
    {
     "name": "stdout",
     "output_type": "stream",
     "text": [
      "Test Error = 0.0625\n",
      "Accuracy =  0.9375\n"
     ]
    }
   ],
   "source": [
    "evaluator = MulticlassClassificationEvaluator(labelCol=\"labelIndex\",\\\n",
    "predictionCol=\"prediction\", metricName=\"accuracy\")\n",
    "accuracy = evaluator.evaluate(predictions)\n",
    "print(\"Test Error = %g\" % (1.0 - accuracy))\n",
    "print(\"Accuracy = \", accuracy)"
   ]
  },
  {
   "cell_type": "code",
   "execution_count": null,
   "metadata": {
    "colab": {
     "base_uri": "https://localhost:8080/",
     "height": 34
    },
    "colab_type": "code",
    "id": "sJZPfc03ZF4A",
    "outputId": "5eeca2bc-f44b-40c0-e1ad-a241f98001ca"
   },
   "outputs": [
    {
     "name": "stdout",
     "output_type": "stream",
     "text": [
      "RandomForestClassificationModel (uid=RandomForestClassifier_b6d202f54418) with 10 trees\n"
     ]
    }
   ],
   "source": [
    "print(model)\n"
   ]
  },
  {
   "cell_type": "markdown",
   "metadata": {
    "colab_type": "text",
    "id": "-ypGT9X7a3_d"
   },
   "source": [
    "### Naive Bayse"
   ]
  },
  {
   "cell_type": "markdown",
   "metadata": {
    "colab_type": "text",
    "id": "CfACcsN7bCEB"
   },
   "source": [
    "Naive Bayes classifier is one of the most straightforward multiclass classification algorithms, which can be applied to the multiclass classification task, with the assumption of independence between every pair of features. It can be trained very efficiently. For this algorithm, we will use the same previously prepared dataframe as in the previous models, but we will change the division between training and test data:"
   ]
  },
  {
   "cell_type": "code",
   "execution_count": null,
   "metadata": {
    "colab": {},
    "colab_type": "code",
    "id": "zfjbBAPNZF1a"
   },
   "outputs": [],
   "source": [
    "splits = df.randomSplit([0.6, 0.4], 1234)\n",
    "train = splits[0]\n",
    "test = splits[1]"
   ]
  },
  {
   "cell_type": "code",
   "execution_count": null,
   "metadata": {
    "colab": {
     "base_uri": "https://localhost:8080/",
     "height": 85
    },
    "colab_type": "code",
    "id": "CEQuZxgKZFyk",
    "outputId": "e0f01f34-4eb1-4518-cbd9-2120cc99d95d"
   },
   "outputs": [
    {
     "name": "stdout",
     "output_type": "stream",
     "text": [
      "-------------------------------------------\n",
      "Time: 2020-06-17 22:35:55\n",
      "-------------------------------------------\n",
      "\n"
     ]
    }
   ],
   "source": [
    "from pyspark.ml.classification import NaiveBayes\n",
    "nb = NaiveBayes(labelCol=\"labelIndex\",\\\n",
    "featuresCol=\"features\", smoothing=1.0,\\\n",
    "modelType=\"multinomial\")\n",
    "model = nb.fit(train)"
   ]
  },
  {
   "cell_type": "code",
   "execution_count": null,
   "metadata": {
    "colab": {
     "base_uri": "https://localhost:8080/",
     "height": 460
    },
    "colab_type": "code",
    "id": "agSCU8G3ZFwX",
    "outputId": "50427df8-dd28-44be-c8e3-88ca67c56b82"
   },
   "outputs": [
    {
     "name": "stdout",
     "output_type": "stream",
     "text": [
      "+---------------+----------+--------------------+----------+\n",
      "|          label|labelIndex|         probability|prediction|\n",
      "+---------------+----------+--------------------+----------+\n",
      "|    Iris-setosa|       0.0|[0.72731658870743...|       0.0|\n",
      "|    Iris-setosa|       0.0|[0.64191979313055...|       0.0|\n",
      "|    Iris-setosa|       0.0|[0.67190087859470...|       0.0|\n",
      "|    Iris-setosa|       0.0|[0.68619515575852...|       0.0|\n",
      "|    Iris-setosa|       0.0|[0.79113303960571...|       0.0|\n",
      "|    Iris-setosa|       0.0|[0.66216353297161...|       0.0|\n",
      "|    Iris-setosa|       0.0|[0.65344785868152...|       0.0|\n",
      "|    Iris-setosa|       0.0|[0.73019518028270...|       0.0|\n",
      "|    Iris-setosa|       0.0|[0.59020997011114...|       0.0|\n",
      "|    Iris-setosa|       0.0|[0.75329619797323...|       0.0|\n",
      "|    Iris-setosa|       0.0|[0.71944966826326...|       0.0|\n",
      "|    Iris-setosa|       0.0|[0.70041981497288...|       0.0|\n",
      "|    Iris-setosa|       0.0|[0.75134779207872...|       0.0|\n",
      "|    Iris-setosa|       0.0|[0.81915735460438...|       0.0|\n",
      "|    Iris-setosa|       0.0|[0.70209590787322...|       0.0|\n",
      "|    Iris-setosa|       0.0|[0.70662346522542...|       0.0|\n",
      "|    Iris-setosa|       0.0|[0.77406499530502...|       0.0|\n",
      "|    Iris-setosa|       0.0|[0.73421953761825...|       0.0|\n",
      "|Iris-versicolor|       1.0|[0.10279300409617...|       1.0|\n",
      "|Iris-versicolor|       1.0|[0.07480591431350...|       1.0|\n",
      "+---------------+----------+--------------------+----------+\n",
      "only showing top 20 rows\n",
      "\n"
     ]
    }
   ],
   "source": [
    "predictions = model.transform(test)\n",
    "predictions.select(\"label\", \"labelIndex\",\"probability\", \"prediction\").show()"
   ]
  },
  {
   "cell_type": "code",
   "execution_count": null,
   "metadata": {
    "colab": {
     "base_uri": "https://localhost:8080/",
     "height": 34
    },
    "colab_type": "code",
    "id": "IfKSi9J3ZFtp",
    "outputId": "2f43bc92-b7fe-4b79-f41e-6f8c1d061567"
   },
   "outputs": [
    {
     "name": "stdout",
     "output_type": "stream",
     "text": [
      "Testset accuracy = 0.8235294117647058\n"
     ]
    }
   ],
   "source": [
    "evaluator =MulticlassClassificationEvaluator(labelCol=\"labelIndex\",\\\n",
    "predictionCol=\"prediction\", metricName=\"accuracy\")\n",
    "accuracy = evaluator.evaluate(predictions)\n",
    "print(\"Testset accuracy = \" + str(accuracy))"
   ]
  },
  {
   "cell_type": "code",
   "execution_count": null,
   "metadata": {
    "colab": {},
    "colab_type": "code",
    "id": "iATqWitvZCTx"
   },
   "outputs": [],
   "source": []
  }
 ],
 "metadata": {
  "colab": {
   "collapsed_sections": [],
   "name": "Iris_pyspark.ipynb",
   "provenance": []
  },
  "kernelspec": {
   "display_name": "Python 3",
   "language": "python",
   "name": "python3"
  },
  "language_info": {
   "codemirror_mode": {
    "name": "ipython",
    "version": 3
   },
   "file_extension": ".py",
   "mimetype": "text/x-python",
   "name": "python",
   "nbconvert_exporter": "python",
   "pygments_lexer": "ipython3",
   "version": "3.8.3"
  }
 },
 "nbformat": 4,
 "nbformat_minor": 1
}
