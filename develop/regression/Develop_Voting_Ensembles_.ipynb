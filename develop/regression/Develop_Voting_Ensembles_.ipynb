{
  "nbformat": 4,
  "nbformat_minor": 0,
  "metadata": {
    "colab": {
      "name": "Develop_Voting_Ensembles .ipynb",
      "provenance": []
    },
    "kernelspec": {
      "name": "python3",
      "display_name": "Python 3"
    }
  },
  "cells": [
    {
      "cell_type": "markdown",
      "metadata": {
        "id": "KZdrwTyYSVtx",
        "colab_type": "text"
      },
      "source": [
        "# How to Develop Voting Ensembles With Python"
      ]
    },
    {
      "cell_type": "code",
      "metadata": {
        "id": "gXa821WBSYvg",
        "colab_type": "code",
        "colab": {}
      },
      "source": [
        "#https://machinelearningmastery.com/voting-ensembles-with-python/"
      ],
      "execution_count": null,
      "outputs": []
    },
    {
      "cell_type": "markdown",
      "metadata": {
        "id": "NGUGmE4QRJ3C",
        "colab_type": "text"
      },
      "source": [
        "Voting is an ensemble machine learning algorithm.\n",
        "\n",
        "For regression, a voting ensemble involves making a prediction that is the average of multiple other regression models.\n",
        "\n",
        "In classification, a hard voting ensemble involves summing the votes for crisp class labels from other models and predicting the class with the most votes. A soft voting ensemble involves summing the predicted probabilities for class labels and predicting the class label with the largest sum probability.\n",
        "\n",
        "In this tutorial, you will discover how to create voting ensembles for machine learning algorithms in Python.\n",
        "\n",
        "After completing this tutorial, you will know:\n",
        "\n",
        "A voting ensemble involves summing the predictions made by classification models or averaging the predictions made by regression models.\n",
        "How voting ensembles work, when to use voting ensembles, and the limitations of the approach.\n",
        "How to implement a hard voting ensemble and soft voting ensemble for classification predictive modeling.\n",
        "Let’s get started."
      ]
    },
    {
      "cell_type": "code",
      "metadata": {
        "id": "rH5La3qxRQ3p",
        "colab_type": "code",
        "colab": {}
      },
      "source": [
        "#Voting is provided via the VotingRegressor and VotingClassifier classes."
      ],
      "execution_count": null,
      "outputs": []
    },
    {
      "cell_type": "code",
      "metadata": {
        "id": "rZQJOJToRDGp",
        "colab_type": "code",
        "colab": {}
      },
      "source": [
        "from sklearn.linear_model import LogisticRegression\n",
        "from sklearn.svm import SVC\n",
        "from sklearn.ensemble import VotingClassifier\n",
        "\n",
        "models = [('lr',LogisticRegression()),('svm',SVC())]\n",
        "ensemble = VotingClassifier(estimators=models)"
      ],
      "execution_count": null,
      "outputs": []
    },
    {
      "cell_type": "code",
      "metadata": {
        "id": "amGXJxw3RVMX",
        "colab_type": "code",
        "colab": {
          "base_uri": "https://localhost:8080/",
          "height": 33
        },
        "outputId": "acc22b18-b20e-4ce9-f485-76c1894a580d"
      },
      "source": [
        "# test classification dataset\n",
        "from sklearn.datasets import make_classification\n",
        "# define dataset\n",
        "X, y = make_classification(n_samples=1000, n_features=20, n_informative=15, n_redundant=5, random_state=2)\n",
        "# summarize the dataset\n",
        "print(X.shape, y.shape)"
      ],
      "execution_count": null,
      "outputs": [
        {
          "output_type": "stream",
          "text": [
            "(1000, 20) (1000,)\n"
          ],
          "name": "stdout"
        }
      ]
    },
    {
      "cell_type": "markdown",
      "metadata": {
        "id": "bCJbgAnqSfGZ",
        "colab_type": "text"
      },
      "source": [
        "Hard Voting Ensemble for Classification\n",
        "We can demonstrate hard voting with a k-nearest neighbor algorithm.\n",
        "\n",
        "We can fit five different versions of the KNN algorithm, each with a different number of neighbors used when making predictions. We will use 1, 3, 5, 7, and 9 neighbors (odd numbers in an attempt to avoid ties).\n",
        "\n",
        "Our expectation is that by combining the predicted class labels predicted by each different KNN model that the hard voting ensemble will achieve a better predictive performance than any standalone model used in the ensemble, on average.\n",
        "\n",
        "First, we can create a function named get_voting() that creates each KNN model and combines the models into a hard voting ensemble."
      ]
    },
    {
      "cell_type": "code",
      "metadata": {
        "id": "UJnxNQWLSI04",
        "colab_type": "code",
        "colab": {}
      },
      "source": [
        "\n",
        "# get a voting ensemble of models\n",
        "def get_voting():\n",
        "\t# define the base models\n",
        "\tmodels = list()\n",
        "\tmodels.append(('knn1', KNeighborsClassifier(n_neighbors=1)))\n",
        "\tmodels.append(('knn3', KNeighborsClassifier(n_neighbors=3)))\n",
        "\tmodels.append(('knn5', KNeighborsClassifier(n_neighbors=5)))\n",
        "\tmodels.append(('knn7', KNeighborsClassifier(n_neighbors=7)))\n",
        "\tmodels.append(('knn9', KNeighborsClassifier(n_neighbors=9)))\n",
        "\t# define the voting ensemble\n",
        "\tensemble = VotingClassifier(estimators=models, voting='hard')\n",
        "\treturn ensemble"
      ],
      "execution_count": null,
      "outputs": []
    },
    {
      "cell_type": "code",
      "metadata": {
        "id": "kTUFfZ-9ShuL",
        "colab_type": "code",
        "colab": {}
      },
      "source": [
        "# get a list of models to evaluate\n",
        "def get_models():\n",
        "\tmodels = dict()\n",
        "\tmodels['knn1'] = KNeighborsClassifier(n_neighbors=1)\n",
        "\tmodels['knn3'] = KNeighborsClassifier(n_neighbors=3)\n",
        "\tmodels['knn5'] = KNeighborsClassifier(n_neighbors=5)\n",
        "\tmodels['knn7'] = KNeighborsClassifier(n_neighbors=7)\n",
        "\tmodels['knn9'] = KNeighborsClassifier(n_neighbors=9)\n",
        "\tmodels['hard_voting'] = get_voting()\n",
        "\treturn models"
      ],
      "execution_count": null,
      "outputs": []
    },
    {
      "cell_type": "markdown",
      "metadata": {
        "id": "IEcNucfOSuIx",
        "colab_type": "text"
      },
      "source": [
        "Each model will be evaluated using repeated k-fold cross-validation.\n",
        "\n",
        "The evaluate_model() function below takes a model instance and returns as a list of scores from three repeats of stratified 10-fold cross-validation."
      ]
    },
    {
      "cell_type": "code",
      "metadata": {
        "id": "uTswMXeFShq0",
        "colab_type": "code",
        "colab": {
          "base_uri": "https://localhost:8080/",
          "height": 117
        },
        "outputId": "7e61f0db-c5b5-41c0-f8d3-25b37608c50a"
      },
      "source": [
        "# compare hard voting to standalone classifiers\n",
        "from numpy import mean\n",
        "from numpy import std\n",
        "from sklearn.datasets import make_classification\n",
        "from sklearn.model_selection import cross_val_score\n",
        "from sklearn.model_selection import RepeatedStratifiedKFold\n",
        "from sklearn.neighbors import KNeighborsClassifier\n",
        "from sklearn.ensemble import VotingClassifier\n",
        "import matplotlib.pyplot as plt\n",
        " \n",
        "# get the dataset\n",
        "def get_dataset():\n",
        "\tX, y = make_classification(n_samples=1000, n_features=20, n_informative=15, n_redundant=5, random_state=2)\n",
        "\treturn X, y\n",
        " \n",
        "# get a voting ensemble of models\n",
        "def get_voting():\n",
        "\t# define the base models\n",
        "\tmodels = list()\n",
        "\tmodels.append(('knn1', KNeighborsClassifier(n_neighbors=1)))\n",
        "\tmodels.append(('knn3', KNeighborsClassifier(n_neighbors=3)))\n",
        "\tmodels.append(('knn5', KNeighborsClassifier(n_neighbors=5)))\n",
        "\tmodels.append(('knn7', KNeighborsClassifier(n_neighbors=7)))\n",
        "\tmodels.append(('knn9', KNeighborsClassifier(n_neighbors=9)))\n",
        "\t# define the voting ensemble\n",
        "\tensemble = VotingClassifier(estimators=models, voting='hard')\n",
        "\treturn ensemble\n",
        " \n",
        "# get a list of models to evaluate\n",
        "def get_models():\n",
        "\tmodels = dict()\n",
        "\tmodels['knn1'] = KNeighborsClassifier(n_neighbors=1)\n",
        "\tmodels['knn3'] = KNeighborsClassifier(n_neighbors=3)\n",
        "\tmodels['knn5'] = KNeighborsClassifier(n_neighbors=5)\n",
        "\tmodels['knn7'] = KNeighborsClassifier(n_neighbors=7)\n",
        "\tmodels['knn9'] = KNeighborsClassifier(n_neighbors=9)\n",
        "\tmodels['hard_voting'] = get_voting()\n",
        "\treturn models\n",
        " \n",
        "# evaluate a give model using cross-validation\n",
        "def evaluate_model(model):\n",
        "\tcv = RepeatedStratifiedKFold(n_splits=10, n_repeats=3, random_state=1)\n",
        "\tscores = cross_val_score(model, X, y, scoring='accuracy', cv=cv, n_jobs=-1, error_score='raise')\n",
        "\treturn scores\n",
        " \n",
        "# define dataset\n",
        "X, y = get_dataset()\n",
        "# get the models to evaluate\n",
        "models = get_models()\n",
        "# evaluate the models and store results\n",
        "results, names = list(), list()\n",
        "for name, model in models.items():\n",
        "\tscores = evaluate_model(model)\n",
        "\tresults.append(scores)\n",
        "\tnames.append(name)\n",
        "\tprint('>%s %.3f (%.3f)' % (name, mean(scores), std(scores)))"
      ],
      "execution_count": null,
      "outputs": [
        {
          "output_type": "stream",
          "text": [
            ">knn1 0.873 (0.030)\n",
            ">knn3 0.889 (0.038)\n",
            ">knn5 0.895 (0.031)\n",
            ">knn7 0.899 (0.035)\n",
            ">knn9 0.900 (0.033)\n",
            ">hard_voting 0.902 (0.034)\n"
          ],
          "name": "stdout"
        }
      ]
    },
    {
      "cell_type": "code",
      "metadata": {
        "id": "NSQW8wLmShoU",
        "colab_type": "code",
        "colab": {
          "base_uri": "https://localhost:8080/",
          "height": 483
        },
        "outputId": "0d2845af-a2b8-4417-dcb9-4200bdb677d1"
      },
      "source": [
        "# plot model performance for comparison\n",
        "plt.figure(figsize=(10,8))\n",
        "plt.boxplot(results, labels=names, showmeans=True);"
      ],
      "execution_count": null,
      "outputs": [
        {
          "output_type": "display_data",
          "data": {
            "image/png": "[encoded data removed]",
            "text/plain": [
              "<Figure size 720x576 with 1 Axes>"
            ]
          },
          "metadata": {
            "tags": [],
            "needs_background": "light"
          }
        }
      ]
    },
    {
      "cell_type": "code",
      "metadata": {
        "id": "LO6UdP8MShlo",
        "colab_type": "code",
        "colab": {
          "base_uri": "https://localhost:8080/",
          "height": 33
        },
        "outputId": "f53e1c0b-b79c-4ad5-e63f-3a74a75206c3"
      },
      "source": [
        "# make a prediction with a hard voting ensemble\n",
        "from sklearn.datasets import make_classification\n",
        "from sklearn.ensemble import VotingClassifier\n",
        "from sklearn.neighbors import KNeighborsClassifier\n",
        "# define dataset\n",
        "X, y = make_classification(n_samples=1000, n_features=20, n_informative=15, n_redundant=5, random_state=2)\n",
        "# define the base models\n",
        "models = list()\n",
        "models.append(('knn1', KNeighborsClassifier(n_neighbors=1)))\n",
        "models.append(('knn3', KNeighborsClassifier(n_neighbors=3)))\n",
        "models.append(('knn5', KNeighborsClassifier(n_neighbors=5)))\n",
        "models.append(('knn7', KNeighborsClassifier(n_neighbors=7)))\n",
        "models.append(('knn9', KNeighborsClassifier(n_neighbors=9)))\n",
        "# define the hard voting ensemble\n",
        "ensemble = VotingClassifier(estimators=models, voting='hard')\n",
        "# fit the model on all available data\n",
        "ensemble.fit(X, y)\n",
        "# make a prediction for one example\n",
        "data = [[5.88891819,2.64867662,-0.42728226,-1.24988856,-0.00822,-3.57895574,2.87938412,-1.55614691,-0.38168784,7.50285659,-1.16710354,-5.02492712,-0.46196105,-0.64539455,-1.71297469,0.25987852,-0.193401,-5.52022952,0.0364453,-1.960039]]\n",
        "yhat = ensemble.predict(data)\n",
        "print('Predicted Class: %d' % (yhat))"
      ],
      "execution_count": null,
      "outputs": [
        {
          "output_type": "stream",
          "text": [
            "Predicted Class: 1\n"
          ],
          "name": "stdout"
        }
      ]
    },
    {
      "cell_type": "markdown",
      "metadata": {
        "id": "fjXa-RVuTgLF",
        "colab_type": "text"
      },
      "source": [
        "# Soft Voting Ensemble for Classification"
      ]
    },
    {
      "cell_type": "code",
      "metadata": {
        "id": "5FogGyVoShjR",
        "colab_type": "code",
        "colab": {}
      },
      "source": [
        "# get a voting ensemble of models\n",
        "def get_voting():\n",
        "\t# define the base models\n",
        "\tmodels = list()\n",
        "\tmodels.append(('svm1', SVC(probability=True, kernel='poly', degree=1)))\n",
        "\tmodels.append(('svm2', SVC(probability=True, kernel='poly', degree=2)))\n",
        "\tmodels.append(('svm3', SVC(probability=True, kernel='poly', degree=3)))\n",
        "\tmodels.append(('svm4', SVC(probability=True, kernel='poly', degree=4)))\n",
        "\tmodels.append(('svm5', SVC(probability=True, kernel='poly', degree=5)))\n",
        "\t# define the voting ensemble\n",
        "\tensemble = VotingClassifier(estimators=models, voting='soft')\n",
        "\treturn ensemble"
      ],
      "execution_count": null,
      "outputs": []
    },
    {
      "cell_type": "code",
      "metadata": {
        "id": "0_vyyN2lShhD",
        "colab_type": "code",
        "colab": {}
      },
      "source": [
        "# get a list of models to evaluate\n",
        "def get_models():\n",
        "\tmodels = dict()\n",
        "\tmodels['svm1'] = SVC(probability=True, kernel='poly', degree=1)\n",
        "\tmodels['svm2'] = SVC(probability=True, kernel='poly', degree=2)\n",
        "\tmodels['svm3'] = SVC(probability=True, kernel='poly', degree=3)\n",
        "\tmodels['svm4'] = SVC(probability=True, kernel='poly', degree=4)\n",
        "\tmodels['svm5'] = SVC(probability=True, kernel='poly', degree=5)\n",
        "\tmodels['soft_voting'] = get_voting()\n",
        "\treturn models"
      ],
      "execution_count": null,
      "outputs": []
    },
    {
      "cell_type": "code",
      "metadata": {
        "id": "p2sUN0dnShe7",
        "colab_type": "code",
        "colab": {
          "base_uri": "https://localhost:8080/",
          "height": 117
        },
        "outputId": "6c107824-8390-441f-93fe-204831c3f151"
      },
      "source": [
        "# compare soft voting ensemble to standalone classifiers\n",
        "from numpy import mean\n",
        "from numpy import std\n",
        "from sklearn.datasets import make_classification\n",
        "from sklearn.model_selection import cross_val_score\n",
        "from sklearn.model_selection import RepeatedStratifiedKFold\n",
        "from sklearn.svm import SVC\n",
        "from sklearn.ensemble import VotingClassifier\n",
        "from matplotlib import pyplot\n",
        " \n",
        "# get the dataset\n",
        "def get_dataset():\n",
        "\tX, y = make_classification(n_samples=1000, n_features=20, n_informative=15, n_redundant=5, random_state=2)\n",
        "\treturn X, y\n",
        " \n",
        "# get a voting ensemble of models\n",
        "def get_voting():\n",
        "\t# define the base models\n",
        "\tmodels = list()\n",
        "\tmodels.append(('svm1', SVC(probability=True, kernel='poly', degree=1)))\n",
        "\tmodels.append(('svm2', SVC(probability=True, kernel='poly', degree=2)))\n",
        "\tmodels.append(('svm3', SVC(probability=True, kernel='poly', degree=3)))\n",
        "\tmodels.append(('svm4', SVC(probability=True, kernel='poly', degree=4)))\n",
        "\tmodels.append(('svm5', SVC(probability=True, kernel='poly', degree=5)))\n",
        "\t# define the voting ensemble\n",
        "\tensemble = VotingClassifier(estimators=models, voting='soft')\n",
        "\treturn ensemble\n",
        " \n",
        "# get a list of models to evaluate\n",
        "def get_models():\n",
        "\tmodels = dict()\n",
        "\tmodels['svm1'] = SVC(probability=True, kernel='poly', degree=1)\n",
        "\tmodels['svm2'] = SVC(probability=True, kernel='poly', degree=2)\n",
        "\tmodels['svm3'] = SVC(probability=True, kernel='poly', degree=3)\n",
        "\tmodels['svm4'] = SVC(probability=True, kernel='poly', degree=4)\n",
        "\tmodels['svm5'] = SVC(probability=True, kernel='poly', degree=5)\n",
        "\tmodels['soft_voting'] = get_voting()\n",
        "\treturn models\n",
        " \n",
        "# evaluate a give model using cross-validation\n",
        "def evaluate_model(model):\n",
        "\tcv = RepeatedStratifiedKFold(n_splits=10, n_repeats=3, random_state=1)\n",
        "\tscores = cross_val_score(model, X, y, scoring='accuracy', cv=cv, n_jobs=-1, error_score='raise')\n",
        "\treturn scores\n",
        " \n",
        "# define dataset\n",
        "X, y = get_dataset()\n",
        "# get the models to evaluate\n",
        "models = get_models()\n",
        "# evaluate the models and store results\n",
        "results, names = list(), list()\n",
        "for name, model in models.items():\n",
        "\tscores = evaluate_model(model)\n",
        "\tresults.append(scores)\n",
        "\tnames.append(name)\n",
        "\tprint('>%s %.3f (%.3f)' % (name, mean(scores), std(scores)))\n"
      ],
      "execution_count": null,
      "outputs": [
        {
          "output_type": "stream",
          "text": [
            ">svm1 0.855 (0.035)\n",
            ">svm2 0.859 (0.034)\n",
            ">svm3 0.890 (0.035)\n",
            ">svm4 0.808 (0.037)\n",
            ">svm5 0.850 (0.037)\n",
            ">soft_voting 0.924 (0.026)\n"
          ],
          "name": "stdout"
        }
      ]
    },
    {
      "cell_type": "code",
      "metadata": {
        "id": "LBFIyLveShdG",
        "colab_type": "code",
        "colab": {
          "base_uri": "https://localhost:8080/",
          "height": 483
        },
        "outputId": "7a4b327f-9470-492b-e7a9-5e5ac4d472e9"
      },
      "source": [
        "# plot model performance for comparison\n",
        "plt.figure(figsize=(10,8))\n",
        "plt.boxplot(results, labels=names, showmeans=True);"
      ],
      "execution_count": null,
      "outputs": [
        {
          "output_type": "display_data",
          "data": {
            "image/png": "[encoded data removed]",
            "text/plain": [
              "<Figure size 720x576 with 1 Axes>"
            ]
          },
          "metadata": {
            "tags": [],
            "needs_background": "light"
          }
        }
      ]
    },
    {
      "cell_type": "code",
      "metadata": {
        "id": "YvRvHDWGShaw",
        "colab_type": "code",
        "colab": {
          "base_uri": "https://localhost:8080/",
          "height": 33
        },
        "outputId": "3f6773d9-3df2-423c-807d-50bd970615cf"
      },
      "source": [
        "# make a prediction with a soft voting ensemble\n",
        "from sklearn.datasets import make_classification\n",
        "from sklearn.ensemble import VotingClassifier\n",
        "from sklearn.svm import SVC\n",
        "# define dataset\n",
        "X, y = make_classification(n_samples=1000, n_features=20, n_informative=15, n_redundant=5, random_state=2)\n",
        "# define the base models\n",
        "models = list()\n",
        "models.append(('svm1', SVC(probability=True, kernel='poly', degree=1)))\n",
        "models.append(('svm2', SVC(probability=True, kernel='poly', degree=2)))\n",
        "models.append(('svm3', SVC(probability=True, kernel='poly', degree=3)))\n",
        "models.append(('svm4', SVC(probability=True, kernel='poly', degree=4)))\n",
        "models.append(('svm5', SVC(probability=True, kernel='poly', degree=5)))\n",
        "# define the soft voting ensemble\n",
        "ensemble = VotingClassifier(estimators=models, voting='soft')\n",
        "# fit the model on all available data\n",
        "ensemble.fit(X, y)\n",
        "# make a prediction for one example\n",
        "data = [[5.88891819,2.64867662,-0.42728226,-1.24988856,-0.00822,-3.57895574,2.87938412,-1.55614691,-0.38168784,7.50285659,-1.16710354,-5.02492712,-0.46196105,-0.64539455,-1.71297469,0.25987852,-0.193401,-5.52022952,0.0364453,-1.960039]]\n",
        "yhat = ensemble.predict(data)\n",
        "print('Predicted Class: %d' % (yhat))"
      ],
      "execution_count": null,
      "outputs": [
        {
          "output_type": "stream",
          "text": [
            "Predicted Class: 1\n"
          ],
          "name": "stdout"
        }
      ]
    },
    {
      "cell_type": "markdown",
      "metadata": {
        "id": "V-Y1vSmJUAzu",
        "colab_type": "text"
      },
      "source": [
        "# Voting Ensemble for Regression"
      ]
    },
    {
      "cell_type": "code",
      "metadata": {
        "id": "QhwfdBX-ShYY",
        "colab_type": "code",
        "colab": {
          "base_uri": "https://localhost:8080/",
          "height": 33
        },
        "outputId": "f24d98b3-bdb2-441e-a18c-077ca9f399d2"
      },
      "source": [
        "# test regression dataset\n",
        "from sklearn.datasets import make_regression\n",
        "# define dataset\n",
        "X, y = make_regression(n_samples=1000, n_features=20, n_informative=15, noise=0.1, random_state=1)\n",
        "# summarize the dataset\n",
        "print(X.shape, y.shape)"
      ],
      "execution_count": null,
      "outputs": [
        {
          "output_type": "stream",
          "text": [
            "(1000, 20) (1000,)\n"
          ],
          "name": "stdout"
        }
      ]
    },
    {
      "cell_type": "code",
      "metadata": {
        "id": "zKMQRSYVShWI",
        "colab_type": "code",
        "colab": {}
      },
      "source": [
        "# get a voting ensemble of models\n",
        "def get_voting():\n",
        "\t# define the base models\n",
        "\tmodels = list()\n",
        "\tmodels.append(('cart1', DecisionTreeRegressor(max_depth=1)))\n",
        "\tmodels.append(('cart2', DecisionTreeRegressor(max_depth=2)))\n",
        "\tmodels.append(('cart3', DecisionTreeRegressor(max_depth=3)))\n",
        "\tmodels.append(('cart4', DecisionTreeRegressor(max_depth=4)))\n",
        "\tmodels.append(('cart5', DecisionTreeRegressor(max_depth=5)))\n",
        "\t# define the voting ensemble\n",
        "\tensemble = VotingRegressor(estimators=models)\n",
        "\treturn ensemble"
      ],
      "execution_count": null,
      "outputs": []
    },
    {
      "cell_type": "code",
      "metadata": {
        "id": "YNpcLwt3ShTz",
        "colab_type": "code",
        "colab": {}
      },
      "source": [
        "# get a list of models to evaluate\n",
        "def get_models():\n",
        "\tmodels = dict()\n",
        "\tmodels['cart1'] = DecisionTreeRegressor(max_depth=1)\n",
        "\tmodels['cart2'] = DecisionTreeRegressor(max_depth=2)\n",
        "\tmodels['cart3'] = DecisionTreeRegressor(max_depth=3)\n",
        "\tmodels['cart4'] = DecisionTreeRegressor(max_depth=4)\n",
        "\tmodels['cart5'] = DecisionTreeRegressor(max_depth=5)\n",
        "\tmodels['voting'] = get_voting()\n",
        "\treturn models"
      ],
      "execution_count": null,
      "outputs": []
    },
    {
      "cell_type": "code",
      "metadata": {
        "id": "dXwglYjvShRt",
        "colab_type": "code",
        "colab": {
          "base_uri": "https://localhost:8080/",
          "height": 117
        },
        "outputId": "c888e6c4-d9d1-404c-8768-322f27d54b98"
      },
      "source": [
        "# compare voting ensemble to each standalone models for regression\n",
        "from numpy import mean\n",
        "from numpy import std\n",
        "from sklearn.datasets import make_regression\n",
        "from sklearn.model_selection import cross_val_score\n",
        "from sklearn.model_selection import RepeatedKFold\n",
        "from sklearn.tree import DecisionTreeRegressor\n",
        "from sklearn.ensemble import VotingRegressor\n",
        "from matplotlib import pyplot\n",
        " \n",
        "# get the dataset\n",
        "def get_dataset():\n",
        "\tX, y = make_regression(n_samples=1000, n_features=20, n_informative=15, noise=0.1, random_state=1)\n",
        "\treturn X, y\n",
        " \n",
        "# get a voting ensemble of models\n",
        "def get_voting():\n",
        "\t# define the base models\n",
        "\tmodels = list()\n",
        "\tmodels.append(('cart1', DecisionTreeRegressor(max_depth=1)))\n",
        "\tmodels.append(('cart2', DecisionTreeRegressor(max_depth=2)))\n",
        "\tmodels.append(('cart3', DecisionTreeRegressor(max_depth=3)))\n",
        "\tmodels.append(('cart4', DecisionTreeRegressor(max_depth=4)))\n",
        "\tmodels.append(('cart5', DecisionTreeRegressor(max_depth=5)))\n",
        "\t# define the voting ensemble\n",
        "\tensemble = VotingRegressor(estimators=models)\n",
        "\treturn ensemble\n",
        " \n",
        "# get a list of models to evaluate\n",
        "def get_models():\n",
        "\tmodels = dict()\n",
        "\tmodels['cart1'] = DecisionTreeRegressor(max_depth=1)\n",
        "\tmodels['cart2'] = DecisionTreeRegressor(max_depth=2)\n",
        "\tmodels['cart3'] = DecisionTreeRegressor(max_depth=3)\n",
        "\tmodels['cart4'] = DecisionTreeRegressor(max_depth=4)\n",
        "\tmodels['cart5'] = DecisionTreeRegressor(max_depth=5)\n",
        "\tmodels['voting'] = get_voting()\n",
        "\treturn models\n",
        " \n",
        "# evaluate a give model using cross-validation\n",
        "def evaluate_model(model):\n",
        "\tcv = RepeatedKFold(n_splits=10, n_repeats=3, random_state=1)\n",
        "\tscores = cross_val_score(model, X, y, scoring='neg_mean_absolute_error', cv=cv, n_jobs=-1, error_score='raise')\n",
        "\treturn scores\n",
        " \n",
        "# define dataset\n",
        "X, y = get_dataset()\n",
        "# get the models to evaluate\n",
        "models = get_models()\n",
        "# evaluate the models and store results\n",
        "results, names = list(), list()\n",
        "for name, model in models.items():\n",
        "\tscores = evaluate_model(model)\n",
        "\tresults.append(scores)\n",
        "\tnames.append(name)\n",
        "\tprint('>%s %.3f (%.3f)' % (name, mean(scores), std(scores)))\n"
      ],
      "execution_count": null,
      "outputs": [
        {
          "output_type": "stream",
          "text": [
            ">cart1 -161.519 (11.414)\n",
            ">cart2 -152.596 (11.271)\n",
            ">cart3 -142.378 (10.900)\n",
            ">cart4 -140.086 (12.469)\n",
            ">cart5 -137.610 (12.060)\n",
            ">voting -136.413 (11.271)\n"
          ],
          "name": "stdout"
        }
      ]
    },
    {
      "cell_type": "code",
      "metadata": {
        "id": "k92DAj9cULgc",
        "colab_type": "code",
        "colab": {
          "base_uri": "https://localhost:8080/",
          "height": 482
        },
        "outputId": "da85d229-cd3e-4ffd-974d-dcdfd02dc3bc"
      },
      "source": [
        "# plot model performance for comparison\n",
        "plt.figure(figsize=(10,8))\n",
        "plt.boxplot(results, labels=names, showmeans=True);"
      ],
      "execution_count": null,
      "outputs": [
        {
          "output_type": "display_data",
          "data": {
            "image/png": "[encoded data removed]",
            "text/plain": [
              "<Figure size 720x576 with 1 Axes>"
            ]
          },
          "metadata": {
            "tags": [],
            "needs_background": "light"
          }
        }
      ]
    },
    {
      "cell_type": "code",
      "metadata": {
        "id": "X_uxqnddULcv",
        "colab_type": "code",
        "colab": {
          "base_uri": "https://localhost:8080/",
          "height": 33
        },
        "outputId": "72939703-f588-47ff-e0bf-4990d046c143"
      },
      "source": [
        "# make a prediction with a voting ensemble\n",
        "from sklearn.datasets import make_regression\n",
        "from sklearn.tree import DecisionTreeRegressor\n",
        "from sklearn.ensemble import VotingRegressor\n",
        "# define dataset\n",
        "X, y = make_regression(n_samples=1000, n_features=20, n_informative=15, noise=0.1, random_state=1)\n",
        "# define the base models\n",
        "models = list()\n",
        "models.append(('cart1', DecisionTreeRegressor(max_depth=1)))\n",
        "models.append(('cart2', DecisionTreeRegressor(max_depth=2)))\n",
        "models.append(('cart3', DecisionTreeRegressor(max_depth=3)))\n",
        "models.append(('cart4', DecisionTreeRegressor(max_depth=4)))\n",
        "models.append(('cart5', DecisionTreeRegressor(max_depth=5)))\n",
        "# define the voting ensemble\n",
        "ensemble = VotingRegressor(estimators=models)\n",
        "# fit the model on all available data\n",
        "ensemble.fit(X, y)\n",
        "# make a prediction for one example\n",
        "data = [[0.59332206,-0.56637507,1.34808718,-0.57054047,-0.72480487,1.05648449,0.77744852,0.07361796,0.88398267,2.02843157,1.01902732,0.11227799,0.94218853,0.26741783,0.91458143,-0.72759572,1.08842814,-0.61450942,-0.69387293,1.69169009]]\n",
        "yhat = ensemble.predict(data)\n",
        "print('Predicted Value: %.3f' % (yhat))"
      ],
      "execution_count": null,
      "outputs": [
        {
          "output_type": "stream",
          "text": [
            "Predicted Value: 141.319\n"
          ],
          "name": "stdout"
        }
      ]
    },
    {
      "cell_type": "markdown",
      "metadata": {
        "id": "H_UQ-RgUUkFl",
        "colab_type": "text"
      },
      "source": [
        "Running the example fits the voting ensemble model on the entire dataset and is then used to make a prediction on a new row of data, as we might when using the model in an application."
      ]
    },
    {
      "cell_type": "code",
      "metadata": {
        "id": "oQ5iKVcGULaY",
        "colab_type": "code",
        "colab": {}
      },
      "source": [
        ""
      ],
      "execution_count": null,
      "outputs": []
    },
    {
      "cell_type": "code",
      "metadata": {
        "id": "uzvjT70EULYE",
        "colab_type": "code",
        "colab": {}
      },
      "source": [
        ""
      ],
      "execution_count": null,
      "outputs": []
    },
    {
      "cell_type": "code",
      "metadata": {
        "id": "hNE3D4LTULTE",
        "colab_type": "code",
        "colab": {}
      },
      "source": [
        ""
      ],
      "execution_count": null,
      "outputs": []
    },
    {
      "cell_type": "code",
      "metadata": {
        "id": "3uWyznb4ULQe",
        "colab_type": "code",
        "colab": {}
      },
      "source": [
        ""
      ],
      "execution_count": null,
      "outputs": []
    },
    {
      "cell_type": "code",
      "metadata": {
        "id": "phda72I1ULOI",
        "colab_type": "code",
        "colab": {}
      },
      "source": [
        ""
      ],
      "execution_count": null,
      "outputs": []
    },
    {
      "cell_type": "code",
      "metadata": {
        "id": "lGIaLyQ9ULKB",
        "colab_type": "code",
        "colab": {}
      },
      "source": [
        ""
      ],
      "execution_count": null,
      "outputs": []
    },
    {
      "cell_type": "code",
      "metadata": {
        "id": "w7avLrOSUKz-",
        "colab_type": "code",
        "colab": {}
      },
      "source": [
        ""
      ],
      "execution_count": null,
      "outputs": []
    }
  ]
}