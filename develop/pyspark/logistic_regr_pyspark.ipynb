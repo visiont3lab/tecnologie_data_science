{
 "cells": [
  {
   "cell_type": "markdown",
   "metadata": {
    "colab_type": "text",
    "id": "cUOR39GLxaRK"
   },
   "source": [
    "<a href=\"https://colab.research.google.com/github/visiont3lab/tecnologie_data_science/blob/master/book/docs/pyspark/logistic_regr_pyspark.ipynb\n",
    "\" target=\"_parent\"><img src=\"https://colab.research.google.com/assets/colab-badge.svg\" alt=\"Open In Colab\"/></a>"
   ]
  },
  {
   "cell_type": "markdown",
   "metadata": {
    "colab_type": "text",
    "id": "ZdIy_gkbxr2y"
   },
   "source": [
    "## PYSPARK"
   ]
  },
  {
   "cell_type": "code",
   "execution_count": 1,
   "metadata": {
    "colab": {},
    "colab_type": "code",
    "executionInfo": {
     "elapsed": 967,
     "status": "ok",
     "timestamp": 1592862324230,
     "user": {
      "displayName": "T3Lab Vision",
      "photoUrl": "",
      "userId": "14779383426442114373"
     },
     "user_tz": -120
    },
    "id": "1gXWNXF3xaCI"
   },
   "outputs": [],
   "source": [
    "################ template to run PySpark on Colab #######################"
   ]
  },
  {
   "cell_type": "code",
   "execution_count": 2,
   "metadata": {
    "colab": {},
    "colab_type": "code",
    "executionInfo": {
     "elapsed": 35735,
     "status": "ok",
     "timestamp": 1592862359017,
     "user": {
      "displayName": "T3Lab Vision",
      "photoUrl": "",
      "userId": "14779383426442114373"
     },
     "user_tz": -120
    },
    "id": "cV5N7phAxZ5E"
   },
   "outputs": [],
   "source": [
    "!apt-get install openjdk-8-jdk-headless -qq > /dev/null\n",
    "!wget -q https://www-us.apache.org/dist/spark/spark-2.4.5/spark-2.4.5-bin-hadoop2.7.tgz\n",
    "!tar xf spark-2.4.5-bin-hadoop2.7.tgz\n",
    "!pip install -q findspark"
   ]
  },
  {
   "cell_type": "code",
   "execution_count": 3,
   "metadata": {
    "colab": {},
    "colab_type": "code",
    "executionInfo": {
     "elapsed": 35722,
     "status": "ok",
     "timestamp": 1592862359019,
     "user": {
      "displayName": "T3Lab Vision",
      "photoUrl": "",
      "userId": "14779383426442114373"
     },
     "user_tz": -120
    },
    "id": "Rx8d3DYfxZ1e"
   },
   "outputs": [],
   "source": [
    "import os\n",
    "os.environ[\"JAVA_HOME\"] = \"/usr/lib/jvm/java-8-openjdk-amd64\"\n",
    "os.environ[\"SPARK_HOME\"] = \"/content/spark-2.4.5-bin-hadoop2.7\""
   ]
  },
  {
   "cell_type": "code",
   "execution_count": 4,
   "metadata": {
    "colab": {},
    "colab_type": "code",
    "executionInfo": {
     "elapsed": 40487,
     "status": "ok",
     "timestamp": 1592862363800,
     "user": {
      "displayName": "T3Lab Vision",
      "photoUrl": "",
      "userId": "14779383426442114373"
     },
     "user_tz": -120
    },
    "id": "AQxEJQw-xZx5"
   },
   "outputs": [],
   "source": [
    "import findspark\n",
    "findspark.init()\n",
    "\n",
    "from pyspark.sql import SparkSession\n",
    "spark = SparkSession.builder.master(\"local[*]\").getOrCreate()\n",
    "spark1 = SparkSession.builder.appName('basic').getOrCreate()\n",
    "#Test must give no error"
   ]
  },
  {
   "cell_type": "code",
   "execution_count": 5,
   "metadata": {
    "colab": {},
    "colab_type": "code",
    "executionInfo": {
     "elapsed": 40469,
     "status": "ok",
     "timestamp": 1592862363802,
     "user": {
      "displayName": "T3Lab Vision",
      "photoUrl": "",
      "userId": "14779383426442114373"
     },
     "user_tz": -120
    },
    "id": "zaXVFSgTxZtx"
   },
   "outputs": [],
   "source": [
    "import pyspark"
   ]
  },
  {
   "cell_type": "code",
   "execution_count": 6,
   "metadata": {
    "colab": {},
    "colab_type": "code",
    "executionInfo": {
     "elapsed": 40458,
     "status": "ok",
     "timestamp": 1592862363802,
     "user": {
      "displayName": "T3Lab Vision",
      "photoUrl": "",
      "userId": "14779383426442114373"
     },
     "user_tz": -120
    },
    "id": "KNSXEGVe28Dn"
   },
   "outputs": [],
   "source": [
    "from pyspark import SparkConf, SparkContext\n",
    "conf = SparkConf().setAppName(\"basic\").setMaster(\"local\")\n",
    "#sc = SparkContext(conf=conf)  ## for jupyter and Databricks\n",
    "sc = SparkContext.getOrCreate()   ## for Colab"
   ]
  },
  {
   "cell_type": "code",
   "execution_count": 7,
   "metadata": {
    "colab": {},
    "colab_type": "code",
    "executionInfo": {
     "elapsed": 40430,
     "status": "ok",
     "timestamp": 1592862363803,
     "user": {
      "displayName": "T3Lab Vision",
      "photoUrl": "",
      "userId": "14779383426442114373"
     },
     "user_tz": -120
    },
    "id": "8xbsbpPJ2-R8"
   },
   "outputs": [],
   "source": [
    "from pyspark.sql.types import *"
   ]
  },
  {
   "cell_type": "code",
   "execution_count": 8,
   "metadata": {
    "colab": {},
    "colab_type": "code",
    "executionInfo": {
     "elapsed": 40399,
     "status": "ok",
     "timestamp": 1592862363804,
     "user": {
      "displayName": "T3Lab Vision",
      "photoUrl": "",
      "userId": "14779383426442114373"
     },
     "user_tz": -120
    },
    "id": "3kityPiWxZrb"
   },
   "outputs": [],
   "source": [
    "################ end template PySpark on Colab ##########################"
   ]
  },
  {
   "cell_type": "markdown",
   "metadata": {
    "colab_type": "text",
    "id": "UIy_hvleyHXw"
   },
   "source": [
    "### Breast Cancer Dataset"
   ]
  },
  {
   "cell_type": "code",
   "execution_count": 9,
   "metadata": {
    "colab": {
     "base_uri": "https://localhost:8080/",
     "height": 733
    },
    "colab_type": "code",
    "executionInfo": {
     "elapsed": 49324,
     "status": "ok",
     "timestamp": 1592862372739,
     "user": {
      "displayName": "T3Lab Vision",
      "photoUrl": "",
      "userId": "14779383426442114373"
     },
     "user_tz": -120
    },
    "id": "L4LzpClgK_CM",
    "outputId": "37853699-0a34-42dc-87ea-e0dcc0f4421b"
   },
   "outputs": [
    {
     "name": "stdout",
     "output_type": "stream",
     "text": [
      "--2020-06-22 21:46:04--  https://frenzy86.s3.eu-west-2.amazonaws.com/fav/tecno/breast_cancer.csv\n",
      "Resolving frenzy86.s3.eu-west-2.amazonaws.com (frenzy86.s3.eu-west-2.amazonaws.com)... 52.95.148.90\n",
      "Connecting to frenzy86.s3.eu-west-2.amazonaws.com (frenzy86.s3.eu-west-2.amazonaws.com)|52.95.148.90|:443... connected.\n",
      "HTTP request sent, awaiting response... 200 OK\n",
      "Length: 145599 (142K) [application/vnd.ms-excel]\n",
      "Saving to: ‘breast_cancer.csv.2’\n",
      "\n",
      "breast_cancer.csv.2 100%[===================>] 142.19K   193KB/s    in 0.7s    \n",
      "\n",
      "2020-06-22 21:46:06 (193 KB/s) - ‘breast_cancer.csv.2’ saved [145599/145599]\n",
      "\n"
     ]
    },
    {
     "data": {
      "text/plain": [
       "['mean radius',\n",
       " 'mean texture',\n",
       " 'mean perimeter',\n",
       " 'mean area',\n",
       " 'mean smoothness',\n",
       " 'mean compactness',\n",
       " 'mean concavity',\n",
       " 'mean concave points',\n",
       " 'mean symmetry',\n",
       " 'mean fractal dimension',\n",
       " 'radius error',\n",
       " 'texture error',\n",
       " 'perimeter error',\n",
       " 'area error',\n",
       " 'smoothness error',\n",
       " 'compactness error',\n",
       " 'concavity error',\n",
       " 'concave points error',\n",
       " 'symmetry error',\n",
       " 'fractal dimension error',\n",
       " 'worst radius',\n",
       " 'worst texture',\n",
       " 'worst perimeter',\n",
       " 'worst area',\n",
       " 'worst smoothness',\n",
       " 'worst compactness',\n",
       " 'worst concavity',\n",
       " 'worst concave points',\n",
       " 'worst symmetry',\n",
       " 'worst fractal dimension',\n",
       " 'malignant']"
      ]
     },
     "execution_count": 9,
     "metadata": {
      "tags": []
     },
     "output_type": "execute_result"
    }
   ],
   "source": [
    "!wget https://frenzy86.s3.eu-west-2.amazonaws.com/fav/tecno/breast_cancer.csv\n",
    "\n",
    "cancer_df = spark.read.csv(\"breast_cancer.csv\",header=True)\n",
    "cancer_df.columns"
   ]
  },
  {
   "cell_type": "markdown",
   "metadata": {
    "colab_type": "text",
    "id": "mpy4ImvtK_CP"
   },
   "source": [
    "Il DataFrame ha 31 colonne:\n",
    "* 30 features: che rappresentano delle proprietà dell'immagine, come raggio, area e perimetro.\n",
    "* 1 target: che è la colonna malignant, un valore di 1 indica un tumore maligno, al contrario un valore di 0 indica un tumore benigno."
   ]
  },
  {
   "cell_type": "code",
   "execution_count": 10,
   "metadata": {
    "colab": {
     "base_uri": "https://localhost:8080/",
     "height": 480
    },
    "colab_type": "code",
    "executionInfo": {
     "elapsed": 49832,
     "status": "ok",
     "timestamp": 1592862373261,
     "user": {
      "displayName": "T3Lab Vision",
      "photoUrl": "",
      "userId": "14779383426442114373"
     },
     "user_tz": -120
    },
    "id": "nfv4_jAgy8gF",
    "outputId": "e4f89002-55d4-49be-ec62-0207fcb55b0c"
   },
   "outputs": [
    {
     "name": "stdout",
     "output_type": "stream",
     "text": [
      "+-----------+------------+--------------+---------+-------------------+-------------------+-------------------+--------------------+-------------+----------------------+------------+------------------+------------------+----------+--------------------+--------------------+--------------------+--------------------+--------------------+-----------------------+------------+-------------+---------------+----------+-------------------+-----------------+-------------------+--------------------+--------------+-----------------------+---------+\n",
      "|mean radius|mean texture|mean perimeter|mean area|    mean smoothness|   mean compactness|     mean concavity| mean concave points|mean symmetry|mean fractal dimension|radius error|     texture error|   perimeter error|area error|    smoothness error|   compactness error|     concavity error|concave points error|      symmetry error|fractal dimension error|worst radius|worst texture|worst perimeter|worst area|   worst smoothness|worst compactness|    worst concavity|worst concave points|worst symmetry|worst fractal dimension|malignant|\n",
      "+-----------+------------+--------------+---------+-------------------+-------------------+-------------------+--------------------+-------------+----------------------+------------+------------------+------------------+----------+--------------------+--------------------+--------------------+--------------------+--------------------+-----------------------+------------+-------------+---------------+----------+-------------------+-----------------+-------------------+--------------------+--------------+-----------------------+---------+\n",
      "|      20.57|       17.77|         132.9|   1326.0|            0.08474|            0.07864|             0.0869| 0.07017000000000001|       0.1812|  0.056670000000000005|      0.5435|            0.7339|             3.398|     74.08|            0.005225|0.013080000000000001|              0.0186|              0.0134|0.013890000000000001|               0.003532|       24.99|        23.41|          158.8|    1956.0|             0.1238|           0.1866|             0.2416| 0.18600000000000003|         0.275|                0.08902|        0|\n",
      "|      19.69|       21.25|         130.0|   1203.0|             0.1096|             0.1599|             0.1974|              0.1279|       0.2069|  0.059989999999999995|      0.7456|            0.7869|             4.585|     94.03|             0.00615|0.040060000000000005|             0.03832|             0.02058|              0.0225|               0.004571|       23.57|        25.53|          152.5|    1709.0|             0.1444|           0.4245|             0.4504|               0.243|        0.3613|    0.08757999999999999|        0|\n",
      "|      11.42|       20.38|         77.58|    386.1|             0.1425|             0.2839|             0.2414|              0.1052|       0.2597|               0.09744|      0.4956|             1.156|             3.445|     27.23|             0.00911|             0.07458|             0.05661|             0.01867|0.059629999999999996|               0.009208|       14.91|         26.5|          98.87|     567.7|             0.2098|           0.8663|             0.6869|              0.2575|        0.6638|    0.17300000000000001|        0|\n",
      "|      20.29|       14.34|         135.1|   1297.0|             0.1003|             0.1328|              0.198|              0.1043|       0.1809|   0.05882999999999999|      0.7572|            0.7813|             5.438|     94.44|             0.01149|             0.02461| 0.05687999999999999|             0.01885|             0.01756|               0.005115|       22.54|        16.67|          152.2|    1575.0|             0.1374|            0.205|                0.4|              0.1625|        0.2364|                0.07678|        0|\n",
      "|      12.45|        15.7|         82.57|    477.1|             0.1278|               0.17|             0.1578|             0.08089|       0.2087|   0.07612999999999999|      0.3345|            0.8902|             2.217|     27.19|0.007509999999999999|             0.03345|0.036719999999999996|             0.01137|             0.02165|               0.005082|       15.47|        23.75|          103.4|     741.6|             0.1791|           0.5249|             0.5355|              0.1741|        0.3985|                 0.1244|        0|\n",
      "|      18.25|       19.98|         119.6|   1040.0|0.09462999999999999|              0.109|             0.1127| 0.07400000000000001|       0.1794|  0.057420000000000006|      0.4467|            0.7732|              3.18|     53.91|            0.004314|0.013819999999999999|             0.02254|             0.01039|             0.01369|               0.002179|       22.88|        27.66|          153.2|    1606.0|             0.1442|           0.2576|             0.3784|              0.1932|        0.3063|    0.08367999999999999|        0|\n",
      "|      13.71|       20.83|          90.2|    577.9|             0.1189|             0.1645|0.09366000000000001|             0.05985|       0.2196|               0.07451|      0.5835|1.3769999999999998|3.8560000000000003|     50.96|            0.008805|0.030289999999999997|0.024880000000000003|0.014480000000000002|             0.01486|               0.005412|       17.06|        28.14|          110.6|     897.0|             0.1654|           0.3682|             0.2678|              0.1556|        0.3196|                 0.1151|        0|\n",
      "|       13.0|       21.82|          87.5|    519.8|             0.1273|             0.1932|             0.1859|             0.09353|        0.235|               0.07389|      0.3063|             1.002|             2.406|     24.32|            0.005731|0.035019999999999996|             0.03553|             0.01226|             0.02143|               0.003749|       15.49|        30.73|          106.2|     739.3|             0.1703|           0.5401|              0.539| 0.20600000000000002|        0.4378|                 0.1072|        0|\n",
      "|      12.46|       24.04|         83.97|    475.9|             0.1186|             0.2396|             0.2273| 0.08542999999999999|        0.203|   0.08242999999999999|      0.2976|             1.599|             2.039|     23.94|0.007148999999999999|             0.07217|             0.07743|             0.01432|             0.01789|                0.01008|       15.09|        40.68|          97.65|     711.4|             0.1853|            1.058|              1.105|               0.221|        0.4366|                 0.2075|        0|\n",
      "|      16.02|       23.24|         102.7|    797.8|0.08206000000000001|            0.06669|            0.03299|             0.03323|       0.1528|   0.05697000000000001|      0.3795|             1.187|2.4659999999999997|     40.51|            0.004029|            0.009269|0.011009999999999999|            0.007591|              0.0146|               0.003042|       19.19|        33.88|          123.8|    1150.0|             0.1181|           0.1551|             0.1459|             0.09975|        0.2948|                0.08452|        0|\n",
      "|      15.78|       17.89|         103.6|    781.0|             0.0971|             0.1292|            0.09954| 0.06606000000000001|       0.1842|  0.060820000000000006|      0.5058|            0.9849|3.5639999999999996|     54.16|            0.005771|             0.04061|             0.02791|0.012819999999999998|             0.02008|               0.004144|       20.42|        27.28|          136.5|    1299.0|             0.1396|           0.5609|             0.3965| 0.18100000000000002|        0.3792|                 0.1048|        0|\n",
      "|      19.17|        24.8|         132.4|   1123.0|             0.0974|             0.2458|             0.2065|              0.1118|       0.2397|                 0.078|      0.9555|             3.568|             11.07|     116.2|            0.003139|             0.08297|              0.0889|              0.0409|             0.04484|                0.01284|       20.96|        29.94|          151.7|    1332.0|             0.1037|           0.3903|             0.3639|              0.1767|        0.3176|                 0.1023|        0|\n",
      "|      15.85|       23.95|         103.7|    782.7|            0.08401|             0.1002|            0.09938|             0.05364|       0.1847|               0.05338|      0.4033|             1.078|             2.903|     36.58|            0.009769|             0.03126|             0.05051|             0.01992|0.029810000000000003|               0.003002|       16.84|        27.66|          112.0|     876.5|             0.1131|           0.1924|             0.2322|              0.1119|        0.2809|    0.06287000000000001|        0|\n",
      "|      13.73|       22.61|          93.6|    578.3|             0.1131|             0.2293|             0.2128|             0.08025|       0.2069|               0.07682|      0.2121|             1.169|             2.061|     19.21|0.006429000000000001|             0.05936|             0.05501|0.016280000000000003|             0.01961|   0.008093000000000001|       15.03|        32.01|          108.8|     697.7|             0.1651|           0.7725|             0.6943|              0.2208|        0.3596|                 0.1431|        0|\n",
      "|      14.54|       27.54|         96.73|    658.8|             0.1139|             0.1595|             0.1639|             0.07364|       0.2303|               0.07077|        0.37|             1.033|2.8789999999999996|     32.55|            0.005607|              0.0424|             0.04741|              0.0109|             0.01857|   0.005465999999999...|       17.46|        37.13|          124.1|     943.2|             0.1678|           0.6577|             0.7026|              0.1712|        0.4218|                 0.1341|        0|\n",
      "|      14.68|       20.13|         94.74|    684.5|0.09867000000000001|0.07200000000000001|            0.07395|             0.05259|       0.1586|               0.05922|      0.4727|              1.24|             3.195|      45.4|            0.005718|             0.01162|             0.01998|0.011090000000000001|              0.0141|               0.002085|       19.07|        30.88|          123.4|    1138.0|             0.1464|           0.1871|             0.2914|              0.1609|        0.3029|                0.08216|        0|\n",
      "|      16.13|       20.68|         108.1|    798.8|0.11699999999999999|             0.2022|             0.1722|              0.1028|       0.2164|               0.07356|      0.5692|             1.073|3.8539999999999996|     54.18|            0.007026|             0.02501|             0.03188|0.012969999999999999|0.016890000000000002|               0.004142|       20.96|        31.48|          136.8|    1315.0|             0.1789|           0.4233|             0.4784|              0.2073|        0.3706|                 0.1142|        0|\n",
      "|      19.81|       22.15|         130.0|   1260.0|0.09831000000000001|             0.1027|             0.1479|             0.09498|       0.1582|               0.05395|      0.7582|1.0170000000000001|             5.865|     112.4|            0.006494|0.018930000000000002|             0.03391|             0.01521|             0.01356|               0.001997|       27.32|        30.88|          186.8|    2398.0|             0.1512|            0.315|             0.5372|              0.2388|        0.2768|                0.07615|        0|\n",
      "|      13.54|       14.36|         87.46|    566.3|            0.09779|            0.08129|0.06663999999999999|0.047810000000000005|       0.1885|               0.05766|      0.2699|            0.7886|2.0580000000000003|     23.56|            0.008462|              0.0146|             0.02387|             0.01315|              0.0198|                 0.0023|       15.11|        19.26|           99.7|     711.2|0.14400000000000002|           0.1773|              0.239|              0.1288|        0.2977|                0.07259|        1|\n",
      "|      13.08|       15.71|         85.63|    520.0|             0.1075|              0.127|            0.04568|              0.0311|       0.1967|               0.06811|      0.1852|            0.7477|             1.383|     14.67|            0.004097|             0.01898|0.016980000000000002|0.006490000000000001|             0.01678|               0.002425|        14.5|        20.49|          96.09|     630.5|             0.1312|           0.2776|0.18899999999999997| 0.07282999999999999|        0.3184|                0.08183|        1|\n",
      "+-----------+------------+--------------+---------+-------------------+-------------------+-------------------+--------------------+-------------+----------------------+------------+------------------+------------------+----------+--------------------+--------------------+--------------------+--------------------+--------------------+-----------------------+------------+-------------+---------------+----------+-------------------+-----------------+-------------------+--------------------+--------------+-----------------------+---------+\n",
      "only showing top 20 rows\n",
      "\n"
     ]
    }
   ],
   "source": [
    "cancer_df.show()"
   ]
  },
  {
   "cell_type": "code",
   "execution_count": 11,
   "metadata": {
    "colab": {
     "base_uri": "https://localhost:8080/",
     "height": 580
    },
    "colab_type": "code",
    "executionInfo": {
     "elapsed": 49819,
     "status": "ok",
     "timestamp": 1592862373263,
     "user": {
      "displayName": "T3Lab Vision",
      "photoUrl": "",
      "userId": "14779383426442114373"
     },
     "user_tz": -120
    },
    "id": "hXtenKpW1yqe",
    "outputId": "231837a9-7dec-4cfc-8f21-9288418d0007"
   },
   "outputs": [
    {
     "name": "stdout",
     "output_type": "stream",
     "text": [
      "root\n",
      " |-- mean radius: string (nullable = true)\n",
      " |-- mean texture: string (nullable = true)\n",
      " |-- mean perimeter: string (nullable = true)\n",
      " |-- mean area: string (nullable = true)\n",
      " |-- mean smoothness: string (nullable = true)\n",
      " |-- mean compactness: string (nullable = true)\n",
      " |-- mean concavity: string (nullable = true)\n",
      " |-- mean concave points: string (nullable = true)\n",
      " |-- mean symmetry: string (nullable = true)\n",
      " |-- mean fractal dimension: string (nullable = true)\n",
      " |-- radius error: string (nullable = true)\n",
      " |-- texture error: string (nullable = true)\n",
      " |-- perimeter error: string (nullable = true)\n",
      " |-- area error: string (nullable = true)\n",
      " |-- smoothness error: string (nullable = true)\n",
      " |-- compactness error: string (nullable = true)\n",
      " |-- concavity error: string (nullable = true)\n",
      " |-- concave points error: string (nullable = true)\n",
      " |-- symmetry error: string (nullable = true)\n",
      " |-- fractal dimension error: string (nullable = true)\n",
      " |-- worst radius: string (nullable = true)\n",
      " |-- worst texture: string (nullable = true)\n",
      " |-- worst perimeter: string (nullable = true)\n",
      " |-- worst area: string (nullable = true)\n",
      " |-- worst smoothness: string (nullable = true)\n",
      " |-- worst compactness: string (nullable = true)\n",
      " |-- worst concavity: string (nullable = true)\n",
      " |-- worst concave points: string (nullable = true)\n",
      " |-- worst symmetry: string (nullable = true)\n",
      " |-- worst fractal dimension: string (nullable = true)\n",
      " |-- malignant: string (nullable = true)\n",
      "\n"
     ]
    }
   ],
   "source": [
    "cancer_df.printSchema()"
   ]
  },
  {
   "cell_type": "code",
   "execution_count": 12,
   "metadata": {
    "colab": {
     "base_uri": "https://localhost:8080/",
     "height": 546
    },
    "colab_type": "code",
    "executionInfo": {
     "elapsed": 49805,
     "status": "ok",
     "timestamp": 1592862373264,
     "user": {
      "displayName": "T3Lab Vision",
      "photoUrl": "",
      "userId": "14779383426442114373"
     },
     "user_tz": -120
    },
    "id": "J2EINbdm2lN5",
    "outputId": "8d0b11d1-9823-40db-c3f1-41531982e56c"
   },
   "outputs": [
    {
     "data": {
      "text/plain": [
       "['mean radius',\n",
       " 'mean texture',\n",
       " 'mean perimeter',\n",
       " 'mean area',\n",
       " 'mean smoothness',\n",
       " 'mean compactness',\n",
       " 'mean concavity',\n",
       " 'mean concave points',\n",
       " 'mean symmetry',\n",
       " 'mean fractal dimension',\n",
       " 'radius error',\n",
       " 'texture error',\n",
       " 'perimeter error',\n",
       " 'area error',\n",
       " 'smoothness error',\n",
       " 'compactness error',\n",
       " 'concavity error',\n",
       " 'concave points error',\n",
       " 'symmetry error',\n",
       " 'fractal dimension error',\n",
       " 'worst radius',\n",
       " 'worst texture',\n",
       " 'worst perimeter',\n",
       " 'worst area',\n",
       " 'worst smoothness',\n",
       " 'worst compactness',\n",
       " 'worst concavity',\n",
       " 'worst concave points',\n",
       " 'worst symmetry',\n",
       " 'worst fractal dimension',\n",
       " 'malignant']"
      ]
     },
     "execution_count": 12,
     "metadata": {
      "tags": []
     },
     "output_type": "execute_result"
    }
   ],
   "source": [
    "cancer_df.columns"
   ]
  },
  {
   "cell_type": "code",
   "execution_count": 13,
   "metadata": {
    "colab": {},
    "colab_type": "code",
    "executionInfo": {
     "elapsed": 50357,
     "status": "ok",
     "timestamp": 1592862373833,
     "user": {
      "displayName": "T3Lab Vision",
      "photoUrl": "",
      "userId": "14779383426442114373"
     },
     "user_tz": -120
    },
    "id": "GuApSbUB2KPs"
   },
   "outputs": [],
   "source": [
    "data_schema = [StructField('mean radius', FloatType(), True),\n",
    "                StructField('mean texture', FloatType(), True),\n",
    "                StructField('mean perimeter', FloatType(), True),\n",
    "                StructField('mean area', FloatType(), True),\n",
    "                StructField('mean smoothness', FloatType(), True),\n",
    "                StructField('mean compactness',FloatType(), True),\n",
    "                StructField( 'mean concavity',FloatType(), True),\n",
    "                StructField('mean concave points',FloatType(), True),\n",
    "                StructField('mean symmetry',FloatType(), True),\n",
    "                StructField('mean fractal dimension',FloatType(), True),\n",
    "                StructField('radius error',FloatType(), True),\n",
    "                StructField('texture error',FloatType(), True),\n",
    "                StructField('perimeter error',FloatType(), True),\n",
    "                StructField('area error',FloatType(), True),\n",
    "                StructField('smoothness error',FloatType(), True),\n",
    "                StructField('compactness error',FloatType(), True),\n",
    "                StructField('concavity error',FloatType(), True),\n",
    "                StructField('concave points error',FloatType(), True),\n",
    "                StructField('symmetry error',FloatType(), True),\n",
    "                StructField('fractal dimension error',FloatType(), True),\n",
    "                StructField('worst radius',FloatType(), True),\n",
    "                StructField('worst texture',FloatType(), True),\n",
    "                StructField('worst perimeter',FloatType(), True),\n",
    "                StructField('worst area',FloatType(), True),\n",
    "                StructField('worst smoothness',FloatType(), True),\n",
    "                StructField('worst compactness',FloatType(), True),\n",
    "                StructField('worst concavity',FloatType(), True),\n",
    "                StructField('worst concave points',FloatType(), True),\n",
    "                StructField('worst symmetry',FloatType(), True),\n",
    "                StructField('worst fractal dimension',FloatType(), True),\n",
    "                StructField('malignant',FloatType(), True),]             \n",
    "            \n",
    "schema = StructType(fields=data_schema)"
   ]
  },
  {
   "cell_type": "code",
   "execution_count": 14,
   "metadata": {
    "colab": {
     "base_uri": "https://localhost:8080/",
     "height": 546
    },
    "colab_type": "code",
    "executionInfo": {
     "elapsed": 50350,
     "status": "ok",
     "timestamp": 1592862373836,
     "user": {
      "displayName": "T3Lab Vision",
      "photoUrl": "",
      "userId": "14779383426442114373"
     },
     "user_tz": -120
    },
    "id": "oSRbGiT-2WyU",
    "outputId": "d9dd9bc0-944b-4c3a-e339-39ea41476b83"
   },
   "outputs": [
    {
     "data": {
      "text/plain": [
       "['mean radius',\n",
       " 'mean texture',\n",
       " 'mean perimeter',\n",
       " 'mean area',\n",
       " 'mean smoothness',\n",
       " 'mean compactness',\n",
       " 'mean concavity',\n",
       " 'mean concave points',\n",
       " 'mean symmetry',\n",
       " 'mean fractal dimension',\n",
       " 'radius error',\n",
       " 'texture error',\n",
       " 'perimeter error',\n",
       " 'area error',\n",
       " 'smoothness error',\n",
       " 'compactness error',\n",
       " 'concavity error',\n",
       " 'concave points error',\n",
       " 'symmetry error',\n",
       " 'fractal dimension error',\n",
       " 'worst radius',\n",
       " 'worst texture',\n",
       " 'worst perimeter',\n",
       " 'worst area',\n",
       " 'worst smoothness',\n",
       " 'worst compactness',\n",
       " 'worst concavity',\n",
       " 'worst concave points',\n",
       " 'worst symmetry',\n",
       " 'worst fractal dimension',\n",
       " 'malignant']"
      ]
     },
     "execution_count": 14,
     "metadata": {
      "tags": []
     },
     "output_type": "execute_result"
    }
   ],
   "source": [
    "cancer_df = spark.read.csv(\"breast_cancer.csv\",header=True,schema=schema)\n",
    "cancer_df.columns"
   ]
  },
  {
   "cell_type": "markdown",
   "metadata": {
    "colab_type": "text",
    "id": "Kqe16hRyK_CQ"
   },
   "source": [
    "## Preprocessing dei dati\n",
    "%md La classe MLlib richiede che le features si trovino tutte all'interno di un unico vettore su di una colonna, possiamo creare questa rappresentazione utilizzando la classe *VectorAssemlber* di MLlib:\n",
    "* All'interno del parametro inputCols dobbiamo specificare quali sono le colonne con gli input.\n",
    "* All'interno del parametro outputCol dobbiamo specificare il nome della colonna che conterrà le features."
   ]
  },
  {
   "cell_type": "code",
   "execution_count": 15,
   "metadata": {
    "colab": {},
    "colab_type": "code",
    "executionInfo": {
     "elapsed": 50660,
     "status": "ok",
     "timestamp": 1592862374159,
     "user": {
      "displayName": "T3Lab Vision",
      "photoUrl": "",
      "userId": "14779383426442114373"
     },
     "user_tz": -120
    },
    "id": "FAdF8O9dK_CQ"
   },
   "outputs": [],
   "source": [
    "from pyspark.ml.feature import VectorAssembler\n",
    "\n",
    "assembler = VectorAssembler(inputCols=cancer_df.columns[:-1], outputCol=\"features\")\n",
    "data_df = assembler.transform(cancer_df)"
   ]
  },
  {
   "cell_type": "markdown",
   "metadata": {
    "colab_type": "text",
    "id": "QDSye9u3K_CS"
   },
   "source": [
    "%md E' buona norma portare le features in un range di valori comuni, questo processo può velocizzare anche di molto la fase di addestramento. Facciamolo tramite la **standardizzazione** che ci permette di contenere le varie colonne all'interno di una distribuzione normale, cioè una distribuzione con media 0 e deviazione standard 1. Possiamo eseguire la standardizzazione usando la classe *StandardScaler* di MLlib."
   ]
  },
  {
   "cell_type": "code",
   "execution_count": 16,
   "metadata": {
    "colab": {},
    "colab_type": "code",
    "executionInfo": {
     "elapsed": 51718,
     "status": "ok",
     "timestamp": 1592862375226,
     "user": {
      "displayName": "T3Lab Vision",
      "photoUrl": "",
      "userId": "14779383426442114373"
     },
     "user_tz": -120
    },
    "id": "fmaKhdUcK_CT"
   },
   "outputs": [],
   "source": [
    "from pyspark.ml.feature import StandardScaler\n",
    "\n",
    "scaler = StandardScaler(inputCol=\"features\", outputCol=\"scaled_features\")\n",
    "scaler_model = scaler.fit(data_df)\n",
    "data_df = scaler_model.transform(data_df)"
   ]
  },
  {
   "cell_type": "markdown",
   "metadata": {
    "colab_type": "text",
    "id": "9AYHrqB_K_CV"
   },
   "source": [
    "Ora possiamo creare i DataFrame per addestramento e test, estraendoli dal Dataframe originale, possiamo farlo tramite il metodo RandomSplit. Assegnamo il 70% degli esempi al set di addestramento e il 30% al set di test."
   ]
  },
  {
   "cell_type": "code",
   "execution_count": 17,
   "metadata": {
    "colab": {
     "base_uri": "https://localhost:8080/",
     "height": 51
    },
    "colab_type": "code",
    "executionInfo": {
     "elapsed": 53332,
     "status": "ok",
     "timestamp": 1592862376849,
     "user": {
      "displayName": "T3Lab Vision",
      "photoUrl": "",
      "userId": "14779383426442114373"
     },
     "user_tz": -120
    },
    "id": "KKHYsktGK_CV",
    "outputId": "5e69a7ce-fa69-4524-ef0c-17b60b73069e"
   },
   "outputs": [
    {
     "name": "stdout",
     "output_type": "stream",
     "text": [
      "383 esempi nel train set\n",
      "180 esempi nel test set\n"
     ]
    }
   ],
   "source": [
    "train_set, test_set = data_df.randomSplit([0.7, 0.3])\n",
    "\n",
    "print(\"%d esempi nel train set\" % train_set.count())\n",
    "print(\"%d esempi nel test set\" % test_set.count())"
   ]
  },
  {
   "cell_type": "markdown",
   "metadata": {
    "colab_type": "text",
    "id": "OAVK_UCSK_CX"
   },
   "source": [
    "Ottimo ! Ora possiamo creare il modello di Regressione Logistica, usiamo la classe *LogisticRegression, all'interno del costruttore dovremo passare due parametri:\n",
    "* **featuresCol**: il nome della colonna con le features\n",
    "* **labelCol**: il nome della colonna con il target"
   ]
  },
  {
   "cell_type": "code",
   "execution_count": 18,
   "metadata": {
    "colab": {},
    "colab_type": "code",
    "executionInfo": {
     "elapsed": 53324,
     "status": "ok",
     "timestamp": 1592862376851,
     "user": {
      "displayName": "T3Lab Vision",
      "photoUrl": "",
      "userId": "14779383426442114373"
     },
     "user_tz": -120
    },
    "id": "BSpGVxJJK_CY"
   },
   "outputs": [],
   "source": [
    "from pyspark.ml.classification import LogisticRegression\n",
    "\n",
    "lr = LogisticRegression(featuresCol=\"scaled_features\", labelCol=\"malignant\")"
   ]
  },
  {
   "cell_type": "markdown",
   "metadata": {
    "colab_type": "text",
    "id": "K_Dl-boPK_Ca"
   },
   "source": [
    "Avviamo l'addestramento con il metodo *fit*, passando al suo interno il set di addetramento"
   ]
  },
  {
   "cell_type": "code",
   "execution_count": 19,
   "metadata": {
    "colab": {},
    "colab_type": "code",
    "executionInfo": {
     "elapsed": 59404,
     "status": "ok",
     "timestamp": 1592862382940,
     "user": {
      "displayName": "T3Lab Vision",
      "photoUrl": "",
      "userId": "14779383426442114373"
     },
     "user_tz": -120
    },
    "id": "Ikm4hkTDK_Cb"
   },
   "outputs": [],
   "source": [
    "model = lr.fit(train_set)"
   ]
  },
  {
   "cell_type": "markdown",
   "metadata": {
    "colab_type": "text",
    "id": "t83vQaBDK_Cd"
   },
   "source": [
    "Abbiamo creato il nostro modello ! Ora verifichiamone la qualità."
   ]
  },
  {
   "cell_type": "markdown",
   "metadata": {
    "colab_type": "text",
    "id": "IhxGjtb3K_Cd"
   },
   "source": [
    "## Valutiamo il Modello\n",
    "Ora verifichiamone la qualità testandolo su dati che non ha visto durante l'addestramento, possiamo farlo usando il test set e il metodo *evalualte*."
   ]
  },
  {
   "cell_type": "code",
   "execution_count": 20,
   "metadata": {
    "colab": {},
    "colab_type": "code",
    "executionInfo": {
     "elapsed": 59848,
     "status": "ok",
     "timestamp": 1592862383392,
     "user": {
      "displayName": "T3Lab Vision",
      "photoUrl": "",
      "userId": "14779383426442114373"
     },
     "user_tz": -120
    },
    "id": "gS4JVJ4aK_Cf"
   },
   "outputs": [],
   "source": [
    "evaluation = model.evaluate(test_set)"
   ]
  },
  {
   "cell_type": "markdown",
   "metadata": {
    "colab_type": "text",
    "id": "Ng_qOA_dK_Ch"
   },
   "source": [
    "Il metodo *evaluate* calcolerà diverse metriche che ci possono aiutare a comprendere la qualità del modello, vediamone alcune."
   ]
  },
  {
   "cell_type": "markdown",
   "metadata": {
    "colab_type": "text",
    "id": "8LY-LIP_K_Ci"
   },
   "source": [
    "#### Accuracy (Accuratezza)\n",
    "L'accuracy indica semplicemente la percentuale di classificazioni che il nostro modello ha eseguito correttamente."
   ]
  },
  {
   "cell_type": "code",
   "execution_count": 21,
   "metadata": {
    "colab": {
     "base_uri": "https://localhost:8080/",
     "height": 34
    },
    "colab_type": "code",
    "executionInfo": {
     "elapsed": 60316,
     "status": "ok",
     "timestamp": 1592862383868,
     "user": {
      "displayName": "T3Lab Vision",
      "photoUrl": "",
      "userId": "14779383426442114373"
     },
     "user_tz": -120
    },
    "id": "Fj4BbxNjK_Cj",
    "outputId": "520f64af-96f0-4b89-ab64-b9302de43b34"
   },
   "outputs": [
    {
     "data": {
      "text/plain": [
       "0.9444444444444444"
      ]
     },
     "execution_count": 21,
     "metadata": {
      "tags": []
     },
     "output_type": "execute_result"
    }
   ],
   "source": [
    "evaluation.accuracy"
   ]
  },
  {
   "cell_type": "markdown",
   "metadata": {
    "colab_type": "text",
    "id": "5a_hWueGK_Cm"
   },
   "source": [
    "### Precision (Precision)\n",
    "La precision ci dice, tra le classificazioni eseguite per una data classe, quante sono effettivamente apparteneti a quella classe."
   ]
  },
  {
   "cell_type": "code",
   "execution_count": 22,
   "metadata": {
    "colab": {
     "base_uri": "https://localhost:8080/",
     "height": 34
    },
    "colab_type": "code",
    "executionInfo": {
     "elapsed": 60758,
     "status": "ok",
     "timestamp": 1592862384332,
     "user": {
      "displayName": "T3Lab Vision",
      "photoUrl": "",
      "userId": "14779383426442114373"
     },
     "user_tz": -120
    },
    "id": "1DkGldErK_Cm",
    "outputId": "0c8df0fc-46e1-49bc-c62a-001056357194"
   },
   "outputs": [
    {
     "data": {
      "text/plain": [
       "[0.9180327868852459, 0.957983193277311]"
      ]
     },
     "execution_count": 22,
     "metadata": {
      "tags": []
     },
     "output_type": "execute_result"
    }
   ],
   "source": [
    "evaluation.precisionByLabel"
   ]
  },
  {
   "cell_type": "markdown",
   "metadata": {
    "colab_type": "text",
    "id": "irmO8o7zK_Co"
   },
   "source": [
    "### Recall (Richiamo)\n",
    "Il recall ci dice quanti dei casi positivi il modello è riuscito a classificare correttamente."
   ]
  },
  {
   "cell_type": "code",
   "execution_count": 23,
   "metadata": {
    "colab": {
     "base_uri": "https://localhost:8080/",
     "height": 34
    },
    "colab_type": "code",
    "executionInfo": {
     "elapsed": 60739,
     "status": "ok",
     "timestamp": 1592862384334,
     "user": {
      "displayName": "T3Lab Vision",
      "photoUrl": "",
      "userId": "14779383426442114373"
     },
     "user_tz": -120
    },
    "id": "sehYFbX9K_Cp",
    "outputId": "f68553ca-0748-410e-bdfd-a6a1e7273fc1"
   },
   "outputs": [
    {
     "data": {
      "text/plain": [
       "[0.9180327868852459, 0.957983193277311]"
      ]
     },
     "execution_count": 23,
     "metadata": {
      "tags": []
     },
     "output_type": "execute_result"
    }
   ],
   "source": [
    "evaluation.recallByLabel"
   ]
  },
  {
   "cell_type": "markdown",
   "metadata": {
    "colab_type": "text",
    "id": "qYQGCmHJK_Cr"
   },
   "source": [
    "## Testiamo il modello\n",
    "Ora che abbiamo addestrato e validato il nostro modello, testiamolo su nuovi dati. Una clinica ci invia un file CSV contenente i risultati dell'agobiopsia per 3 pazienti che hanno in cura, dobbiamo utilizzare il nostro modello per identificare eventuali tumori maligni. Scarichiamo  il CSV"
   ]
  },
  {
   "cell_type": "code",
   "execution_count": 45,
   "metadata": {
    "colab": {
     "base_uri": "https://localhost:8080/",
     "height": 204
    },
    "colab_type": "code",
    "executionInfo": {
     "elapsed": 3451,
     "status": "ok",
     "timestamp": 1592862693999,
     "user": {
      "displayName": "T3Lab Vision",
      "photoUrl": "",
      "userId": "14779383426442114373"
     },
     "user_tz": -120
    },
    "id": "nDm-4_Wi_dMN",
    "outputId": "ee32cd80-1cb6-4339-896c-e4d87c4eaa02"
   },
   "outputs": [
    {
     "name": "stdout",
     "output_type": "stream",
     "text": [
      "--2020-06-22 21:51:31--  https://frenzy86.s3.eu-west-2.amazonaws.com/fav/tecno/exam_results.csv\n",
      "Resolving frenzy86.s3.eu-west-2.amazonaws.com (frenzy86.s3.eu-west-2.amazonaws.com)... 52.95.148.94\n",
      "Connecting to frenzy86.s3.eu-west-2.amazonaws.com (frenzy86.s3.eu-west-2.amazonaws.com)|52.95.148.94|:443... connected.\n",
      "HTTP request sent, awaiting response... 200 OK\n",
      "Length: 1143 (1.1K) [application/vnd.ms-excel]\n",
      "Saving to: ‘exam_results.csv.1’\n",
      "\n",
      "exam_results.csv.1  100%[===================>]   1.12K  --.-KB/s    in 0s      \n",
      "\n",
      "2020-06-22 21:51:32 (28.2 MB/s) - ‘exam_results.csv.1’ saved [1143/1143]\n",
      "\n"
     ]
    }
   ],
   "source": [
    "!wget https://frenzy86.s3.eu-west-2.amazonaws.com/fav/tecno/exam_results.csv"
   ]
  },
  {
   "cell_type": "code",
   "execution_count": 46,
   "metadata": {
    "colab": {},
    "colab_type": "code",
    "executionInfo": {
     "elapsed": 1831,
     "status": "ok",
     "timestamp": 1592862695997,
     "user": {
      "displayName": "T3Lab Vision",
      "photoUrl": "",
      "userId": "14779383426442114373"
     },
     "user_tz": -120
    },
    "id": "9GTvgMh7K_Ct"
   },
   "outputs": [],
   "source": [
    "exams_df = spark.read.csv(\"exam_results.csv\", inferSchema=True, header=True)"
   ]
  },
  {
   "cell_type": "markdown",
   "metadata": {
    "colab_type": "text",
    "id": "rcNFv5I_K_Cv"
   },
   "source": [
    "Creiamo la colonna con le features"
   ]
  },
  {
   "cell_type": "code",
   "execution_count": 47,
   "metadata": {
    "colab": {
     "base_uri": "https://localhost:8080/",
     "height": 580
    },
    "colab_type": "code",
    "executionInfo": {
     "elapsed": 770,
     "status": "ok",
     "timestamp": 1592862697996,
     "user": {
      "displayName": "T3Lab Vision",
      "photoUrl": "",
      "userId": "14779383426442114373"
     },
     "user_tz": -120
    },
    "id": "QV89Ql5E4-o_",
    "outputId": "8a2f17ee-a461-488e-9804-b24711871cde"
   },
   "outputs": [
    {
     "name": "stdout",
     "output_type": "stream",
     "text": [
      "root\n",
      " |-- id: integer (nullable = true)\n",
      " |-- mean radius: string (nullable = true)\n",
      " |-- mean texture: double (nullable = true)\n",
      " |-- mean perimeter: double (nullable = true)\n",
      " |-- mean area: double (nullable = true)\n",
      " |-- mean smoothness: double (nullable = true)\n",
      " |-- mean compactness: double (nullable = true)\n",
      " |-- mean concavity: double (nullable = true)\n",
      " |-- mean concave points: double (nullable = true)\n",
      " |-- mean symmetry: double (nullable = true)\n",
      " |-- mean fractal dimension: double (nullable = true)\n",
      " |-- radius error: double (nullable = true)\n",
      " |-- texture error: double (nullable = true)\n",
      " |-- perimeter error: double (nullable = true)\n",
      " |-- area error: double (nullable = true)\n",
      " |-- smoothness error: double (nullable = true)\n",
      " |-- compactness error: double (nullable = true)\n",
      " |-- concavity error: double (nullable = true)\n",
      " |-- concave points error: double (nullable = true)\n",
      " |-- symmetry error: double (nullable = true)\n",
      " |-- fractal dimension error: double (nullable = true)\n",
      " |-- worst radius: double (nullable = true)\n",
      " |-- worst texture: double (nullable = true)\n",
      " |-- worst perimeter: double (nullable = true)\n",
      " |-- worst area: double (nullable = true)\n",
      " |-- worst smoothness: double (nullable = true)\n",
      " |-- worst compactness: double (nullable = true)\n",
      " |-- worst concavity: double (nullable = true)\n",
      " |-- worst concave points: double (nullable = true)\n",
      " |-- worst symmetry: double (nullable = true)\n",
      " |-- worst fractal dimension: double (nullable = true)\n",
      "\n"
     ]
    }
   ],
   "source": [
    "exams_df.printSchema()"
   ]
  },
  {
   "cell_type": "code",
   "execution_count": 47,
   "metadata": {
    "colab": {},
    "colab_type": "code",
    "executionInfo": {
     "elapsed": 709,
     "status": "ok",
     "timestamp": 1592862699271,
     "user": {
      "displayName": "T3Lab Vision",
      "photoUrl": "",
      "userId": "14779383426442114373"
     },
     "user_tz": -120
    },
    "id": "d8wftxi67pRC"
   },
   "outputs": [],
   "source": []
  },
  {
   "cell_type": "code",
   "execution_count": 48,
   "metadata": {
    "colab": {},
    "colab_type": "code",
    "executionInfo": {
     "elapsed": 525,
     "status": "ok",
     "timestamp": 1592862699654,
     "user": {
      "displayName": "T3Lab Vision",
      "photoUrl": "",
      "userId": "14779383426442114373"
     },
     "user_tz": -120
    },
    "id": "NgL63OYF5ouq"
   },
   "outputs": [],
   "source": [
    "data_schema = [StructField('id', IntegerType(), True),\n",
    "                StructField('mean radius', FloatType(), True),\n",
    "                StructField('mean texture', FloatType(), True),\n",
    "                StructField('mean perimeter', FloatType(), True),\n",
    "                StructField('mean area', FloatType(), True),\n",
    "                StructField('mean smoothness', FloatType(), True),\n",
    "                StructField('mean compactness',FloatType(), True),\n",
    "                StructField( 'mean concavity',FloatType(), True),\n",
    "                StructField('mean concave points',FloatType(), True),\n",
    "                StructField('mean symmetry',FloatType(), True),\n",
    "                StructField('mean fractal dimension',FloatType(), True),\n",
    "                StructField('radius error',FloatType(), True),\n",
    "                StructField('texture error',FloatType(), True),\n",
    "                StructField('perimeter error',FloatType(), True),\n",
    "                StructField('area error',FloatType(), True),\n",
    "                StructField('smoothness error',FloatType(), True),\n",
    "                StructField('compactness error',FloatType(), True),\n",
    "                StructField('concavity error',FloatType(), True),\n",
    "                StructField('concave points error',FloatType(), True),\n",
    "                StructField('symmetry error',FloatType(), True),\n",
    "                StructField('fractal dimension error',FloatType(), True),\n",
    "                StructField('worst radius',FloatType(), True),\n",
    "                StructField('worst texture',FloatType(), True),\n",
    "                StructField('worst perimeter',FloatType(), True),\n",
    "                StructField('worst area',FloatType(), True),\n",
    "                StructField('worst smoothness',FloatType(), True),\n",
    "                StructField('worst compactness',FloatType(), True),\n",
    "                StructField('worst concavity',FloatType(), True),\n",
    "                StructField('worst concave points',FloatType(), True),\n",
    "                StructField('worst symmetry',FloatType(), True),\n",
    "                StructField('worst fractal dimension',FloatType(), True)]             \n",
    "            \n",
    "schema = StructType(fields=data_schema)"
   ]
  },
  {
   "cell_type": "code",
   "execution_count": 49,
   "metadata": {
    "colab": {},
    "colab_type": "code",
    "executionInfo": {
     "elapsed": 466,
     "status": "ok",
     "timestamp": 1592862700806,
     "user": {
      "displayName": "T3Lab Vision",
      "photoUrl": "",
      "userId": "14779383426442114373"
     },
     "user_tz": -120
    },
    "id": "j248d0UZ7OA3"
   },
   "outputs": [],
   "source": [
    "exams_df = spark.read.csv(\"exam_results.csv\", schema=schema, header=True)"
   ]
  },
  {
   "cell_type": "code",
   "execution_count": 50,
   "metadata": {
    "colab": {
     "base_uri": "https://localhost:8080/",
     "height": 173
    },
    "colab_type": "code",
    "executionInfo": {
     "elapsed": 778,
     "status": "ok",
     "timestamp": 1592862702099,
     "user": {
      "displayName": "T3Lab Vision",
      "photoUrl": "",
      "userId": "14779383426442114373"
     },
     "user_tz": -120
    },
    "id": "3XVQmYViAcBg",
    "outputId": "ff7cf611-a113-47a8-9c69-355d946365e7"
   },
   "outputs": [
    {
     "name": "stdout",
     "output_type": "stream",
     "text": [
      "+------+-----------+------------+--------------+---------+---------------+----------------+--------------+-------------------+-------------+----------------------+------------+-------------+---------------+----------+----------------+-----------------+---------------+--------------------+--------------+-----------------------+------------+-------------+---------------+----------+----------------+-----------------+---------------+--------------------+--------------+-----------------------+\n",
      "|    id|mean radius|mean texture|mean perimeter|mean area|mean smoothness|mean compactness|mean concavity|mean concave points|mean symmetry|mean fractal dimension|radius error|texture error|perimeter error|area error|smoothness error|compactness error|concavity error|concave points error|symmetry error|fractal dimension error|worst radius|worst texture|worst perimeter|worst area|worst smoothness|worst compactness|worst concavity|worst concave points|worst symmetry|worst fractal dimension|\n",
      "+------+-----------+------------+--------------+---------+---------------+----------------+--------------+-------------------+-------------+----------------------+------------+-------------+---------------+----------+----------------+-----------------+---------------+--------------------+--------------+-----------------------+------------+-------------+---------------+----------+----------------+-----------------+---------------+--------------------+--------------+-----------------------+\n",
      "|150010|       13.3|       21.57|         85.24|    546.1|        0.08582|         0.06373|       0.03344|            0.02424|       0.1815|               0.05696|      0.2621|        1.539|          2.028|     20.98|        0.005498|          0.02045|        0.01795|            0.006399|       0.01829|               0.001956|        14.2|         29.2|          92.94|     621.2|           0.114|           0.1667|         0.1212|             0.05614|        0.2637|                0.06658|\n",
      "|150011|      10.48|       14.98|         67.49|    333.6|        0.09816|          0.1013|       0.06335|            0.02218|       0.1925|               0.06915|      0.3276|        1.127|          2.564|     20.77|        0.007364|          0.03867|        0.05263|             0.01264|       0.02161|                0.00483|       12.13|        21.57|          81.41|     440.4|          0.1327|           0.2996|         0.2939|              0.0931|         0.302|                0.09646|\n",
      "|  null|       null|        null|          null|     null|           null|            null|          null|               null|         null|                  null|        null|         null|           null|      null|            null|             null|           null|                null|          null|                   null|        null|         null|           null|      null|            null|             null|           null|                null|          null|                   null|\n",
      "+------+-----------+------------+--------------+---------+---------------+----------------+--------------+-------------------+-------------+----------------------+------------+-------------+---------------+----------+----------------+-----------------+---------------+--------------------+--------------+-----------------------+------------+-------------+---------------+----------+----------------+-----------------+---------------+--------------------+--------------+-----------------------+\n",
      "\n"
     ]
    }
   ],
   "source": [
    "exams_df.show(5)"
   ]
  },
  {
   "cell_type": "code",
   "execution_count": 55,
   "metadata": {
    "colab": {},
    "colab_type": "code",
    "executionInfo": {
     "elapsed": 709,
     "status": "ok",
     "timestamp": 1592862746816,
     "user": {
      "displayName": "T3Lab Vision",
      "photoUrl": "",
      "userId": "14779383426442114373"
     },
     "user_tz": -120
    },
    "id": "oKHmpqn5K_Cw"
   },
   "outputs": [],
   "source": [
    "new_data_df = assembler.transform(exams_df)"
   ]
  },
  {
   "cell_type": "markdown",
   "metadata": {
    "colab_type": "text",
    "id": "QCMAlvMlK_Cx"
   },
   "source": [
    "Eseguiamo la standardizzazione"
   ]
  },
  {
   "cell_type": "code",
   "execution_count": 57,
   "metadata": {
    "colab": {},
    "colab_type": "code",
    "executionInfo": {
     "elapsed": 683,
     "status": "ok",
     "timestamp": 1592862763611,
     "user": {
      "displayName": "T3Lab Vision",
      "photoUrl": "",
      "userId": "14779383426442114373"
     },
     "user_tz": -120
    },
    "id": "YtL0jascK_Cy"
   },
   "outputs": [],
   "source": [
    "new_data_df = scaler_model.transform(new_data_df)"
   ]
  },
  {
   "cell_type": "markdown",
   "metadata": {
    "colab_type": "text",
    "id": "0Wwg2kkPK_C0"
   },
   "source": [
    "E otteniamo le predizioni usando il metodo *transform* del modello"
   ]
  },
  {
   "cell_type": "code",
   "execution_count": 58,
   "metadata": {
    "colab": {
     "base_uri": "https://localhost:8080/",
     "height": 631
    },
    "colab_type": "code",
    "executionInfo": {
     "elapsed": 717,
     "status": "ok",
     "timestamp": 1592862765428,
     "user": {
      "displayName": "T3Lab Vision",
      "photoUrl": "",
      "userId": "14779383426442114373"
     },
     "user_tz": -120
    },
    "id": "9x9QxtzVK_C1",
    "outputId": "014bc797-d9f6-456c-89a1-011dc87048fd"
   },
   "outputs": [
    {
     "data": {
      "text/plain": [
       "['id',\n",
       " 'mean radius',\n",
       " 'mean texture',\n",
       " 'mean perimeter',\n",
       " 'mean area',\n",
       " 'mean smoothness',\n",
       " 'mean compactness',\n",
       " 'mean concavity',\n",
       " 'mean concave points',\n",
       " 'mean symmetry',\n",
       " 'mean fractal dimension',\n",
       " 'radius error',\n",
       " 'texture error',\n",
       " 'perimeter error',\n",
       " 'area error',\n",
       " 'smoothness error',\n",
       " 'compactness error',\n",
       " 'concavity error',\n",
       " 'concave points error',\n",
       " 'symmetry error',\n",
       " 'fractal dimension error',\n",
       " 'worst radius',\n",
       " 'worst texture',\n",
       " 'worst perimeter',\n",
       " 'worst area',\n",
       " 'worst smoothness',\n",
       " 'worst compactness',\n",
       " 'worst concavity',\n",
       " 'worst concave points',\n",
       " 'worst symmetry',\n",
       " 'worst fractal dimension',\n",
       " 'features',\n",
       " 'scaled_features',\n",
       " 'rawPrediction',\n",
       " 'probability',\n",
       " 'prediction']"
      ]
     },
     "execution_count": 58,
     "metadata": {
      "tags": []
     },
     "output_type": "execute_result"
    }
   ],
   "source": [
    "pred_df = model.transform(new_data_df)\n",
    "pred_df.columns"
   ]
  },
  {
   "cell_type": "markdown",
   "metadata": {
    "colab_type": "text",
    "id": "yhkkFCXqK_C4"
   },
   "source": [
    "Come vedi il DataFrame risultante contiene due nuove colonne:\n",
    "* **Prediction**: che contiene il label (0=benigno, 1=maligno)\n",
    "* **Probabily**: che contiene la probabilità di apparteneza alle due classi."
   ]
  },
  {
   "cell_type": "code",
   "execution_count": null,
   "metadata": {
    "colab": {},
    "colab_type": "code",
    "id": "GFyCuYKfK_C5"
   },
   "outputs": [],
   "source": [
    "#pred_df.select([\"probability\", \"prediction\"]).show(6, False)\n",
    "pred_df.select(\"probability\", \"prediction\").show()\n"
   ]
  },
  {
   "cell_type": "markdown",
   "metadata": {
    "colab_type": "text",
    "id": "x7kNCitaK_C7"
   },
   "source": [
    "Due dei tumori sono stati etichettati come maligni, con delle probabilità associate molto alte, sarebbe il caso che la clinica effettuasse ulteriori esami."
   ]
  },
  {
   "cell_type": "code",
   "execution_count": null,
   "metadata": {
    "colab": {},
    "colab_type": "code",
    "id": "fC_ZPkNDBTs3"
   },
   "outputs": [],
   "source": []
  }
 ],
 "metadata": {
  "colab": {
   "name": "logistic_regr_pyspark.ipynb",
   "provenance": []
  },
  "kernelspec": {
   "display_name": "Python 3",
   "language": "python",
   "name": "python3"
  },
  "language_info": {
   "codemirror_mode": {
    "name": "ipython",
    "version": 3
   },
   "file_extension": ".py",
   "mimetype": "text/x-python",
   "name": "python",
   "nbconvert_exporter": "python",
   "pygments_lexer": "ipython3",
   "version": "3.8.3"
  },
  "name": "logistic_regression",
  "notebookId": 2246374182813684
 },
 "nbformat": 4,
 "nbformat_minor": 1
}
