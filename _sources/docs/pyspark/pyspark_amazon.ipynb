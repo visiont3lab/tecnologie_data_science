{
 "cells": [
  {
   "cell_type": "markdown",
   "metadata": {
    "colab_type": "text",
    "id": "j6PJj8i8daCT"
   },
   "source": [
    "<a href=\"https://colab.research.google.com/github/visiont3lab/tecnologie_data_science/blob/master/book/docs/pyspark/pyspark_amazon.ipynb\n",
    "\" target=\"_parent\"><img src=\"https://colab.research.google.com/assets/colab-badge.svg\" alt=\"Open In Colab\"/></a>"
   ]
  },
  {
   "cell_type": "code",
   "execution_count": null,
   "metadata": {
    "colab": {},
    "colab_type": "code",
    "id": "fFqeiV3qxso7"
   },
   "outputs": [],
   "source": [
    "################ template to run PySpark on Colab #######################"
   ]
  },
  {
   "cell_type": "code",
   "execution_count": 2,
   "metadata": {
    "colab": {},
    "colab_type": "code",
    "executionInfo": {
     "elapsed": 34469,
     "status": "ok",
     "timestamp": 1592467810853,
     "user": {
      "displayName": "T3Lab Vision",
      "photoUrl": "",
      "userId": "14779383426442114373"
     },
     "user_tz": -120
    },
    "id": "m6uGlMRavWlb"
   },
   "outputs": [],
   "source": [
    "!apt-get install openjdk-8-jdk-headless -qq > /dev/null\n",
    "!wget -q https://www-us.apache.org/dist/spark/spark-2.4.5/spark-2.4.5-bin-hadoop2.7.tgz\n",
    "!tar xf spark-2.4.5-bin-hadoop2.7.tgz\n",
    "!pip install -q findspark"
   ]
  },
  {
   "cell_type": "code",
   "execution_count": 3,
   "metadata": {
    "colab": {},
    "colab_type": "code",
    "executionInfo": {
     "elapsed": 33857,
     "status": "ok",
     "timestamp": 1592467810855,
     "user": {
      "displayName": "T3Lab Vision",
      "photoUrl": "",
      "userId": "14779383426442114373"
     },
     "user_tz": -120
    },
    "id": "f75mt5iLvaI3"
   },
   "outputs": [],
   "source": [
    "import os\n",
    "os.environ[\"JAVA_HOME\"] = \"/usr/lib/jvm/java-8-openjdk-amd64\"\n",
    "os.environ[\"SPARK_HOME\"] = \"/content/spark-2.4.5-bin-hadoop2.7\""
   ]
  },
  {
   "cell_type": "code",
   "execution_count": 4,
   "metadata": {
    "colab": {},
    "colab_type": "code",
    "executionInfo": {
     "elapsed": 37790,
     "status": "ok",
     "timestamp": 1592467815254,
     "user": {
      "displayName": "T3Lab Vision",
      "photoUrl": "",
      "userId": "14779383426442114373"
     },
     "user_tz": -120
    },
    "id": "X1NyKr7qvaGP"
   },
   "outputs": [],
   "source": [
    "import findspark\n",
    "findspark.init()\n",
    "\n",
    "from pyspark.sql import SparkSession\n",
    "spark = SparkSession.builder.master(\"local[*]\").getOrCreate()\n",
    "spark1 = SparkSession.builder.appName('basic').getOrCreate()\n",
    "#Test must give no error"
   ]
  },
  {
   "cell_type": "code",
   "execution_count": 5,
   "metadata": {
    "colab": {},
    "colab_type": "code",
    "executionInfo": {
     "elapsed": 37137,
     "status": "ok",
     "timestamp": 1592467815256,
     "user": {
      "displayName": "T3Lab Vision",
      "photoUrl": "",
      "userId": "14779383426442114373"
     },
     "user_tz": -120
    },
    "id": "MXYgwjn4vaAH"
   },
   "outputs": [],
   "source": [
    "import pyspark"
   ]
  },
  {
   "cell_type": "code",
   "execution_count": 6,
   "metadata": {
    "colab": {},
    "colab_type": "code",
    "executionInfo": {
     "elapsed": 36670,
     "status": "ok",
     "timestamp": 1592467815257,
     "user": {
      "displayName": "T3Lab Vision",
      "photoUrl": "",
      "userId": "14779383426442114373"
     },
     "user_tz": -120
    },
    "id": "08V9HAqMxm9D"
   },
   "outputs": [],
   "source": [
    "################ end template PySpark on Colab ##########################"
   ]
  },
  {
   "cell_type": "markdown",
   "metadata": {
    "colab_type": "text",
    "id": "gdiosujSdlaR"
   },
   "source": [
    "#  Amazon Ratings Books"
   ]
  },
  {
   "cell_type": "code",
   "execution_count": 7,
   "metadata": {
    "colab": {
     "base_uri": "https://localhost:8080/",
     "height": 204
    },
    "colab_type": "code",
    "executionInfo": {
     "elapsed": 224264,
     "status": "ok",
     "timestamp": 1592468003852,
     "user": {
      "displayName": "T3Lab Vision",
      "photoUrl": "",
      "userId": "14779383426442114373"
     },
     "user_tz": -120
    },
    "id": "rkhXfoJzCOtN",
    "outputId": "45301993-27f3-4d6a-bcb9-24ca76ced774"
   },
   "outputs": [
    {
     "name": "stdout",
     "output_type": "stream",
     "text": [
      "--2020-06-18 08:10:16--  http://snap.stanford.edu/data/amazon/productGraph/categoryFiles/ratings_Books.csv\n",
      "Resolving snap.stanford.edu (snap.stanford.edu)... 171.64.75.80\n",
      "Connecting to snap.stanford.edu (snap.stanford.edu)|171.64.75.80|:80... connected.\n",
      "HTTP request sent, awaiting response... 200 OK\n",
      "Length: 916259348 (874M) [text/csv]\n",
      "Saving to: ‘ratings_Books.csv’\n",
      "\n",
      "ratings_Books.csv   100%[===================>] 873.81M  8.69MB/s    in 3m 7s   \n",
      "\n",
      "2020-06-18 08:13:23 (4.68 MB/s) - ‘ratings_Books.csv’ saved [916259348/916259348]\n",
      "\n"
     ]
    }
   ],
   "source": [
    "!wget http://snap.stanford.edu/data/amazon/productGraph/categoryFiles/ratings_Books.csv"
   ]
  },
  {
   "cell_type": "code",
   "execution_count": 8,
   "metadata": {
    "colab": {},
    "colab_type": "code",
    "executionInfo": {
     "elapsed": 223753,
     "status": "ok",
     "timestamp": 1592468003855,
     "user": {
      "displayName": "T3Lab Vision",
      "photoUrl": "",
      "userId": "14779383426442114373"
     },
     "user_tz": -120
    },
    "id": "C5tRsTcldaCr"
   },
   "outputs": [],
   "source": [
    "from pyspark import SparkConf, SparkContext\n",
    "conf = SparkConf().setAppName(\"basic\").setMaster(\"local\")\n",
    "#sc = SparkContext(conf=conf)  ## for jupyter and Databricks\n",
    "sc = SparkContext.getOrCreate()   ## for Colab"
   ]
  },
  {
   "cell_type": "code",
   "execution_count": 9,
   "metadata": {
    "colab": {},
    "colab_type": "code",
    "executionInfo": {
     "elapsed": 224305,
     "status": "ok",
     "timestamp": 1592468004913,
     "user": {
      "displayName": "T3Lab Vision",
      "photoUrl": "",
      "userId": "14779383426442114373"
     },
     "user_tz": -120
    },
    "id": "jG2qDBp9daCw"
   },
   "outputs": [],
   "source": [
    "reviewsRDD = sc.textFile(\"ratings_Books.csv\")"
   ]
  },
  {
   "cell_type": "markdown",
   "metadata": {
    "colab_type": "text",
    "id": "GY1-uNppeCv0"
   },
   "source": [
    "Vediamo un po' cosa contiene l'RDD. Avendo 22.5 milioni di elementi, utilizzare il metodo .collect() è sconveniente per ovvie ragioni, al suo posto possiamo usare il metodo .take(n)"
   ]
  },
  {
   "cell_type": "code",
   "execution_count": 10,
   "metadata": {
    "colab": {
     "base_uri": "https://localhost:8080/",
     "height": 102
    },
    "colab_type": "code",
    "executionInfo": {
     "elapsed": 185843,
     "status": "ok",
     "timestamp": 1592468005925,
     "user": {
      "displayName": "T3Lab Vision",
      "photoUrl": "",
      "userId": "14779383426442114373"
     },
     "user_tz": -120
    },
    "id": "gBh-rXNEd3Bd",
    "outputId": "8cd23c53-74b1-4c4d-9bcc-ba4f3f646d89"
   },
   "outputs": [
    {
     "data": {
      "text/plain": [
       "['AH2L9G3DQHHAJ,0000000116,4.0,1019865600',\n",
       " 'A2IIIDRK3PRRZY,0000000116,1.0,1395619200',\n",
       " 'A1TADCM7YWPQ8M,0000000868,4.0,1031702400',\n",
       " 'AWGH7V0BDOJKB,0000013714,4.0,1383177600',\n",
       " 'A3UTQPQPM4TQO0,0000013714,5.0,1374883200']"
      ]
     },
     "execution_count": 10,
     "metadata": {
      "tags": []
     },
     "output_type": "execute_result"
    }
   ],
   "source": [
    "reviewsRDD.take(5)"
   ]
  },
  {
   "cell_type": "markdown",
   "metadata": {
    "colab_type": "text",
    "id": "NWq-MDkNeHBB"
   },
   "source": [
    "Ogni elemento di ogni riga corrisponde a (in ordine):\n",
    "\n",
    "    Id dell'utente che ha lasciato la valutazione.\n",
    "    Id del libro recensito.\n",
    "    Valutazione da 1.0 a 5.0.\n",
    "    Timestamp di quando è stata lasciata la recensione.\n"
   ]
  },
  {
   "cell_type": "markdown",
   "metadata": {
    "colab_type": "text",
    "id": "0h15xjDBeLpJ"
   },
   "source": [
    "## Contiamo il numero totale di valutazioni"
   ]
  },
  {
   "cell_type": "code",
   "execution_count": 11,
   "metadata": {
    "colab": {
     "base_uri": "https://localhost:8080/",
     "height": 34
    },
    "colab_type": "code",
    "executionInfo": {
     "elapsed": 215883,
     "status": "ok",
     "timestamp": 1592468037489,
     "user": {
      "displayName": "T3Lab Vision",
      "photoUrl": "",
      "userId": "14779383426442114373"
     },
     "user_tz": -120
    },
    "id": "8uquYnTLd2_1",
    "outputId": "be760d28-f7e9-4918-f183-bbc136a4e245"
   },
   "outputs": [
    {
     "data": {
      "text/plain": [
       "22507155"
      ]
     },
     "execution_count": 11,
     "metadata": {
      "tags": []
     },
     "output_type": "execute_result"
    }
   ],
   "source": [
    "reviewsRDD.count()"
   ]
  },
  {
   "cell_type": "markdown",
   "metadata": {
    "colab_type": "text",
    "id": "JvQfK_v1eWC0"
   },
   "source": [
    "## Contiamo le valutazioni per ogni libro\n",
    "\n",
    "Per contare le valutazioni che ogni libro ha ricevuto creiamo un nuovo RDD contenente soltanto gli ID dei libri per ogni riga."
   ]
  },
  {
   "cell_type": "code",
   "execution_count": 12,
   "metadata": {
    "colab": {
     "base_uri": "https://localhost:8080/",
     "height": 34
    },
    "colab_type": "code",
    "executionInfo": {
     "elapsed": 214943,
     "status": "ok",
     "timestamp": 1592468037490,
     "user": {
      "displayName": "T3Lab Vision",
      "photoUrl": "",
      "userId": "14779383426442114373"
     },
     "user_tz": -120
    },
    "id": "p0NoRbHUd2-f",
    "outputId": "bd4b9c59-0d4b-4df2-d4ce-052dc569830c"
   },
   "outputs": [
    {
     "data": {
      "text/plain": [
       "['0000000116', '0000000116', '0000000868', '0000013714', '0000013714']"
      ]
     },
     "execution_count": 12,
     "metadata": {
      "tags": []
     },
     "output_type": "execute_result"
    }
   ],
   "source": [
    "productsRDD = reviewsRDD.map(lambda x: x.split(\",\")[1])\n",
    "productsRDD.take(5)"
   ]
  },
  {
   "cell_type": "markdown",
   "metadata": {
    "colab_type": "text",
    "id": "S_0_0dFyequ0"
   },
   "source": [
    "Poi usiamo semplicemente il metodo .countByValue()\n",
    "Stampiamo il numero di valutazioni ricevute per i primi 10 libri.\n"
   ]
  },
  {
   "cell_type": "code",
   "execution_count": 13,
   "metadata": {
    "colab": {
     "base_uri": "https://localhost:8080/",
     "height": 221
    },
    "colab_type": "code",
    "executionInfo": {
     "elapsed": 230396,
     "status": "ok",
     "timestamp": 1592468087790,
     "user": {
      "displayName": "T3Lab Vision",
      "photoUrl": "",
      "userId": "14779383426442114373"
     },
     "user_tz": -120
    },
    "id": "wv3y1ENyd29K",
    "outputId": "c3f44d8a-835b-4209-8a1b-704699823a3b"
   },
   "outputs": [
    {
     "name": "stdout",
     "output_type": "stream",
     "text": [
      "ID LIBRO\tCONTEGGIO\n",
      "0000000116\t2\n",
      "0000000868\t1\n",
      "0000013714\t14\n",
      "0000015393\t1\n",
      "0000029831\t5\n",
      "0000038504\t2\n",
      "0000041696\t4\n",
      "0000095699\t1\n",
      "0000174076\t1\n",
      "0000202010\t1\n",
      "0000230022\t10\n"
     ]
    }
   ],
   "source": [
    "productsCount = productsRDD.countByValue()\n",
    "\n",
    "i = 0\n",
    "print(\"ID LIBRO\\tCONTEGGIO\")\n",
    "for product_id, count in productsCount.items():\n",
    "    print(\"%s\\t%s\" % (product_id, count))\n",
    "    if(i>=10):\n",
    "        break\n",
    "    i+=1"
   ]
  },
  {
   "cell_type": "markdown",
   "metadata": {
    "colab_type": "text",
    "id": "GDyljawDfgm4"
   },
   "source": [
    "## Troviamo i 10 libri più valutati"
   ]
  },
  {
   "cell_type": "markdown",
   "metadata": {
    "colab_type": "text",
    "id": "p4QlcmsxfoIf"
   },
   "source": [
    "Per trovare i 10 libri più valutati potremmo semplicemente utilizzare il defaultdict ottenuto sopra, però voglio farti vedere un'altro modo per farlo !\n",
    "Mappiamo ogni elemento ad una lista, contenente l'elemento stesso ed un valore 1"
   ]
  },
  {
   "cell_type": "code",
   "execution_count": 14,
   "metadata": {
    "colab": {
     "base_uri": "https://localhost:8080/",
     "height": 102
    },
    "colab_type": "code",
    "executionInfo": {
     "elapsed": 661,
     "status": "ok",
     "timestamp": 1592468098053,
     "user": {
      "displayName": "T3Lab Vision",
      "photoUrl": "",
      "userId": "14779383426442114373"
     },
     "user_tz": -120
    },
    "id": "MNyCeUqsd26Q",
    "outputId": "865046d5-1936-4e67-efd0-45903e973971"
   },
   "outputs": [
    {
     "data": {
      "text/plain": [
       "[('0000000116', 1),\n",
       " ('0000000116', 1),\n",
       " ('0000000868', 1),\n",
       " ('0000013714', 1),\n",
       " ('0000013714', 1)]"
      ]
     },
     "execution_count": 14,
     "metadata": {
      "tags": []
     },
     "output_type": "execute_result"
    }
   ],
   "source": [
    "productsCount = productsRDD.map(lambda x: (x, 1))\n",
    "productsCount.take(5)"
   ]
  },
  {
   "cell_type": "markdown",
   "metadata": {
    "colab_type": "text",
    "id": "ExueUck-fweX"
   },
   "source": [
    "Utilizziamo il metodo reduceByKey per sommare i valori degli elementi aventi la stessa chiave."
   ]
  },
  {
   "cell_type": "code",
   "execution_count": 15,
   "metadata": {
    "colab": {
     "base_uri": "https://localhost:8080/",
     "height": 102
    },
    "colab_type": "code",
    "executionInfo": {
     "elapsed": 72621,
     "status": "ok",
     "timestamp": 1592468194176,
     "user": {
      "displayName": "T3Lab Vision",
      "photoUrl": "",
      "userId": "14779383426442114373"
     },
     "user_tz": -120
    },
    "id": "l1IWenQ5d25J",
    "outputId": "81d97fb8-1263-4355-be31-17c9f610afc0"
   },
   "outputs": [
    {
     "data": {
      "text/plain": [
       "[('0001006657', 2),\n",
       " ('0001922408', 2),\n",
       " ('0002000601', 6),\n",
       " ('0002006650', 2),\n",
       " ('0002007770', 6001)]"
      ]
     },
     "execution_count": 15,
     "metadata": {
      "tags": []
     },
     "output_type": "execute_result"
    }
   ],
   "source": [
    "productsCount = productsCount.reduceByKey(lambda x, y: x+y)\n",
    "productsCount.take(5)"
   ]
  },
  {
   "cell_type": "markdown",
   "metadata": {
    "colab_type": "text",
    "id": "E063rMfHf5FO"
   },
   "source": [
    "Riducendo l'RDD tramite una somma dei valori 1 che abbiamo aggiunto prima abbiamo ottenuto la somma totale delle valutazioni per ogni libro. Ora ci basta ordinarli in senso decrescente e tenere stampare i primi 10 risultati."
   ]
  },
  {
   "cell_type": "code",
   "execution_count": 16,
   "metadata": {
    "colab": {
     "base_uri": "https://localhost:8080/",
     "height": 187
    },
    "colab_type": "code",
    "executionInfo": {
     "elapsed": 13499,
     "status": "ok",
     "timestamp": 1592468207690,
     "user": {
      "displayName": "T3Lab Vision",
      "photoUrl": "",
      "userId": "14779383426442114373"
     },
     "user_tz": -120
    },
    "id": "BA3Hsjjpd23W",
    "outputId": "4b215915-7e5e-4545-be57-a05300c6c9ad"
   },
   "outputs": [
    {
     "data": {
      "text/plain": [
       "[('0439023483', 21398),\n",
       " ('030758836X', 19867),\n",
       " ('0439023513', 14114),\n",
       " ('0385537859', 12973),\n",
       " ('0007444117', 12629),\n",
       " ('0375831002', 12571),\n",
       " ('038536315X', 12564),\n",
       " ('0345803485', 12290),\n",
       " ('0316055433', 11746),\n",
       " ('0849922070', 10424)]"
      ]
     },
     "execution_count": 16,
     "metadata": {
      "tags": []
     },
     "output_type": "execute_result"
    }
   ],
   "source": [
    "productsCountSorted = productsCount.sortBy(lambda x: x[1], ascending=False)\n",
    "productsCountSorted.take(10)"
   ]
  },
  {
   "cell_type": "markdown",
   "metadata": {
    "colab_type": "text",
    "id": "Wgj2jzGugBj3"
   },
   "source": [
    "Ecco qui i 10 libri più recensiti, qui possiamo vedere il primo:\n",
    "\n",
    "    https://www.amazon.com/dp/0439023483"
   ]
  },
  {
   "cell_type": "markdown",
   "metadata": {
    "colab_type": "text",
    "id": "M7spGcwOgSYY"
   },
   "source": [
    "## Calcoliamo la valutazione media"
   ]
  },
  {
   "cell_type": "markdown",
   "metadata": {
    "colab_type": "text",
    "id": "uHfUfD-ggXJE"
   },
   "source": [
    "Per calcolare la valutazione media creiamo un nuovo RDD contenete soltanto ID del libro e valutazione."
   ]
  },
  {
   "cell_type": "code",
   "execution_count": 17,
   "metadata": {
    "colab": {
     "base_uri": "https://localhost:8080/",
     "height": 102
    },
    "colab_type": "code",
    "executionInfo": {
     "elapsed": 2160,
     "status": "ok",
     "timestamp": 1592468280340,
     "user": {
      "displayName": "T3Lab Vision",
      "photoUrl": "",
      "userId": "14779383426442114373"
     },
     "user_tz": -120
    },
    "id": "do6pXD9od21H",
    "outputId": "9acae44e-fae8-4c1c-840d-af7729a4814f"
   },
   "outputs": [
    {
     "data": {
      "text/plain": [
       "[('0000000116', 4.0),\n",
       " ('0000000116', 1.0),\n",
       " ('0000000868', 4.0),\n",
       " ('0000013714', 4.0),\n",
       " ('0000013714', 5.0)]"
      ]
     },
     "execution_count": 17,
     "metadata": {
      "tags": []
     },
     "output_type": "execute_result"
    }
   ],
   "source": [
    "def parseProductRating(row):\n",
    "    columns = row.split(\",\")\n",
    "    product = columns[1]\n",
    "    rating = float(columns[2])\n",
    "    \n",
    "    return (product, rating)\n",
    "\n",
    "productsRDD = reviewsRDD.map(parseProductRating)\n",
    "productsRDD.take(5)"
   ]
  },
  {
   "cell_type": "markdown",
   "metadata": {
    "colab_type": "text",
    "id": "K6KN00Bmgbnf"
   },
   "source": [
    "Proviamo a somamre il totale delle valutazioni usando il metodo reduceByKey.\n"
   ]
  },
  {
   "cell_type": "code",
   "execution_count": 18,
   "metadata": {
    "colab": {
     "base_uri": "https://localhost:8080/",
     "height": 102
    },
    "colab_type": "code",
    "executionInfo": {
     "elapsed": 70808,
     "status": "ok",
     "timestamp": 1592468367546,
     "user": {
      "displayName": "T3Lab Vision",
      "photoUrl": "",
      "userId": "14779383426442114373"
     },
     "user_tz": -120
    },
    "id": "BC8n2tglgYtW",
    "outputId": "8725074a-d68d-48c1-afbe-c718a72160a5"
   },
   "outputs": [
    {
     "data": {
      "text/plain": [
       "[('0001006657', 10.0),\n",
       " ('0001922408', 10.0),\n",
       " ('0002000601', 23.0),\n",
       " ('0002006650', 8.0),\n",
       " ('0002007770', 26398.0)]"
      ]
     },
     "execution_count": 18,
     "metadata": {
      "tags": []
     },
     "output_type": "execute_result"
    }
   ],
   "source": [
    "ratingSumRDD = productsRDD.reduceByKey(lambda x,y: x+y)\n",
    "ratingSumRDD.take(5)"
   ]
  },
  {
   "cell_type": "markdown",
   "metadata": {
    "colab_type": "text",
    "id": "GJ1kbaEOgktF"
   },
   "source": [
    "Ora dovremmo dividere per il numero di valutazioni che ogni libro ha ricevuto, ma eseguendo la riduzione abbiamo perso questa informazione, quindi non è la cosa giusta da fare. "
   ]
  },
  {
   "cell_type": "markdown",
   "metadata": {
    "colab_type": "text",
    "id": "F9icIty7gtGI"
   },
   "source": [
    "soluzione: mappiamo ogni elemento ad una lista, contenente l'elemento stesso ed un valore 1 che ci servirà come contatore, esattamente come fatto in precedenza, poi eseguiamo la riduzione per chiave sommando sia i contatori che le valutazione come fatto appena sopra"
   ]
  },
  {
   "cell_type": "code",
   "execution_count": 19,
   "metadata": {
    "colab": {
     "base_uri": "https://localhost:8080/",
     "height": 102
    },
    "colab_type": "code",
    "executionInfo": {
     "elapsed": 82563,
     "status": "ok",
     "timestamp": 1592468460403,
     "user": {
      "displayName": "T3Lab Vision",
      "photoUrl": "",
      "userId": "14779383426442114373"
     },
     "user_tz": -120
    },
    "id": "K-C6zM0Gga-Q",
    "outputId": "5cc1931d-70f7-47bf-9474-ea77a087ad46"
   },
   "outputs": [
    {
     "data": {
      "text/plain": [
       "[('0001006657', (10.0, 2)),\n",
       " ('0001922408', (10.0, 2)),\n",
       " ('0002000601', (23.0, 6)),\n",
       " ('0002006650', (8.0, 2)),\n",
       " ('0002007770', (26398.0, 6001))]"
      ]
     },
     "execution_count": 19,
     "metadata": {
      "tags": []
     },
     "output_type": "execute_result"
    }
   ],
   "source": [
    "ratingSumRDD = productsRDD.mapValues(lambda x: (x,1)).reduceByKey(lambda x, y: (x[0]+y[0], x[1]+y[1]))\n",
    "ratingSumRDD.take(5)"
   ]
  },
  {
   "cell_type": "markdown",
   "metadata": {
    "colab_type": "text",
    "id": "YUeEep0og2NO"
   },
   "source": [
    "Perfetto ! Ora abbiamo sia la somma che il conteggio, quindi possiamo eseguire un map di nuovo, dividendo il secondo per il primo."
   ]
  },
  {
   "cell_type": "code",
   "execution_count": 20,
   "metadata": {
    "colab": {
     "base_uri": "https://localhost:8080/",
     "height": 102
    },
    "colab_type": "code",
    "executionInfo": {
     "elapsed": 54329,
     "status": "ok",
     "timestamp": 1592468460405,
     "user": {
      "displayName": "T3Lab Vision",
      "photoUrl": "",
      "userId": "14779383426442114373"
     },
     "user_tz": -120
    },
    "id": "0J_JNi6Qga55",
    "outputId": "53fd6878-afe6-4137-e87b-a4dc4dbda64d"
   },
   "outputs": [
    {
     "data": {
      "text/plain": [
       "[('0001006657', 5.0),\n",
       " ('0001922408', 5.0),\n",
       " ('0002000601', 3.8333333333333335),\n",
       " ('0002006650', 4.0),\n",
       " ('0002007770', 4.398933511081486)]"
      ]
     },
     "execution_count": 20,
     "metadata": {
      "tags": []
     },
     "output_type": "execute_result"
    }
   ],
   "source": [
    "ratingMeanRDD = ratingSumRDD.mapValues(lambda x: x[0]/x[1])\n",
    "ratingMeanRDD.take(5)"
   ]
  },
  {
   "cell_type": "markdown",
   "metadata": {
    "colab_type": "text",
    "id": "qY8Vo8KdhJpq"
   },
   "source": [
    "## Troviamo i 10 libri con la valutazione più alta"
   ]
  },
  {
   "cell_type": "markdown",
   "metadata": {
    "colab_type": "text",
    "id": "-Z85uJm0hMgD"
   },
   "source": [
    "Per trovare i libri con la valutazione più alta potremmo semplicemente ordinare l'RDD calcolato appena sopra, però otterremo dei risulati falsati, dato che libri che hanno ottenuto un'unica valutazione a 5 stelle saranno alle prime posizioni."
   ]
  },
  {
   "cell_type": "code",
   "execution_count": 21,
   "metadata": {
    "colab": {},
    "colab_type": "code",
    "executionInfo": {
     "elapsed": 553,
     "status": "ok",
     "timestamp": 1592468523527,
     "user": {
      "displayName": "T3Lab Vision",
      "photoUrl": "",
      "userId": "14779383426442114373"
     },
     "user_tz": -120
    },
    "id": "EAwIEplxga3C"
   },
   "outputs": [],
   "source": [
    "## consideriamo solo i libri che sono stati valutati almeno 100 volte"
   ]
  },
  {
   "cell_type": "code",
   "execution_count": 22,
   "metadata": {
    "colab": {
     "base_uri": "https://localhost:8080/",
     "height": 102
    },
    "colab_type": "code",
    "executionInfo": {
     "elapsed": 520,
     "status": "ok",
     "timestamp": 1592468537791,
     "user": {
      "displayName": "T3Lab Vision",
      "photoUrl": "",
      "userId": "14779383426442114373"
     },
     "user_tz": -120
    },
    "id": "SmM53F-Aga1L",
    "outputId": "e9500765-729f-4b88-9ebc-0a7a6f03cda7"
   },
   "outputs": [
    {
     "data": {
      "text/plain": [
       "[('0001006657', (5.0, 2)),\n",
       " ('0001922408', (5.0, 2)),\n",
       " ('0002000601', (3.8333333333333335, 6)),\n",
       " ('0002006650', (4.0, 2)),\n",
       " ('0002007770', (4.398933511081486, 6001))]"
      ]
     },
     "execution_count": 22,
     "metadata": {
      "tags": []
     },
     "output_type": "execute_result"
    }
   ],
   "source": [
    "ratingMeanRDD = ratingSumRDD.mapValues(lambda x: (x[0]/x[1], x[1]))\n",
    "ratingMeanRDD.take(5)"
   ]
  },
  {
   "cell_type": "code",
   "execution_count": 23,
   "metadata": {
    "colab": {
     "base_uri": "https://localhost:8080/",
     "height": 34
    },
    "colab_type": "code",
    "executionInfo": {
     "elapsed": 4791,
     "status": "ok",
     "timestamp": 1592468547875,
     "user": {
      "displayName": "T3Lab Vision",
      "photoUrl": "",
      "userId": "14779383426442114373"
     },
     "user_tz": -120
    },
    "id": "5XQmaNwegays",
    "outputId": "f89d3bbe-323b-4671-ecc4-0ea6453fce2c"
   },
   "outputs": [
    {
     "data": {
      "text/plain": [
       "29296"
      ]
     },
     "execution_count": 23,
     "metadata": {
      "tags": []
     },
     "output_type": "execute_result"
    }
   ],
   "source": [
    "ratingMeanRDD = ratingMeanRDD.filter(lambda x: x[1][1]>=100)\n",
    "ratingMeanRDD.count()"
   ]
  },
  {
   "cell_type": "markdown",
   "metadata": {
    "colab_type": "text",
    "id": "oXeFSKNbhh57"
   },
   "source": [
    " Ora ordiniamo quest'ultimo RDD in base alla valutazione media e stampiamo i primi 10 risultati."
   ]
  },
  {
   "cell_type": "code",
   "execution_count": 24,
   "metadata": {
    "colab": {
     "base_uri": "https://localhost:8080/",
     "height": 187
    },
    "colab_type": "code",
    "executionInfo": {
     "elapsed": 13768,
     "status": "ok",
     "timestamp": 1592468597676,
     "user": {
      "displayName": "T3Lab Vision",
      "photoUrl": "",
      "userId": "14779383426442114373"
     },
     "user_tz": -120
    },
    "id": "8bdC_MASgawR",
    "outputId": "765940db-ab46-4f74-fbb5-014aa3fae72a"
   },
   "outputs": [
    {
     "data": {
      "text/plain": [
       "[('0983408904', (5.0, 128)),\n",
       " ('0830766316', (5.0, 103)),\n",
       " ('0972394648', (4.992647058823529, 136)),\n",
       " ('1499390165', (4.991803278688525, 122)),\n",
       " ('0849381185', (4.990566037735849, 106)),\n",
       " ('0757317723', (4.9862068965517246, 145)),\n",
       " ('1939629071', (4.983193277310924, 119)),\n",
       " ('1499381921', (4.982857142857143, 350)),\n",
       " ('1616387165', (4.981308411214953, 107)),\n",
       " ('0814416993', (4.980769230769231, 104))]"
      ]
     },
     "execution_count": 24,
     "metadata": {
      "tags": []
     },
     "output_type": "execute_result"
    }
   ],
   "source": [
    "ratingSortedRDD = ratingMeanRDD.sortBy(lambda x: x[1][0], ascending=False)\n",
    "ratingSortedRDD.take(10)"
   ]
  },
  {
   "cell_type": "markdown",
   "metadata": {
    "colab_type": "text",
    "id": "FB_VGHiyhroE"
   },
   "source": [
    "## Troviamo i 10 recensori più critici"
   ]
  },
  {
   "cell_type": "markdown",
   "metadata": {
    "colab_type": "text",
    "id": "BrXZ66wihvLu"
   },
   "source": [
    "Cerchiamo i 10 recensori più critici, cioè quelli che sono soliti lasciare le recensioni più basse, per farlo calcoliamo la valutazione media lasciata da ogni recensore e ordiniamo l'RDD così ottenuto in maniera ascendente"
   ]
  },
  {
   "cell_type": "code",
   "execution_count": 25,
   "metadata": {
    "colab": {
     "base_uri": "https://localhost:8080/",
     "height": 102
    },
    "colab_type": "code",
    "executionInfo": {
     "elapsed": 860,
     "status": "ok",
     "timestamp": 1592468647065,
     "user": {
      "displayName": "T3Lab Vision",
      "photoUrl": "",
      "userId": "14779383426442114373"
     },
     "user_tz": -120
    },
    "id": "c0zOOXy-hjWL",
    "outputId": "a142ceea-15a3-45a3-8dd3-5a365de9d0e3"
   },
   "outputs": [
    {
     "data": {
      "text/plain": [
       "[('AH2L9G3DQHHAJ', (4.0, 1)),\n",
       " ('A2IIIDRK3PRRZY', (1.0, 1)),\n",
       " ('A1TADCM7YWPQ8M', (4.0, 1)),\n",
       " ('AWGH7V0BDOJKB', (4.0, 1)),\n",
       " ('A3UTQPQPM4TQO0', (5.0, 1))]"
      ]
     },
     "execution_count": 25,
     "metadata": {
      "tags": []
     },
     "output_type": "execute_result"
    }
   ],
   "source": [
    "def parseReviewerRating(row):\n",
    "    columns = row.split(\",\")\n",
    "    reviewer = columns[0]\n",
    "    rating = float(columns[2])\n",
    "    \n",
    "    return (reviewer, (rating, 1))\n",
    "\n",
    "reviewerRDD = reviewsRDD.map(parseReviewerRating)\n",
    "reviewerRDD.take(5)"
   ]
  },
  {
   "cell_type": "markdown",
   "metadata": {
    "colab_type": "text",
    "id": "vZJtQiwjh00l"
   },
   "source": [
    "E sommiamo tutte le valutazioni e il contatore.\n"
   ]
  },
  {
   "cell_type": "code",
   "execution_count": 26,
   "metadata": {
    "colab": {
     "base_uri": "https://localhost:8080/",
     "height": 102
    },
    "colab_type": "code",
    "executionInfo": {
     "elapsed": 116301,
     "status": "ok",
     "timestamp": 1592468778523,
     "user": {
      "displayName": "T3Lab Vision",
      "photoUrl": "",
      "userId": "14779383426442114373"
     },
     "user_tz": -120
    },
    "id": "nyqmiq4Ihkfh",
    "outputId": "68ac43ee-2348-41fd-feb5-74a1b9708ae4"
   },
   "outputs": [
    {
     "data": {
      "text/plain": [
       "[('A2742OG8PK8KU6', (10.0, 2)),\n",
       " ('A2GKR2Q7MD8DG4', (12.0, 3)),\n",
       " ('A1MC4E00RO5E9T', (17.0, 4)),\n",
       " ('A3IKTM9D8RVWKU', (5.0, 1)),\n",
       " ('A3UZSIDE90JWW1', (5.0, 1))]"
      ]
     },
     "execution_count": 26,
     "metadata": {
      "tags": []
     },
     "output_type": "execute_result"
    }
   ],
   "source": [
    "reviewerRDD = reviewerRDD.reduceByKey(lambda x, y: (x[0]+y[0], x[1]+y[1]))\n",
    "reviewerRDD.take(5)"
   ]
  },
  {
   "cell_type": "code",
   "execution_count": 27,
   "metadata": {
    "colab": {},
    "colab_type": "code",
    "executionInfo": {
     "elapsed": 723,
     "status": "ok",
     "timestamp": 1592468780393,
     "user": {
      "displayName": "T3Lab Vision",
      "photoUrl": "",
      "userId": "14779383426442114373"
     },
     "user_tz": -120
    },
    "id": "lrSzLNi8hkb1"
   },
   "outputs": [],
   "source": [
    "## consideriamo solo reviewer che hanno lasciato almeno 100 feedback"
   ]
  },
  {
   "cell_type": "code",
   "execution_count": 28,
   "metadata": {
    "colab": {
     "base_uri": "https://localhost:8080/",
     "height": 34
    },
    "colab_type": "code",
    "executionInfo": {
     "elapsed": 23040,
     "status": "ok",
     "timestamp": 1592468802716,
     "user": {
      "displayName": "T3Lab Vision",
      "photoUrl": "",
      "userId": "14779383426442114373"
     },
     "user_tz": -120
    },
    "id": "7XXYJugshkYk",
    "outputId": "d2e038d4-5c48-4797-d7b3-2597ec302fae"
   },
   "outputs": [
    {
     "data": {
      "text/plain": [
       "11244"
      ]
     },
     "execution_count": 28,
     "metadata": {
      "tags": []
     },
     "output_type": "execute_result"
    }
   ],
   "source": [
    "reviewerRDD = reviewerRDD.filter(lambda x: x[1][1]>100)\n",
    "reviewerRDD.count()"
   ]
  },
  {
   "cell_type": "markdown",
   "metadata": {
    "colab_type": "text",
    "id": "jFw5Wo8siFy4"
   },
   "source": [
    "Ne abbiamo oltre 11mila, vediamo tra questi chi sono i più cattivi, calcoliamo la loro valutazione media."
   ]
  },
  {
   "cell_type": "code",
   "execution_count": 29,
   "metadata": {
    "colab": {
     "base_uri": "https://localhost:8080/",
     "height": 102
    },
    "colab_type": "code",
    "executionInfo": {
     "elapsed": 23886,
     "status": "ok",
     "timestamp": 1592468803567,
     "user": {
      "displayName": "T3Lab Vision",
      "photoUrl": "",
      "userId": "14779383426442114373"
     },
     "user_tz": -120
    },
    "id": "gQmZ2cuAhkVX",
    "outputId": "24da5d48-2225-4c4a-8a5f-6e0a73530ff6"
   },
   "outputs": [
    {
     "data": {
      "text/plain": [
       "[('A8IPQ1Q1O7YX5', 4.227048371174728),\n",
       " ('A2PN65B6BSTIYZ', 3.953271028037383),\n",
       " ('AX724J32HPG1J', 4.184738955823293),\n",
       " ('AFFGYGNO989PD', 4.2785714285714285),\n",
       " ('A1WCJEZS66D224', 3.5789473684210527)]"
      ]
     },
     "execution_count": 29,
     "metadata": {
      "tags": []
     },
     "output_type": "execute_result"
    }
   ],
   "source": [
    "criticalReviewerRDD = reviewerRDD.mapValues(lambda x: x[0]/x[1])\n",
    "criticalReviewerRDD.take(5)"
   ]
  },
  {
   "cell_type": "code",
   "execution_count": 30,
   "metadata": {
    "colab": {
     "base_uri": "https://localhost:8080/",
     "height": 187
    },
    "colab_type": "code",
    "executionInfo": {
     "elapsed": 93964,
     "status": "ok",
     "timestamp": 1592468873650,
     "user": {
      "displayName": "T3Lab Vision",
      "photoUrl": "",
      "userId": "14779383426442114373"
     },
     "user_tz": -120
    },
    "id": "3VUHcYlWhkLt",
    "outputId": "8855e359-ecfb-4e61-b93a-8cdb134abe8a"
   },
   "outputs": [
    {
     "data": {
      "text/plain": [
       "[('AH62BQTCMR3BR', 1.0534188034188035),\n",
       " ('A186OSXC7LHJDB', 1.2014925373134329),\n",
       " ('A2HESNQJZ9OB7H', 1.2543859649122806),\n",
       " ('A36IQRD3B5MK8G', 1.505050505050505),\n",
       " ('A3JF63XRSLLH0P', 1.5648148148148149),\n",
       " ('A344N0X5LIV43M', 1.646551724137931),\n",
       " ('A1SS16UHYW77D4', 1.855421686746988),\n",
       " ('A19UFCMSFGOZ2K', 2.076923076923077),\n",
       " ('A1NJHOGKZZRAX8', 2.1588785046728973),\n",
       " ('A1ZY08GYVIKZFM', 2.2446043165467624)]"
      ]
     },
     "execution_count": 30,
     "metadata": {
      "tags": []
     },
     "output_type": "execute_result"
    }
   ],
   "source": [
    "criticalReviewerSortedRDD = criticalReviewerRDD.sortBy(lambda x: x[1])\n",
    "criticalReviewerSortedRDD.take(10)"
   ]
  },
  {
   "cell_type": "markdown",
   "metadata": {
    "colab_type": "text",
    "id": "afMMnDFqiSkY"
   },
   "source": [
    "L'utente AH62BQTCMR3BR ha il ph molto basso, è un pò acidello!"
   ]
  }
 ],
 "metadata": {
  "colab": {
   "collapsed_sections": [],
   "name": "Amazon_1.ipynb",
   "provenance": []
  },
  "kernelspec": {
   "display_name": "Python 3",
   "language": "python",
   "name": "python3"
  },
  "language_info": {
   "codemirror_mode": {
    "name": "ipython",
    "version": 3
   },
   "file_extension": ".py",
   "mimetype": "text/x-python",
   "name": "python",
   "nbconvert_exporter": "python",
   "pygments_lexer": "ipython3",
   "version": "3.6.9"
  }
 },
 "nbformat": 4,
 "nbformat_minor": 1
}
