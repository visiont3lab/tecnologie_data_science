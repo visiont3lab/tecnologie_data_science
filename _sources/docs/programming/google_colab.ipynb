{
 "cells": [
  {
   "cell_type": "markdown",
   "metadata": {},
   "source": [
    "<a href=\"https://colab.research.google.com/github/visiont3lab/tecnologie_data_science/blob/master/book/docs/programming/google_colab.ipynb\" target=\"_parent\"><img src=\"https://colab.research.google.com/assets/colab-badge.svg\" alt=\"Open In Colab\"/></a>"
   ]
  },
  {
   "cell_type": "markdown",
   "metadata": {
    "colab_type": "text",
    "id": "oZjUvODbqhaC"
   },
   "source": [
    "# Google Colaboratory"
   ]
  },
  {
   "cell_type": "markdown",
   "metadata": {
    "colab_type": "text",
    "id": "O4xiNThbqxY4"
   },
   "source": [
    "Uno Jupyter notebook è un insieme di celle che permettono sia di annotare informazioni (Celle di Testo) che di scrivere codice (Celle di Codice ). "
   ]
  },
  {
   "cell_type": "markdown",
   "metadata": {
    "colab_type": "text",
    "id": "6QXcdFfbrhsK"
   },
   "source": [
    "## Text Cell \n",
    "\n"
   ]
  },
  {
   "cell_type": "markdown",
   "metadata": {
    "colab_type": "text",
    "id": "eic-gYY7viEU"
   },
   "source": [
    "Una cella di testo è una cella utilizzata per annotare appunti in modo semplice e veloce. Al fine di annotare velocemente informazioni si utilizza un astrazione del linguaggio html chiamato Markdown. Questo linguaggio permette velocemnte  e in modo poco verbose di scrivere codice html. "
   ]
  },
  {
   "cell_type": "markdown",
   "metadata": {
    "colab_type": "text",
    "id": "aiO2PUKjsQrZ"
   },
   "source": [
    "### Markdown \n"
   ]
  },
  {
   "cell_type": "markdown",
   "metadata": {
    "colab_type": "text",
    "id": "MKpimnpTvmOm"
   },
   "source": [
    "Riassumiamo le principali caratteristiche del linguaggio Markdown che utilizzeremo per scrivere appunti nei nostri notebook.\n",
    "\n",
    "Maggiori informazioni sul linguaggio Markdown si posso trovare leggendo [Markdown Guide](https://colab.research.google.com/notebooks/markdown_guide.ipynb) e l'articolo [Mastering Markdown](https://guides.github.com/features/mastering-markdown/)."
   ]
  },
  {
   "cell_type": "markdown",
   "metadata": {
    "colab_type": "text",
    "id": "RhLSUwhPtjzm"
   },
   "source": [
    "#### Headers\n",
    "\n",
    "\n"
   ]
  },
  {
   "cell_type": "markdown",
   "metadata": {
    "colab_type": "text",
    "id": "xWWtTmM1vpx-"
   },
   "source": [
    "> \n",
    "    # h1\n",
    "    ## h2\n",
    "    ### h3\n",
    "    #### h4\n",
    "    #### h5\n"
   ]
  },
  {
   "cell_type": "markdown",
   "metadata": {
    "colab_type": "text",
    "id": "mOv-rVVfu_Q3"
   },
   "source": [
    "#### Bold e Italic\n"
   ]
  },
  {
   "cell_type": "markdown",
   "metadata": {
    "colab_type": "text",
    "id": "NWs9RM85vsRG"
   },
   "source": [
    "> **bold text** , *italicized text* ~~strikethrough~~\n",
    "> \n",
    "    **bold text** , *italicized text* , ~~strikethrough~~\n",
    "\n",
    "\n",
    "    \n"
   ]
  },
  {
   "cell_type": "markdown",
   "metadata": {
    "colab_type": "text",
    "id": "UFaEWX_gvxZW"
   },
   "source": [
    "#### Blockquote\n"
   ]
  },
  {
   "cell_type": "markdown",
   "metadata": {
    "colab_type": "text",
    "id": "-QyRQUKiwbDE"
   },
   "source": [
    "\n",
    "> 1 blockquote\n",
    ">> 2 blockquote\n",
    "\n",
    "\n",
    "> \n",
    "    > 1 blockquote\n",
    "    >> 2 blockquote\n"
   ]
  },
  {
   "cell_type": "markdown",
   "metadata": {
    "colab_type": "text",
    "id": "UHXClGV2whAN"
   },
   "source": [
    "#### Liste"
   ]
  },
  {
   "cell_type": "markdown",
   "metadata": {
    "colab_type": "text",
    "id": "jvAdkhsmwdwA"
   },
   "source": [
    "Ordinate\n",
    "1. First item\n",
    "2. Second item\n",
    "3. Third item\n",
    "\n",
    "---\n",
    "\n",
    "Non ordinate\n",
    "> \n",
    "    - First item\n",
    "    - Second item\n",
    "    - Third item\n",
    "\n",
    "\n",
    "- First item\n",
    "- Second item\n",
    "- Third item\n",
    "\n",
    "Lista di Task da fare\n",
    ">\n",
    "    - [x] Write the press release\n",
    "    - [ ] Update the website\n",
    "    - [ ] Contact the media\n",
    "\n",
    "- [x] Write the press release\n",
    "- [ ] Update the website\n",
    "- [ ] Contact the media\n"
   ]
  },
  {
   "cell_type": "markdown",
   "metadata": {
    "colab_type": "text",
    "id": "gl2Wvji42X8V"
   },
   "source": [
    "#### Latex Math formula\n"
   ]
  },
  {
   "cell_type": "markdown",
   "metadata": {
    "colab_type": "text",
    "id": "mSqBaT7v0DyP"
   },
   "source": [
    "\n",
    "> \n",
    "    1. $\\sqrt{3x-1}+(1+x)^2.$\n",
    "    2. $y=x^2$\n",
    "    3. $e^{i\\pi} + 1 = 0$\n",
    "    4. $e^x=\\sum_{i=0}^\\infty \\frac{1}{i!}x^i$\n",
    "    5. $\\frac{n!}{k!(n-k)!} = {n \\choose k}$\n",
    "    6. $A_{m,n} =\\begin{pmatrix}\n",
    "                  a_{1,1} & a_{1,2} & \\cdots & a_{1,n} \\\\\n",
    "                  a_{2,1} & a_{2,2} & \\cdots & a_{2,n} \\\\\n",
    "                  \\vdots  & \\vdots  & \\ddots & \\vdots  \\\\\n",
    "                  a_{m,1} & a_{m,2} & \\cdots & a_{m,n}\n",
    "                 \\end{pmatrix}$\n",
    "\n",
    "\n",
    "> 1) $\\sqrt{3x-1}+(1+x)^2.$\n",
    "\n",
    "> 2) $y=x^2$\n",
    "\n",
    "> 3) $e^{i\\pi} + 1 = 0$\n",
    "\n",
    "> 4) $e^x=\\sum_{i=0}^\\infty \\frac{1}{i!}x^i$\n",
    "\n",
    "> 5) $\\frac{n!}{k!(n-k)!} = {n \\choose k}$\n",
    "\n",
    "> 6) $A_{m,n} =\n",
    " \\begin{pmatrix}\n",
    "  a_{1,1} & a_{1,2} & \\cdots & a_{1,n} \\\\\n",
    "  a_{2,1} & a_{2,2} & \\cdots & a_{2,n} \\\\\n",
    "  \\vdots  & \\vdots  & \\ddots & \\vdots  \\\\\n",
    "  a_{m,1} & a_{m,2} & \\cdots & a_{m,n}\n",
    " \\end{pmatrix}$\n"
   ]
  },
  {
   "cell_type": "markdown",
   "metadata": {
    "colab_type": "text",
    "id": "A23Asms-wz6T"
   },
   "source": [
    "#### Codice\n",
    "\n"
   ]
  },
  {
   "cell_type": "markdown",
   "metadata": {
    "colab_type": "text",
    "id": "vd92w1JFxddU"
   },
   "source": [
    ">\n",
    "    ```\n",
    "    codice\n",
    "    ```\n",
    "    \n",
    "```python\n",
    "import numpy as np\n",
    "a = np.array[1,2,3,4]\n",
    "print(\"Vettore:\", a)\n",
    "s  = np.sum()\n",
    "print(\"Somma degli elementi del vettore: \" + s)\n",
    "```"
   ]
  },
  {
   "cell_type": "markdown",
   "metadata": {
    "colab_type": "text",
    "id": "MX9wOmgKxyBw"
   },
   "source": [
    "#### Link\n"
   ]
  },
  {
   "cell_type": "markdown",
   "metadata": {
    "colab_type": "text",
    "id": "wQZTXBkZyOzK"
   },
   "source": [
    "> \n",
    "    [Github Repository](https://github.com/visiont3lab/tecnologie_data_science)\n",
    "\n",
    "[Github Repository](https://github.com/visiont3lab/tecnologie_data_science)"
   ]
  },
  {
   "cell_type": "markdown",
   "metadata": {
    "colab_type": "text",
    "id": "THFS-ugLyKDz"
   },
   "source": [
    "#### Image"
   ]
  },
  {
   "cell_type": "markdown",
   "metadata": {
    "colab_type": "text",
    "id": "vr6NPQjGyqj7"
   },
   "source": [
    "> \n",
    "    ![visionlab](https://raw.githubusercontent.com/visiont3lab/tecnologie_data_science/master/book/logo.png)\n",
    "\n",
    "![visionlab](https://raw.githubusercontent.com/visiont3lab/tecnologie_data_science/master/book/logo.png)"
   ]
  },
  {
   "cell_type": "markdown",
   "metadata": {
    "colab_type": "text",
    "id": "CdJECheqzBUc"
   },
   "source": [
    "#### Table\n"
   ]
  },
  {
   "cell_type": "markdown",
   "metadata": {
    "colab_type": "text",
    "id": "UJxDXBqZzM19"
   },
   "source": [
    ">\n",
    "\t| Syntax | Description |\n",
    "    | ----------- | ----------- |\n",
    "    | Header | Title |\n",
    "    | Paragraph | Text |\n",
    "\n",
    "| Syntax | Description |\n",
    "| ----------- | ----------- |\n",
    "| Header | Title |\n",
    "| Paragraph | Text |"
   ]
  },
  {
   "cell_type": "markdown",
   "metadata": {
    "colab_type": "text",
    "id": "GTvSPLUE2k-A"
   },
   "source": [
    "## Code Cell\n"
   ]
  },
  {
   "cell_type": "markdown",
   "metadata": {
    "colab_type": "text",
    "id": "Fk2UDy_U36OM"
   },
   "source": [
    "Una cella di codice serve per eseguire un programma scritto in linguaggio python. In particolare utilizzeremo sempre Python 3 Jupyter notebook.\n"
   ]
  },
  {
   "cell_type": "markdown",
   "metadata": {
    "colab_type": "text",
    "id": "xKoClhZ337Ft"
   },
   "source": [
    "### Shortcut per eseguire codice\n"
   ]
  },
  {
   "cell_type": "markdown",
   "metadata": {
    "colab_type": "text",
    "id": "NPlE2u6P47eQ"
   },
   "source": [
    "* Cliccando l'icona di **Play** della cella il codice contenuto in essa viene eseguito.\n",
    "* Cliccando  **Cmd/Ctrl+Enter** viene eseguito il codice della cella evidenziata.\n",
    "* Cliccando **Shift+Enter** viene eseguito il codice della cella evidenziata e il focus passa alla cella sucessiva.\n",
    "* Cliccando **Alt+Enter** viene eseguito il codice della cella e viene inserita anche un nuovo blocco di codice.\n"
   ]
  },
  {
   "cell_type": "markdown",
   "metadata": {
    "colab_type": "text",
    "id": "HhqD7dvQ5epq"
   },
   "source": [
    "### Suggerimenti e auto-completamento\n"
   ]
  },
  {
   "cell_type": "markdown",
   "metadata": {
    "colab_type": "text",
    "id": "_K6xnHAT5jWM"
   },
   "source": [
    "Google Colab ha un sistema di suggerimenti che viene triggerato schicciando Tab mentre si scrive codice. Esso è utile per scrivere velocemente codice ed evitare errori di sintassi."
   ]
  },
  {
   "cell_type": "code",
   "execution_count": 0,
   "metadata": {
    "colab": {},
    "colab_type": "code",
    "id": "mvgNkjkU33sE"
   },
   "outputs": [],
   "source": [
    "# Importare la libreria numpy\n",
    "import numpy as np"
   ]
  },
  {
   "cell_type": "code",
   "execution_count": 0,
   "metadata": {
    "colab": {},
    "colab_type": "code",
    "id": "jwNLfCxU7HND"
   },
   "outputs": [],
   "source": [
    "np.random. \n",
    "# Se si prova a scrivere np.random. vedremo\n",
    "# apparire dei suggerimenti\n",
    "# Se premiamo Tab apparirà anche la documentazione\n",
    "# associata alla funzione"
   ]
  },
  {
   "cell_type": "code",
   "execution_count": 0,
   "metadata": {
    "colab": {},
    "colab_type": "code",
    "id": "KslBi0ea53P5"
   },
   "outputs": [],
   "source": [
    "np.random?\n",
    "# Premendo Shift-Enter viene aperta la documentazione\n",
    "# Il punto interrogativo alla fine chiama\n",
    "# la documentazione quando il codice viene \n",
    "# eseguito"
   ]
  },
  {
   "cell_type": "markdown",
   "metadata": {
    "colab_type": "text",
    "id": "oFEj2Tdc7m0o"
   },
   "source": [
    "### Esecuzione di comandi \n"
   ]
  },
  {
   "cell_type": "markdown",
   "metadata": {
    "colab_type": "text",
    "id": "uuduJjV58f54"
   },
   "source": [
    "Google Colaboratory ci permette mediante uno Jupyter Notebook di eseguire il nostro codice Python e Mardown. Tuttavia è possibile che vi sia la necessità di installare programmi sul computer che ospita il nostro notebook. Per face ciò è necessario create una cella di codice e inserire il punto esclamativo **!** davanti all'istruzione che si vuole eseguire. Quest'ultima sarà un instruzione di sistema.  Siccome la macchina che ospita il nostro notebook è una macchina linux è comune utilizzare il linguaggio **bash** per eseguire comando.\n",
    "\n",
    "Jupyter notebbok fornisce una lista di comandi che possono essere utilizzati per scrivere codice javascript (**%%javascript**), nascondere gli ouput del codice eseguito (**%%capture**) o creare un file utilizzando il notebook (**%%writefile**). Tali comandi vanno inseriti all'inizio del blocco di codice. La lista completa dei comandi si trova [Built-in-Magics Commands](https://ipython.readthedocs.io/en/stable/interactive/magics.html#cell-magics) "
   ]
  },
  {
   "cell_type": "code",
   "execution_count": 18,
   "metadata": {
    "colab": {
     "base_uri": "https://localhost:8080/",
     "height": 33
    },
    "colab_type": "code",
    "id": "kKxrV6Ba-MX7",
    "outputId": "7c788d8a-06b3-40a1-ae6c-048a026358e8"
   },
   "outputs": [
    {
     "name": "stdout",
     "output_type": "stream",
     "text": [
      "/content\n"
     ]
    }
   ],
   "source": [
    "# Percorso file a cui sono\n",
    "!pwd"
   ]
  },
  {
   "cell_type": "code",
   "execution_count": 11,
   "metadata": {
    "colab": {
     "base_uri": "https://localhost:8080/",
     "height": 33
    },
    "colab_type": "code",
    "id": "nzaid7yf9aY_",
    "outputId": "0ffd722f-9fc0-4a3e-b842-5c081c9c89c3"
   },
   "outputs": [
    {
     "name": "stdout",
     "output_type": "stream",
     "text": [
      "sample_data\n"
     ]
    }
   ],
   "source": [
    "# Elencare i file contenuti in una cartella\n",
    "!ls"
   ]
  },
  {
   "cell_type": "code",
   "execution_count": 19,
   "metadata": {
    "colab": {
     "base_uri": "https://localhost:8080/",
     "height": 83
    },
    "colab_type": "code",
    "id": "bU9Od1Oi9a66",
    "outputId": "a2671dce-7b1c-46fe-a543-80cce022f985"
   },
   "outputs": [
    {
     "name": "stdout",
     "output_type": "stream",
     "text": [
      "anscombe.json\t\t      mnist_test.csv\n",
      "california_housing_test.csv   mnist_train_small.csv\n",
      "california_housing_train.csv  README.md\n",
      "/content/sample_data\n"
     ]
    }
   ],
   "source": [
    "# Elencare i file contenuti in una cartella\n",
    "!cd sample_data && ls "
   ]
  },
  {
   "cell_type": "code",
   "execution_count": 24,
   "metadata": {
    "colab": {
     "base_uri": "https://localhost:8080/",
     "height": 33
    },
    "colab_type": "code",
    "id": "DUQS50tz9oXb",
    "outputId": "51c3e0d1-fe80-4cf7-f2d7-8bf643022ac3"
   },
   "outputs": [
    {
     "name": "stdout",
     "output_type": "stream",
     "text": [
      "/content/sample_data\n"
     ]
    }
   ],
   "source": [
    "# Entrare in un cartella\n",
    "%cd sample_data/ "
   ]
  },
  {
   "cell_type": "code",
   "execution_count": 25,
   "metadata": {
    "colab": {
     "base_uri": "https://localhost:8080/",
     "height": 33
    },
    "colab_type": "code",
    "id": "3aNomQb-9xxF",
    "outputId": "f3827920-7da3-4a57-a880-a5ffd3644c2e"
   },
   "outputs": [
    {
     "name": "stdout",
     "output_type": "stream",
     "text": [
      "/content\n"
     ]
    }
   ],
   "source": [
    "# Muovermi nella cartella superiore\n",
    "%cd .."
   ]
  },
  {
   "cell_type": "code",
   "execution_count": 0,
   "metadata": {
    "colab": {},
    "colab_type": "code",
    "id": "f44jon7X-2fR"
   },
   "outputs": [],
   "source": [
    "# Nascondere l'output di un comando.\n",
    "# I comandi di installazione generano output verbosi che si \n",
    "# possono nascondere aggiungendo alla cella il comando\n",
    "%%capture\n",
    "\n",
    "# Installare un pacchetto python usando\n",
    "# pip package manager\n",
    "# !pip list # elencare i pacchetti installati\n",
    "!pip install names \n",
    "!apt-get -qq install -y libfluidsynth1"
   ]
  },
  {
   "cell_type": "code",
   "execution_count": 30,
   "metadata": {
    "colab": {
     "base_uri": "https://localhost:8080/",
     "height": 133
    },
    "colab_type": "code",
    "id": "sWag_S9cAu_K",
    "outputId": "7121e532-15a7-4365-c253-4d160502d389"
   },
   "outputs": [
    {
     "name": "stdout",
     "output_type": "stream",
     "text": [
      "Cloning into 'tecnologie_data_science'...\n",
      "remote: Enumerating objects: 41, done.\u001b[K\n",
      "remote: Counting objects: 100% (41/41), done.\u001b[K\n",
      "remote: Compressing objects: 100% (33/33), done.\u001b[K\n",
      "remote: Total 41 (delta 8), reused 12 (delta 0), pack-reused 0\u001b[K\n",
      "Unpacking objects: 100% (41/41), done.\n",
      "sample_data  tecnologie_data_science\n"
     ]
    }
   ],
   "source": [
    "# Clonare un repositorio git \n",
    "!git clone https://github.com/visiont3lab/tecnologie_data_science.git && ls"
   ]
  },
  {
   "cell_type": "code",
   "execution_count": 83,
   "metadata": {
    "colab": {
     "base_uri": "https://localhost:8080/",
     "height": 33
    },
    "colab_type": "code",
    "id": "XBkfgDSX_BX9",
    "outputId": "568e0e40-4de4-4e17-dd5d-7316132a57cd"
   },
   "outputs": [
    {
     "name": "stdout",
     "output_type": "stream",
     "text": [
      "Overwriting myLib.py\n"
     ]
    }
   ],
   "source": [
    "# Creazione di un file python myLib.py\n",
    "%%writefile myLib.py\n",
    "import numpy as np\n",
    "import plotly.graph_objects as go\n",
    "from matplotlib import pyplot as plt\n",
    "\n",
    "def myplot(x,y):\n",
    "    #fig = go.Figure()\n",
    "    #fig.add_trace( go.Scatter(x=x,y=y, mode=\"lines+markers\", name=\"Line\") )\n",
    "    fig = plt.plot(x,y)\n",
    "    return fig\n"
   ]
  },
  {
   "cell_type": "code",
   "execution_count": 86,
   "metadata": {
    "colab": {
     "base_uri": "https://localhost:8080/",
     "height": 264
    },
    "colab_type": "code",
    "id": "HxnRidB4JWdh",
    "outputId": "85177256-2ea4-46ec-b15a-a1a8712d4bac"
   },
   "outputs": [
    {
     "data": {
      "image/png": "[encoded data removed]",
      "text/plain": [
       "<Figure size 432x288 with 1 Axes>"
      ]
     },
     "metadata": {
      "needs_background": "light",
      "tags": []
     },
     "output_type": "display_data"
    }
   ],
   "source": [
    "# Utilizzo del file mylib.py creato\n",
    "from importlib import reload \n",
    "import myLib\n",
    "myLib = reload(myLib)\n",
    "\n",
    "x = np.arange(0.0, 2.0, 0.01)\n",
    "y = 1 + np.sin(2 * np.pi * x)\n",
    "fig = myLib.myplot(x,y)\n"
   ]
  },
  {
   "cell_type": "code",
   "execution_count": 72,
   "metadata": {
    "colab": {
     "base_uri": "https://localhost:8080/",
     "height": 183
    },
    "colab_type": "code",
    "id": "hkf_xNEwD7lH",
    "outputId": "40afdc4a-6756-426f-d7cc-fa4d34354313"
   },
   "outputs": [
    {
     "name": "stdout",
     "output_type": "stream",
     "text": [
      "m.txt\n",
      "myLib.py\n",
      "name.txt\n",
      "__pycache__\n",
      "sample_data\n",
      "tecnologie_data_science\n",
      "test.py\n",
      "1\n",
      "2\n",
      "3\n"
     ]
    }
   ],
   "source": [
    "%%script bash\n",
    "# È possibile scrivere codice bash\n",
    "ls > name.txt;\n",
    "cat name.txt\n",
    "for i in 1 2 3; do\n",
    "    echo $i\n",
    "done"
   ]
  },
  {
   "cell_type": "markdown",
   "metadata": {
    "colab_type": "text",
    "id": "dtAVg2sDKS4O"
   },
   "source": [
    "## Montare Google Drive come hard disk esterno"
   ]
  },
  {
   "cell_type": "markdown",
   "metadata": {
    "colab_type": "text",
    "id": "uk-pQLgBLT7O"
   },
   "source": [
    "Una delle qualità di Google Colaboratory  è il fatto che esso è connesso a Google Drive. Questo fa si che i notebook che vengono creati utilizzando Google Colab vengano automaticamente salvati nel drive dell'utente. Inoltre è possibile accedere al prorpio drive e lavorare con dei file contenuti in esso. Questo approccio è estramente interessante in quanto permette di combinare l'abilità di scrivere codice di Google Colab con le capacità di archiviazione file fornite da Google Drive.  Di seguito `è riporatata la sequenza di comandi necessaria per montare il drive dell'utente all'interno di Google Colab. \n",
    "\n",
    "La sequenza di instruzioni sucessiva equivale al bottone chiamata **Mount Drive** che si a sinistra nel gruppo **Files**."
   ]
  },
  {
   "cell_type": "code",
   "execution_count": 73,
   "metadata": {
    "colab": {
     "base_uri": "https://localhost:8080/",
     "height": 120
    },
    "colab_type": "code",
    "id": "n4LgN1RMKaFv",
    "outputId": "fda156fb-b770-4fa6-a7e9-825a8bb7cdeb"
   },
   "outputs": [
    {
     "name": "stdout",
     "output_type": "stream",
     "text": [
      "Go to this URL in a browser: https://accounts.google.com/o/oauth2/auth?client_id=947318989803-6bn6qk8qdgf4n4g3pfee6491hc0brc4i.apps.googleusercontent.com&redirect_uri=urn%3aietf%3awg%3aoauth%3a2.0%3aoob&response_type=code&scope=email%20https%3a%2f%2fwww.googleapis.com%2fauth%2fdocs.test%20https%3a%2f%2fwww.googleapis.com%2fauth%2fdrive%20https%3a%2f%2fwww.googleapis.com%2fauth%2fdrive.photos.readonly%20https%3a%2f%2fwww.googleapis.com%2fauth%2fpeopleapi.readonly\n",
      "\n",
      "Enter your authorization code:\n",
      "··········\n",
      "Mounted at /content/drive\n"
     ]
    }
   ],
   "source": [
    "from google.colab import drive\n",
    "drive.mount('/content/drive')"
   ]
  },
  {
   "cell_type": "code",
   "execution_count": 76,
   "metadata": {
    "colab": {
     "base_uri": "https://localhost:8080/",
     "height": 66
    },
    "colab_type": "code",
    "id": "LBpIP587KvUD",
    "outputId": "418997a7-9bfb-4dc3-8fc9-8297b3f68347"
   },
   "outputs": [
    {
     "name": "stdout",
     "output_type": "stream",
     "text": [
      "/content/drive/My Drive/lessons/tecnologie_data_science\n",
      "_Dani  Market-Basket-Analysis-master  _template_PySpark\n",
      "_Manu  tecnologie_data_science.xlsx\n"
     ]
    }
   ],
   "source": [
    "%cd /content/drive/My Drive/lessons/tecnologie_data_science\n",
    "!ls"
   ]
  }
 ],
 "metadata": {
  "colab": {
   "collapsed_sections": [],
   "name": "google-colab.ipynb",
   "provenance": []
  },
  "kernelspec": {
   "display_name": "Python 3",
   "language": "python",
   "name": "python3"
  },
  "language_info": {
   "codemirror_mode": {
    "name": "ipython",
    "version": 3
   },
   "file_extension": ".py",
   "mimetype": "text/x-python",
   "name": "python",
   "nbconvert_exporter": "python",
   "pygments_lexer": "ipython3",
   "version": "3.6.9"
  }
 },
 "nbformat": 4,
 "nbformat_minor": 1
}
