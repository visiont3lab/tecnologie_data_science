{
 "cells": [
  {
   "cell_type": "markdown",
   "metadata": {},
   "source": [
    "<a href=\"https://colab.research.google.com/github/visiont3lab/tecnologie_data_science/blob/master/book/docs/classification/binary_classifier.ipynb\" target=\"_parent\"><img src=\"https://colab.research.google.com/assets/colab-badge.svg\" alt=\"Open In Colab\"/></a>"
   ]
  },
  {
   "cell_type": "markdown",
   "metadata": {
    "colab_type": "text",
    "id": "0Mj9VgFnsx7J"
   },
   "source": [
    "# Binary classifier 5 or not 5 ?\n",
    "\n",
    "Obbiettivo: Implementare un algoritmo capace di classificare il numero 5 da un immagine. Se il numero 5 appare nell'immagine il rusultato sará vero altrimenti falso.\n",
    "\n",
    "Tematiche:\n",
    "  * Accuracy, Precision, Recall, F1 Score\n",
    "  * Roc curve\n",
    "  * Comparison binary vs random forest classifier"
   ]
  },
  {
   "cell_type": "markdown",
   "metadata": {
    "colab_type": "text",
    "id": "IfTWXst7dovr"
   },
   "source": [
    "## Teoria\n",
    "Quando parliamo di classificazione binaria possiamo avere quattro possibili risultati.\n",
    "  * TN True Negative\n",
    "  * TP True Positive\n",
    "  * FN False Negative\n",
    "  * FP False Positive\n",
    "\n",
    "| Risultato Esatto   | Risulato Predetto |  |\n",
    "|------------|---------------------------|--|\n",
    "|            |   Negativo | Positivo |\n",
    "|Negativo    |    TN      |    FP    |\n",
    "|Positivo    |    FN      |    TP    |\n",
    "\n",
    "### Metriche\n",
    "\n",
    "* Accuracy: $\\frac{TP+TN}{TP+TN+FP+FN}$\n",
    "\n",
    "Proportion of correct classifications (true positves and negatives) from overall number of cases.\n",
    "\n",
    "  Quante volte il nostro algoritmo ha predettto il risultato giusto? Sarebbe quante volte il classifcatore ha predetto vero ed era vero o a predetto falso ed era falso.\n",
    "\n",
    "* Recall or Sensitivity: $\\frac{TP}{TP+FN}$\n",
    "\n",
    "Proportion of correct positive classifications (true positives) from cases that are actually positive.\n",
    "\n",
    "  Quante volte il classificatore ha predetto vero ed era vero diviso lo stesso più quante volte il classificatore ha predetto falso ma in realtà era vero. La recall mi da la percentuale di quanto il mio algorimo ha risposto vero. Quante volte l'algorimo ha predetto che non era 5 ma in realtà lo era (in percentuale)? Percentuale di  volte che ho riconosciuto che era 5 rispetto a quante volte ho detto che non era 5 ma lo era.\n",
    "\n",
    "* Precision: $\\frac{TP}{TP+FP}$ \n",
    "\n",
    "Proportion of correct positive classifications (true positives) from cases that are predicted as  positive.\n",
    "\n",
    "  Percentuale che rappressenta la frazione tra quante valte l'algoritmo ha predetto vero ed era vero diviso lo stesso più quante volte l'algoritmo ha preddeto vero ma in realtà era falso. Nel nostro esempio quante volte l'algoritmo ha predetto 5 ma in realtà non lo era (in percentale)? Percentuale di  volte che ho riconosciuto che era 5 rispetto a quante volte ho detto che era 5 ma non lo era.\n",
    "\n",
    "\n",
    "Esempio:\n",
    "\n",
    "| Risultato Esatto   | Risulato Predetto |  |\n",
    "|------------|---------------------------|--|\n",
    "|            |   Negativo | Positivo |\n",
    "|Negativo    |    TN=97750     |    FP=150    |\n",
    "|Positivo    |    FN=330      |    TP=1770    |\n",
    "\n",
    "\n",
    "\n",
    "* Accuracy = $\\frac{TP+TN}{TP+TN+FP+FN} = \\frac{1770+97750}{100000}=0.9952$\n",
    "\n",
    "* Recall = $\\frac{TP}{TP+FN} = \\frac{1770}{1770+330}=0.8428$\n",
    "\n",
    "* Precision = $\\frac{TP}{TP+FP} = \\frac{1770}{1770+150}=0.9219$\n",
    "\n",
    "È un modello buono?\n",
    "\n",
    "Recall: percetuale di sbaglio dell'algoritmo nel predirre 5. 1 - 0.84 = 0.26%\n",
    "Quanto l'algoritmo sbaglia nel dare come risulta che il numero è 5. \n",
    "Voglio essere sicuro che tutte le volte che un numero è 5 io (classifier) lo riconosca come 5.\n",
    "\n",
    "Precision:Quanto l'algoritmo sbaglia nel dare come risulta che il numero non è 5\n",
    "Voglio essere sicuro che tutte le volte che un numero no è 5 (classifier) io lo riconosca come NON 5.\n",
    "\n",
    "Quindi possiamo concludere che il modello che abbiamo sarà ottimo nel riconoscere che in numero non è 5 (Precision=92%) mentre invece non sarà granche nel dire che il numero è 5 (Recall=84%)\n",
    "\n",
    "Tumori:\n",
    "Recall 95%: se vedo il tumore X lo riconosco al 95%. Quindi ho una bassa probabilità di di dire che \"X\" non è un tumore quando il realtà lo è.\n",
    "Prcecision 60%: se vedo X ed non è un tumore ho una percentuale alta 40% di dire chè lo è. Cioè ho una probabilità alta di sbagliarmi sul fatto che un un X non è un tumore e per me lo è. (Diciamo che tendo un po a dire che tutto è tumore per non sbagliare) \n"
   ]
  },
  {
   "cell_type": "markdown",
   "metadata": {
    "colab_type": "text",
    "id": "x7j8e4He1YM5"
   },
   "source": [
    "## Import Libraries"
   ]
  },
  {
   "cell_type": "code",
   "execution_count": 0,
   "metadata": {
    "colab": {},
    "colab_type": "code",
    "id": "8z2H2V_-s3ya"
   },
   "outputs": [],
   "source": [
    "from sklearn.datasets import fetch_openml\n",
    "import matplotlib as mpl\n",
    "import matplotlib.pyplot as plt\n",
    "import numpy as np\n",
    "from sklearn.ensemble import RandomForestClassifier\n",
    "from sklearn.model_selection import cross_val_score\n",
    "from sklearn.model_selection import cross_val_predict\n",
    "from sklearn.metrics import precision_score,recall_score\n",
    "from sklearn.metrics import confusion_matrix\n",
    "from sklearn.metrics import f1_score\n",
    "from sklearn.metrics import precision_recall_curve\n",
    "from sklearn.metrics import roc_curve, roc_auc_score"
   ]
  },
  {
   "cell_type": "markdown",
   "metadata": {
    "colab_type": "text",
    "id": "O7yGdPf-1avi"
   },
   "source": [
    "## Load the Dataset (MNIST)"
   ]
  },
  {
   "cell_type": "code",
   "execution_count": 0,
   "metadata": {
    "colab": {
     "base_uri": "https://localhost:8080/",
     "height": 107
    },
    "colab_type": "code",
    "id": "HKsVUCGYv1TW",
    "outputId": "3ca79c8a-e68e-470c-efe7-b196beecfae8"
   },
   "outputs": [
    {
     "name": "stdout",
     "output_type": "stream",
     "text": [
      "dict_keys(['data', 'target', 'frame', 'feature_names', 'target_names', 'DESCR', 'details', 'categories', 'url'])\n",
      "X_train shape:  (60000, 784)\n",
      "Y_train shape:  (60000,)\n",
      "X_test shape:  (10000, 784)\n",
      "Y_test shape:  (10000,)\n"
     ]
    }
   ],
   "source": [
    "mnist = fetch_openml('mnist_784', version=1)\n",
    "X = mnist = fetch_openml('mnist_784', version=1)\n",
    "X = mnist[\"data\"]\n",
    "Y = mnist[\"target\"]\n",
    "print(mnist.keys())\n",
    "Y = Y.astype(np.uint8) # convert string target to int\n",
    "X_train, X_test, Y_train, Y_test = X[:60000],X[60000:], Y[:60000], Y[60000:]\n",
    "# override\n",
    "Y_train = (Y_train == 5) # True for all 5s, False for all other digits.\n",
    "Y_test = (Y_test == 5)\n",
    "print(\"X_train shape: \", X_train.shape)\n",
    "print(\"Y_train shape: \", Y_train.shape)\n",
    "print(\"X_test shape: \", X_test.shape)\n",
    "print(\"Y_test shape: \", Y_test.shape)"
   ]
  },
  {
   "cell_type": "markdown",
   "metadata": {
    "colab_type": "text",
    "id": "OEmJMYi01d9s"
   },
   "source": [
    "## Classifier choice (Random Forest Classifier) and Training\n",
    "\n",
    "Come funziona la cross validation?\n",
    "https://911-code.com/come-e-scikit-imparare-cross_val_predict-precisione-punteggio-calcolato.html"
   ]
  },
  {
   "cell_type": "code",
   "execution_count": 0,
   "metadata": {
    "colab": {
     "base_uri": "https://localhost:8080/",
     "height": 35
    },
    "colab_type": "code",
    "id": "O62wZtNPuTw2",
    "outputId": "9f0e320f-4b58-4ed5-db58-6c9576a369c6"
   },
   "outputs": [
    {
     "name": "stdout",
     "output_type": "stream",
     "text": [
      "accuracy train set split in 3 set:  [0.98885 0.9863  0.98635]\n"
     ]
    }
   ],
   "source": [
    "clf = RandomForestClassifier(random_state=42)\n",
    "clf.fit(X_train, Y_train)\n",
    "accuracy_train = cross_val_score(clf, X_train, Y_train, cv=3, scoring=\"accuracy\")\n",
    "print(\"accuracy train set split in 3 set: \", accuracy_train)"
   ]
  },
  {
   "cell_type": "markdown",
   "metadata": {
    "colab_type": "text",
    "id": "GCk-z8jY1y7k"
   },
   "source": [
    "### Perfomance Metrics Analysis on Train Set"
   ]
  },
  {
   "cell_type": "code",
   "execution_count": 0,
   "metadata": {
    "colab": {},
    "colab_type": "code",
    "id": "3gpd_NjnvUk2"
   },
   "outputs": [],
   "source": [
    "Y_train_pred = cross_val_predict(clf, X_train,Y_train, cv=3)\n",
    "conf_matrix = confusion_matrix(Y_train, Y_train_pred)"
   ]
  },
  {
   "cell_type": "code",
   "execution_count": 0,
   "metadata": {
    "colab": {
     "base_uri": "https://localhost:8080/",
     "height": 161
    },
    "colab_type": "code",
    "id": "WFoaeCLyuzT2",
    "outputId": "a55a8431-ad8f-4f6a-da53-23c250ee513d"
   },
   "outputs": [
    {
     "name": "stdout",
     "output_type": "stream",
     "text": [
      "Confusion matrix Train Set: \n",
      "[[54362   217]\n",
      " [  309  5112]]\n",
      "Accuracy  0.99\n",
      "Precision  0.99\n",
      "Recall  0.87\n",
      "F1 Score  0.92\n",
      "Default  Threshold chosen:  0.51\n"
     ]
    }
   ],
   "source": [
    "print(\"Confusion matrix Train Set: \")\n",
    "print(conf_matrix)\n",
    "res_precision_train_score = precision_score(Y_train, Y_train_pred) \n",
    "res_recall_train_score = recall_score(Y_train, Y_train_pred) \n",
    "res_f1_train_score = f1_score(Y_train, Y_train_pred)\n",
    "print(\"Accuracy \", np.round(np.mean(accuracy_train),2) )\n",
    "print(\"Precision \", np.round(res_precision_train_score,2) )\n",
    "print(\"Recall \", np.round(res_recall_train_score,2) )\n",
    "print(\"F1 Score \", np.round(res_f1_train_score,2) )"
   ]
  },
  {
   "cell_type": "markdown",
   "metadata": {
    "colab_type": "text",
    "id": "NqUhgDS_rBDJ"
   },
   "source": [
    "* Recall: Quanto l'algoritmo sbaglia nel dare come risultato che il numero è 5.\n",
    "* Precision:  Quanto l'algoritmo sbaglia nel dare come risultato che il numero non è 5.\n",
    "\n",
    "Esiste un modo di allenare il classificatore in modo da avere una recall più alta del 93%? Cioè voglio essere sicuro che l'algoritmo quando veda 5 lo riconsca sempre piuttosto che quando veda NON 5 dica è non 5."
   ]
  },
  {
   "cell_type": "markdown",
   "metadata": {
    "colab_type": "text",
    "id": "MXMlaDl7iFdX"
   },
   "source": [
    "## Test Classifier"
   ]
  },
  {
   "cell_type": "code",
   "execution_count": 0,
   "metadata": {
    "colab": {
     "base_uri": "https://localhost:8080/",
     "height": 283
    },
    "colab_type": "code",
    "id": "wtyD4cNBiK3L",
    "outputId": "a7e5774a-25cc-46c0-b372-7e3862361b8f"
   },
   "outputs": [
    {
     "name": "stdout",
     "output_type": "stream",
     "text": [
      "Prediction (Not-5, Yes-5):  [[0.98 0.02]]\n"
     ]
    },
    {
     "data": {
      "image/png": "[encoded data removed]",
      "text/plain": [
       "<Figure size 432x288 with 1 Axes>"
      ]
     },
     "metadata": {
      "tags": []
     },
     "output_type": "display_data"
    }
   ],
   "source": [
    "test_img = X_test[766]  # 5\n",
    "test_img = X_test[1]  # 2\n",
    "Y_pred = clf.predict_proba([test_img])\n",
    "test_img = test_img.reshape(28, 28)\n",
    "plt.imshow(test_img, cmap = mpl.cm.binary,interpolation=\"nearest\")\n",
    "print(\"Prediction (Not-5, Yes-5): \", Y_pred)"
   ]
  },
  {
   "cell_type": "code",
   "execution_count": 0,
   "metadata": {
    "colab": {
     "base_uri": "https://localhost:8080/",
     "height": 35
    },
    "colab_type": "code",
    "id": "sSwSgRHk7v-j",
    "outputId": "9a8518b2-508c-4546-f313-98709b29df17"
   },
   "outputs": [
    {
     "name": "stdout",
     "output_type": "stream",
     "text": [
      "Default  Threshold chosen:  0.51\n"
     ]
    }
   ],
   "source": [
    "# Calculation default threshold\n",
    "Y_proba = cross_val_predict(clf, X_train,Y_train, cv=3, method=\"predict_proba\")\n",
    "Y_scores = Y_proba[:, 1]\n",
    "precisions, recalls, thresholds_pr = precision_recall_curve(Y_train, Y_scores)\n",
    "threshold_chosen =thresholds_pr[np.argmax(precisions >= res_precision_train_score)]\n",
    "print(\"Default  Threshold chosen: \", threshold_chosen )\n"
   ]
  },
  {
   "cell_type": "markdown",
   "metadata": {
    "colab_type": "text",
    "id": "XpJek8wqiMio"
   },
   "source": [
    "## Come definiamo la a threshold sulla probabilità per dire che un numero è o non è 5?"
   ]
  },
  {
   "cell_type": "markdown",
   "metadata": {
    "colab_type": "text",
    "id": "vs_zGaUYtKgq"
   },
   "source": [
    "### Recall - Precision threshold analysis"
   ]
  },
  {
   "cell_type": "code",
   "execution_count": 0,
   "metadata": {
    "colab": {
     "base_uri": "https://localhost:8080/",
     "height": 53
    },
    "colab_type": "code",
    "id": "5Ur9TnbVniYd",
    "outputId": "e1a0145f-cdf1-46d4-aa16-f508e468e84f"
   },
   "outputs": [
    {
     "name": "stdout",
     "output_type": "stream",
     "text": [
      "Y_proba shape  (60000, 2)\n",
      "Example Probabilities [Not-5, 5]:  [0.11 0.89]\n"
     ]
    }
   ],
   "source": [
    "Y_proba = cross_val_predict(clf, X_train,Y_train, cv=3, method=\"predict_proba\")\n",
    "print(\"Y_proba shape \",Y_proba.shape)\n",
    "print(\"Example Probabilities [Not-5, 5]: \",Y_proba[0])"
   ]
  },
  {
   "cell_type": "markdown",
   "metadata": {
    "colab_type": "text",
    "id": "FEV8oWeio_pB"
   },
   "source": [
    "Consideriamo solo la senconda colonna perchè ci interessa analizzare quando l'lagoritmo predice 5 se l'ha predetto correttamente oppure no."
   ]
  },
  {
   "cell_type": "code",
   "execution_count": 0,
   "metadata": {
    "colab": {
     "base_uri": "https://localhost:8080/",
     "height": 53
    },
    "colab_type": "code",
    "id": "MnrdmvuZn7Jh",
    "outputId": "f52edc82-2c82-4359-b81c-74c087ed96ea"
   },
   "outputs": [
    {
     "name": "stdout",
     "output_type": "stream",
     "text": [
      "Y_scores shape:  (60000,)\n",
      "Example Score [5]:  0.89\n"
     ]
    }
   ],
   "source": [
    "# Prendiamo solo la seconda colonna \n",
    "Y_scores = Y_proba[:, 1]\n",
    "print(\"Y_scores shape: \",Y_scores.shape)\n",
    "print(\"Example Score [5]: \",Y_scores[0])"
   ]
  },
  {
   "cell_type": "code",
   "execution_count": 0,
   "metadata": {
    "colab": {
     "base_uri": "https://localhost:8080/",
     "height": 279
    },
    "colab_type": "code",
    "id": "PN5CXfwzplcT",
    "outputId": "6b7363d7-b237-439e-df9e-a4a4deb09b9a"
   },
   "outputs": [
    {
     "data": {
      "image/png": "[encoded data removed]",
      "text/plain": [
       "<Figure size 432x288 with 1 Axes>"
      ]
     },
     "metadata": {
      "tags": []
     },
     "output_type": "display_data"
    }
   ],
   "source": [
    "precisions, recalls, thresholds_pr = precision_recall_curve(Y_train, Y_scores)\n",
    "def plot_precision_recall_vs_threshold(precisions,recalls, thresholds):\n",
    "  plt.plot(thresholds_pr, precisions[:-1], \"b--\", label=\"Precision\")\n",
    "  plt.plot(thresholds_pr, recalls[:-1], \"g-\", label=\"Recall\")\n",
    "  plt.legend()\n",
    "  plt.grid()\n",
    "\n",
    "plot_precision_recall_vs_threshold(precisions,recalls, thresholds_pr)\n",
    "plt.xlabel(\"Probabilities Threshold\")\n",
    "plt.ylabel(\"Percentage\")\n",
    "plt.show()"
   ]
  },
  {
   "cell_type": "markdown",
   "metadata": {
    "colab_type": "text",
    "id": "qnomlg_xp31E"
   },
   "source": [
    "Ora se scelgo di avere una precision di 0.96 quale sarà la mia recall e viceversa?"
   ]
  },
  {
   "cell_type": "code",
   "execution_count": 0,
   "metadata": {
    "colab": {
     "base_uri": "https://localhost:8080/",
     "height": 35
    },
    "colab_type": "code",
    "id": "sHynnXgkqoVp",
    "outputId": "31abf598-73f3-4d12-93b2-dfc5845fd503"
   },
   "outputs": [
    {
     "name": "stdout",
     "output_type": "stream",
     "text": [
      "True\n"
     ]
    }
   ],
   "source": [
    "print(Y_train[0])"
   ]
  },
  {
   "cell_type": "code",
   "execution_count": 0,
   "metadata": {
    "colab": {
     "base_uri": "https://localhost:8080/",
     "height": 53
    },
    "colab_type": "code",
    "id": "vr5oDYaNqFV3",
    "outputId": "c6c2f462-87da-4a80-e5f6-11ba1b2e2c6c"
   },
   "outputs": [
    {
     "name": "stdout",
     "output_type": "stream",
     "text": [
      "precision:  0.96 recall:  0.94\n",
      "Threshold precision:  0.35\n"
     ]
    }
   ],
   "source": [
    "# Set Precision\n",
    "chosen_precision = 0.96\n",
    "threshold_chosen =thresholds_pr[np.argmax(precisions >= chosen_precision)]\n",
    "Y_train_pred_new = (Y_scores >= threshold_chosen) # Set True if Y_scores > threshold_precision\n",
    "res_precision_train_score_new = precision_score(Y_train, Y_train_pred_new)\n",
    "res_recall_train_score_new = recall_score(Y_train, Y_train_pred_new)\n",
    "print(\"precision: \", np.round(res_precision_train_score_new,2), \"recall: \", np.round(res_recall_train_score_new,2))\n",
    "print(\"Threshold precision: \",threshold_chosen)"
   ]
  },
  {
   "cell_type": "code",
   "execution_count": 0,
   "metadata": {
    "colab": {
     "base_uri": "https://localhost:8080/",
     "height": 279
    },
    "colab_type": "code",
    "id": "vElqcZRmspSx",
    "outputId": "9fde4b6d-95af-44ac-c8f7-0b07c8c738c7"
   },
   "outputs": [
    {
     "data": {
      "image/png": "[encoded data removed]",
      "text/plain": [
       "<Figure size 432x288 with 1 Axes>"
      ]
     },
     "metadata": {
      "tags": []
     },
     "output_type": "display_data"
    }
   ],
   "source": [
    "plt.plot(recalls[:-1],precisions[:-1])\n",
    "plt.plot(res_recall_train_score,res_precision_train_score, 'ro')\n",
    "plt.xlabel(\"Recall\")\n",
    "plt.ylabel(\"Precision\")\n",
    "plt.grid()\n",
    "plt.show()"
   ]
  },
  {
   "cell_type": "code",
   "execution_count": 0,
   "metadata": {
    "colab": {
     "base_uri": "https://localhost:8080/",
     "height": 53
    },
    "colab_type": "code",
    "id": "CrpoSnJXrMSe",
    "outputId": "3c856fbb-73d9-4e54-9b52-2868493d1795"
   },
   "outputs": [
    {
     "name": "stdout",
     "output_type": "stream",
     "text": [
      "precision:  0.99 recall:  0.87\n",
      "Threshold recall:  0.51\n"
     ]
    }
   ],
   "source": [
    "# Set Precision\n",
    "chosen_recall = 0.87\n",
    "threshold_chosen = thresholds_pr[np.argmax(recalls <= chosen_recall)]\n",
    "Y_train_pred_new = (Y_scores >= threshold_chosen) # Set True if Y_scores > threshold_precision\n",
    "res_precision_train_score_new = precision_score(Y_train, Y_train_pred_new)\n",
    "res_recall_train_score_new = recall_score(Y_train, Y_train_pred_new)\n",
    "print(\"precision: \", np.round(res_precision_train_score_new,2), \"recall: \", np.round(res_recall_train_score_new,2))\n",
    "print(\"Threshold recall: \",threshold_chosen)"
   ]
  },
  {
   "cell_type": "markdown",
   "metadata": {
    "colab_type": "text",
    "id": "cgUOq2jB14kj"
   },
   "source": [
    "### Roc Curve threshold analysis"
   ]
  },
  {
   "cell_type": "markdown",
   "metadata": {
    "colab_type": "text",
    "id": "jll_EoUtyQVK"
   },
   "source": [
    "| Risultato Esatto   | Risulato Predetto |  |\n",
    "|------------|---------------------------|--|\n",
    "|            |   Negativo | Positivo |\n",
    "|Negativo    |    TN      |    FP    |\n",
    "|Positivo    |    FN      |    TP    |\n",
    "\n",
    "\n",
    "* False Positive Rate $FPR = \\frac{FP}{FP+TN}$\n",
    "* True Positive Rate (or recall) $TPR = \\frac{TP}{TP+FN}$\n",
    "* True Negative rate (or specificity):  $TNR = \\frac{TN}{FP+TN}$\n"
   ]
  },
  {
   "cell_type": "code",
   "execution_count": 0,
   "metadata": {
    "colab": {
     "base_uri": "https://localhost:8080/",
     "height": 351
    },
    "colab_type": "code",
    "id": "39-qRUCZSJXj",
    "outputId": "27bbf478-191b-44c8-9436-8a4df1bc4ec3"
   },
   "outputs": [
    {
     "name": "stdout",
     "output_type": "stream",
     "text": [
      "Binary classifier ROC AUC score:  0.9983436731328145\n",
      "Threhsold chosen : 0.34\n",
      "[[54362   217]\n",
      " [  309  5112]]\n"
     ]
    },
    {
     "data": {
      "image/png": "[encoded data removed]",
      "text/plain": [
       "<Figure size 432x288 with 1 Axes>"
      ]
     },
     "metadata": {
      "tags": []
     },
     "output_type": "display_data"
    }
   ],
   "source": [
    "fpr, tpr, thresholds_roc = roc_curve(Y_train, Y_scores)\n",
    "bin_roc_auc = roc_auc_score(Y_train, Y_scores)\n",
    "print(\"Binary classifier ROC AUC score: \", bin_roc_auc)\n",
    "\n",
    "chosen_tpr = 0.94 # same as recall\n",
    "threshold_chosen =thresholds_roc[np.argmax(tpr >= chosen_tpr)]\n",
    "print(\"Threhsold chosen :\", threshold_chosen)\n",
    "Y_train_pred_new = (Y_scores >= threshold_chosen)\n",
    "\n",
    "conf_matrix = confusion_matrix(Y_train, Y_train_pred_new)\n",
    "print(conf_matrix)\n",
    "TN = conf_matrix[0,0]\n",
    "FP = conf_matrix[0,1]\n",
    "FN = conf_matrix[1,0]\n",
    "TP = conf_matrix[1,1]\n",
    "chosen_fpr = FP/(FP+TN)\n",
    "chosen_tpr_check = TP/(TP+FN)\n",
    "#print(TN,FP,FN,TP)\n",
    "\n",
    "plt.plot(fpr, tpr, \"b--\", linewidth=2, label=\"binary_classifier\")\n",
    "plt.plot([0, 1], [0, 1], 'k--', label=\"random_classifier\") # random classifier\n",
    "plt.plot(chosen_fpr, chosen_tpr,'ro')\n",
    "plt.xlabel(\"False Positive Rate (FPR)\")\n",
    "plt.ylabel(\"True Positive Rate (TPR) recall\")\n",
    "plt.grid()\n",
    "plt.legend()\n",
    "plt.show()"
   ]
  },
  {
   "cell_type": "markdown",
   "metadata": {
    "colab_type": "text",
    "id": "DEfldCX12ZhR"
   },
   "source": [
    "## Test set analysis and Results"
   ]
  },
  {
   "cell_type": "code",
   "execution_count": 0,
   "metadata": {
    "colab": {
     "base_uri": "https://localhost:8080/",
     "height": 283
    },
    "colab_type": "code",
    "id": "oIXgU63N6gqL",
    "outputId": "56c8759f-0dd2-40d4-9c48-79079053305e"
   },
   "outputs": [
    {
     "name": "stdout",
     "output_type": "stream",
     "text": [
      "Prediction (Not-5, Yes-5):  [ True]\n"
     ]
    },
    {
     "data": {
      "image/png": "[encoded data removed]",
      "text/plain": [
       "<Figure size 432x288 with 1 Axes>"
      ]
     },
     "metadata": {
      "tags": []
     },
     "output_type": "display_data"
    }
   ],
   "source": [
    "test_img = X_test[766]  # 5\n",
    "#test_img = X_test[1]  # 2\n",
    "Y_pred_proba = clf.predict_proba([test_img])\n",
    "Y_score = Y_pred_proba[:, 1]\n",
    "Y_pred = (Y_score >= threshold_chosen)\n",
    "test_img = test_img.reshape(28, 28)\n",
    "plt.imshow(test_img, cmap = mpl.cm.binary,interpolation=\"nearest\")\n",
    "print(\"Prediction (Not-5, Yes-5): \", Y_pred)"
   ]
  },
  {
   "cell_type": "markdown",
   "metadata": {
    "colab_type": "text",
    "id": "P_jysF-gSNbz"
   },
   "source": [
    "## Considerations"
   ]
  },
  {
   "cell_type": "markdown",
   "metadata": {
    "colab_type": "text",
    "id": "Za6vJhBmQCI2"
   },
   "source": [
    "As a rule of thumb,you should prefer the PR curve whenever the positive class is rare orwhen you care more about the false positives than the false negatives,and the ROC curve otherwise. For example, looking at the previousROC curve (and the ROC AUC score), you may think that the classifieris really good. But this is mostly because there are few positives (5s)compared to the negatives (non-5s). In contrast, the PR curve makes itclear that the classifier has room for improvement (the curve could becloser to the top-right corner "
   ]
  },
  {
   "cell_type": "markdown",
   "metadata": {
    "colab_type": "text",
    "id": "6FvAl_fxg5JE"
   },
   "source": [
    "## Extra: Cross validation imaplementation"
   ]
  },
  {
   "cell_type": "code",
   "execution_count": 0,
   "metadata": {
    "colab": {},
    "colab_type": "code",
    "id": "4wTF0w6Lg6g1"
   },
   "outputs": [],
   "source": [
    "# Custom implementation of cross validation\n",
    "# This code does the same of cross_val_score()\n",
    "from sklearn.model_selection import StratifiedKFold\n",
    "from sklearn.base import clone\n",
    "skfolds = StratifiedKFold(n_splits=3, random_state=42)\n",
    "for train_index, test_index in skfolds.split(X_train, Y_train_5):\n",
    "  clone_clf = clone(sgd_clf)\n",
    "  X_train_folds = X_train[train_index]\n",
    "  Y_train_folds = Y_train_5[train_index]\n",
    "  X_test_fold = X_train[test_index]\n",
    "  Y_test_fold = Y_train_5[test_index]\n",
    "  clone_clf.fit(X_train_folds, Y_train_folds)\n",
    "  Y_pred = clone_clf.predict(X_test_fold)\n",
    "  n_correct = sum(Y_pred == Y_test_fold)\n",
    "  print(n_correct / len(Y_pred)) # prints 0.9502, 0.96565 and 0.96495"
   ]
  }
 ],
 "metadata": {
  "colab": {
   "collapsed_sections": [],
   "name": "binary_classification.ipynb",
   "provenance": [],
   "toc_visible": true
  },
  "kernelspec": {
   "display_name": "Python 3",
   "language": "python",
   "name": "python3"
  },
  "language_info": {
   "codemirror_mode": {
    "name": "ipython",
    "version": 3
   },
   "file_extension": ".py",
   "mimetype": "text/x-python",
   "name": "python",
   "nbconvert_exporter": "python",
   "pygments_lexer": "ipython3",
   "version": "3.6.9"
  }
 },
 "nbformat": 4,
 "nbformat_minor": 1
}
